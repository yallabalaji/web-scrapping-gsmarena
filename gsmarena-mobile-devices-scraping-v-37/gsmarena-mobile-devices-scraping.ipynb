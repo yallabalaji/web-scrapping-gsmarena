{
 "cells": [
  {
   "cell_type": "markdown",
   "metadata": {},
   "source": [
    "#  WebScraping Latest Mobile-Devices from GSMArena\n",
    "\n",
    "## Using Python, Requests and Beautifulsoup4"
   ]
  },
  {
   "cell_type": "markdown",
   "metadata": {},
   "source": [
    "![](https://i.imgur.com/9Rv18FX.jpg)"
   ]
  },
  {
   "cell_type": "markdown",
   "metadata": {},
   "source": [
    "# Introduction : \n",
    "\n",
    "```GSMArena.com``` is an online information database and index of mobile phones, reviews, news, specifications, and more that offers reviews of electronic devices like mobile phones, tablets, and other features like comparison and finder. This service is provided free of charge by Gsmarena.com.\n",
    "\n",
    "In addition to updated latest data, the website has information on every mobile handset launched by every brand. It is Wikipedia of mobile handsets.\n",
    "\n",
    "One can get any information about every mobile. We are going to scrape every brand that existed in the mobile device category and get the latest launched mobile details for each brand.\n",
    "\n",
    "This project is a part of Data Science and Machine learning Bootcamp Course hosted in Jovian.\n",
    "\n",
    "Scraping a website involves fetching a page and extracting data from it. When a user views a page, the browser downloads it.\n",
    "\n",
    "A number of tools/libraries are available for scraping the information.\n",
    "\n",
    "Here in this project we will Web Scrape GSMArena website using Python libraries like Requests and BeautifulSoup4. We will build many functions to extract a handful of features to build our dataset. We will write the dataset information in the CSV format.\n",
    "\n",
    "We will scrape GSMArena Website to extract data for the All Brands and latest launched mobiles in the world.\n",
    "\n"
   ]
  },
  {
   "cell_type": "markdown",
   "metadata": {},
   "source": [
    "# Outline of the Project:\n",
    "\n",
    "- Download GSMArena Web Page.\n",
    "\n",
    "- Parse the HTML code of webpage.\n",
    "\n",
    "- Extract the data from the parsed HTML page in dictionary.\n",
    "\n",
    "- Create a list of data in dictionaries.\n",
    "\n",
    "- Write data to CSV using Pandas DataFrame."
   ]
  },
  {
   "cell_type": "markdown",
   "metadata": {},
   "source": [
    "# Project Steps : \n",
    "\n",
    "- Project is Divided into two parts. \n",
    "\n",
    "- Part One - Getting Brands Existed\n",
    "- Part Two - Scrape latest launched devices for each Brand\n",
    "\n",
    "\n",
    "\n",
    "1)  Getting Brands Existed\n",
    "\n",
    "- Download the GSMArena Makers(Brands) WebPage using requests library.\n",
    "\n",
    "- Parse the webpage using BeautifulSoup4. \n",
    "\n",
    "- WebPage contains information of 119 Brands.\n",
    "\n",
    "- We are Going to Extract the following data from each brand in csv format :\n",
    "\n",
    "- For that we are creating list as :\n",
    "\n",
    "``` Brand_Name``` , ```No.of.devices.launched ``` , ```Brand's Url```\n",
    "\n",
    "- Using python dict , we send these list as data.\n",
    "\n",
    "- By using Pandas we send the dict , which then converted into CSV\n",
    "\n",
    "\n",
    "2) Getting latest launched devices for each Brand\n",
    "\n",
    "- With the help of requests library download the Brand webpage using the URL from Brand URL list\n",
    "\n",
    "- Parse the Brand WebPage using Beautiful Soup Library.\n",
    "\n",
    "- Write functions to extract information from the Parsed HTML Page. \n",
    "\n",
    "- The data extracted for each Brand include:\n",
    "\n",
    "```device_name```, ```announced date```,```features```,```device_url```\n",
    "\n",
    "- Using python dict , we send these list as data.\n",
    "\n",
    "- By using Pandas we send the dict , which then converted into CSV"
   ]
  },
  {
   "cell_type": "markdown",
   "metadata": {},
   "source": [
    "## Installation Of Required Python Libraries for Project"
   ]
  },
  {
   "cell_type": "code",
   "execution_count": 1,
   "metadata": {},
   "outputs": [],
   "source": [
    "!pip install beautifulsoup4 --quiet\n",
    "!pip install requests --quiet"
   ]
  },
  {
   "cell_type": "code",
   "execution_count": 2,
   "metadata": {},
   "outputs": [],
   "source": [
    "import requests\n",
    "from bs4 import BeautifulSoup\n",
    "import pandas as pd\n",
    "import os\n"
   ]
  },
  {
   "cell_type": "markdown",
   "metadata": {},
   "source": [
    "- We will be using requests , Beautifulsoup4 , pandas , os libraries for Web Scrapping. "
   ]
  },
  {
   "cell_type": "markdown",
   "metadata": {},
   "source": [
    "## Extracting the Page"
   ]
  },
  {
   "cell_type": "markdown",
   "metadata": {},
   "source": [
    "- With the help of reusable functions we are completing the code\n",
    "- Download GSMArena Web Page.\n",
    "\n",
    "- Parse the HTML code of webpage."
   ]
  },
  {
   "cell_type": "code",
   "execution_count": 1,
   "metadata": {},
   "outputs": [],
   "source": [
    "def get_page():\n",
    "    \n",
    "    # GSMArena Mobiles Url\n",
    "    mobiles_url = 'https://www.gsmarena.com/makers.php3'\n",
    "    \n",
    "    # With help of Request Libarary we are getting the page \n",
    "    response = requests.get(mobiles_url,headers = {'User-agent': 'Super Bot Power Level Over 9000'}) \n",
    "    \n",
    "    #Checking Whether It is Successfully Loaded or Not\n",
    "    if response.status_code != 200:\n",
    "        raise Exception('Failed to load data {}'.format(mobiles_url))\n",
    "    \n",
    "    #With Beautiful Soup Library parsing the response\n",
    "    doc = BeautifulSoup(response.text, 'html.parser')\n",
    "    \n",
    "    #Returning the Page in doc \n",
    "    return doc\n",
    "    "
   ]
  },
  {
   "cell_type": "code",
   "execution_count": 6,
   "metadata": {},
   "outputs": [],
   "source": [
    "doc = get_page() #calling the get_page function"
   ]
  },
  {
   "cell_type": "code",
   "execution_count": 7,
   "metadata": {},
   "outputs": [
    {
     "data": {
      "text/plain": [
       "bs4.BeautifulSoup"
      ]
     },
     "execution_count": 7,
     "metadata": {},
     "output_type": "execute_result"
    }
   ],
   "source": [
    "# It is a Beautiful Soup Object\n",
    "type(doc)"
   ]
  },
  {
   "cell_type": "markdown",
   "metadata": {},
   "source": [
    "## First Part Of The Problem - Getting All Brands Dictionary\n",
    "\n",
    "- Part One of The Project Requires Two Functions :"
   ]
  },
  {
   "cell_type": "markdown",
   "metadata": {},
   "source": [
    "### 1. scrape_brands()\n",
    "\n",
    "- we will be  defining a function called scrape_brands() which will scrape all the required tags that are necessary for building the project. All the tags for each brand is filtered out.\n",
    "\n",
    "### 2. get_brands_dict()\n",
    "\n",
    "- we will be using a helper function  called get_brands_dict() for creating the dictionary of each brand having attributes like BrandName,DevicesCount,BrandUrl\n"
   ]
  },
  {
   "cell_type": "markdown",
   "metadata": {},
   "source": [
    "\n",
    "- The Building Of functions will be done step by step and at the end of each part the final functions willbe created\n",
    "\n",
    "1) Getting Brand Name\n",
    "2) Number of Devices Launched\n",
    "3) Brands Url\n"
   ]
  },
  {
   "cell_type": "code",
   "execution_count": 5,
   "metadata": {},
   "outputs": [],
   "source": [
    "mobiles_url = 'https://www.gsmarena.com/makers.php3' # Loading URL"
   ]
  },
  {
   "cell_type": "code",
   "execution_count": 6,
   "metadata": {},
   "outputs": [],
   "source": [
    "response = requests.get(mobiles_url) "
   ]
  },
  {
   "cell_type": "code",
   "execution_count": 7,
   "metadata": {},
   "outputs": [
    {
     "data": {
      "text/plain": [
       "200"
      ]
     },
     "execution_count": 7,
     "metadata": {},
     "output_type": "execute_result"
    }
   ],
   "source": [
    "response.status_code # if it gives a status code which is 200 - > Success"
   ]
  },
  {
   "cell_type": "code",
   "execution_count": 12,
   "metadata": {},
   "outputs": [],
   "source": [
    "page_contents = response.text  # Page Downloaded Successfully"
   ]
  },
  {
   "cell_type": "code",
   "execution_count": 13,
   "metadata": {},
   "outputs": [
    {
     "data": {
      "text/plain": [
       "'<!doctype html>\\r\\n<html xmlns=\"http://www.w3.org/1999/xhtml\" xml:lang=\"en-US\" lang=\"en-US\">\\r\\n<head>\\r\\n<title>List of all mobile phone brands - GSMArena.com</title>\\r\\n<script>\\r\\nDESKTOP_BASE_URL = \"https://www.gsmarena.com/\";\\r\\nMOBILE_BASE_URL = \"https://m.gsmarena.com/\";\\r\\nASSETS_BASE_URL  = \"https://fdn.gsmarena.com/vv/assets12/\";\\r\\nCDN_BASE_URL = \"//fdn.gsmarena.com/\";\\r\\nCDN2_BASE_URL = \"//fdn2.gsmarena.com/\";\\r\\n</script>\\r\\n\\r\\n\\r\\n<meta charset=\"utf-8\">\\r\\n<meta name=\"viewport\" content=\"width=1060, initial-scale=1.0\">\\r\\n<link rel=\"stylesheet\" href=\"https://fdn.gsmarena.com/vv/assets12/css/gsmarena.css?v=64\">\\r\\n\\r\\n<link rel=\"shortcut icon\" href=\"https://fdn.gsmarena.com/imgroot/static/favicon.ico\">\\r\\n\\r\\n\\r\\n<script>\\r\\nwindow[\"pgGlobalSettings\"] = {\\r\\n    \"global\": {\\r\\n        \"strategy\": \"include\"\\r\\n    },\\r\\n    \"adUnits\": []\\r\\n};\\r\\n\\r\\nfunction addAdUnit(adUnitCode) {\\r\\n    window.pgGlobalSettings.adUnits.push({ \"adUnitCode\": adUnitCode });\\r\\n};\\r\\n\\r\\n\\t\\r\\n\\taddAdUnit(\"/8095840,14566801/.2_A.34912.3_gsmarena.com_tier1\");\\r'"
      ]
     },
     "execution_count": 13,
     "metadata": {},
     "output_type": "execute_result"
    }
   ],
   "source": [
    "page_contents[:1000]  #First 1000 characters"
   ]
  },
  {
   "cell_type": "code",
   "execution_count": 14,
   "metadata": {},
   "outputs": [],
   "source": [
    "with open('mobilepage.html' , 'w') as f:\n",
    "    f.write(page_contents)"
   ]
  },
  {
   "cell_type": "markdown",
   "metadata": {},
   "source": [
    "Image Inside File Explorer -- WebPage Downloaded As MobilePage.html"
   ]
  },
  {
   "cell_type": "markdown",
   "metadata": {},
   "source": [
    "![](https://i.imgur.com/7XFnu8Z.jpg)"
   ]
  },
  {
   "cell_type": "markdown",
   "metadata": {},
   "source": [
    "GSM Arena Brand Page Downloaded"
   ]
  },
  {
   "cell_type": "markdown",
   "metadata": {},
   "source": [
    "![](https://i.imgur.com/bemeAZE.jpg)"
   ]
  },
  {
   "cell_type": "code",
   "execution_count": 16,
   "metadata": {},
   "outputs": [],
   "source": [
    "doc = BeautifulSoup(page_contents,'html.parser') # beautifulsoup takes page contents and parses as html"
   ]
  },
  {
   "cell_type": "markdown",
   "metadata": {},
   "source": [
    "![](https://i.imgur.com/2PTfaeM.png)"
   ]
  },
  {
   "cell_type": "markdown",
   "metadata": {},
   "source": [
    "- After Inspecting the elements , It has been found that td tag has all the required Data"
   ]
  },
  {
   "cell_type": "code",
   "execution_count": 17,
   "metadata": {},
   "outputs": [],
   "source": [
    "mobile_brand_tags = doc.find_all('td')  "
   ]
  },
  {
   "cell_type": "code",
   "execution_count": 18,
   "metadata": {},
   "outputs": [
    {
     "data": {
      "text/plain": [
       "119"
      ]
     },
     "execution_count": 18,
     "metadata": {},
     "output_type": "execute_result"
    }
   ],
   "source": [
    "len(mobile_brand_tags)"
   ]
  },
  {
   "cell_type": "markdown",
   "metadata": {},
   "source": [
    "There Exist 119 Brands of Mobile launched in The Industry"
   ]
  },
  {
   "cell_type": "markdown",
   "metadata": {},
   "source": [
    "Lets Get First Device Brand in the Website"
   ]
  },
  {
   "cell_type": "code",
   "execution_count": 19,
   "metadata": {},
   "outputs": [
    {
     "data": {
      "text/plain": [
       "<td><a href=\"acer-phones-59.php\">Acer<br/><span>100 devices</span></a></td>"
      ]
     },
     "execution_count": 19,
     "metadata": {},
     "output_type": "execute_result"
    }
   ],
   "source": [
    "first_device=mobile_brand_tags[0]\n",
    "first_device"
   ]
  },
  {
   "cell_type": "markdown",
   "metadata": {},
   "source": [
    "Let us get the Brand Name from the Tag"
   ]
  },
  {
   "cell_type": "code",
   "execution_count": 20,
   "metadata": {},
   "outputs": [
    {
     "data": {
      "text/plain": [
       "'Acer'"
      ]
     },
     "execution_count": 20,
     "metadata": {},
     "output_type": "execute_result"
    }
   ],
   "source": [
    "first_device.find('br').previousSibling"
   ]
  },
  {
   "cell_type": "markdown",
   "metadata": {},
   "source": [
    "So We Got the First device Brand as Acer"
   ]
  },
  {
   "cell_type": "markdown",
   "metadata": {},
   "source": [
    "Now Let us get the brand names of all the devices in the website. We will create a list for it"
   ]
  },
  {
   "cell_type": "code",
   "execution_count": 21,
   "metadata": {},
   "outputs": [],
   "source": [
    "Brands = []\n",
    "for tag in mobile_brand_tags:\n",
    "    Brands.append(tag.find('br').previousSibling)"
   ]
  },
  {
   "cell_type": "code",
   "execution_count": 23,
   "metadata": {},
   "outputs": [
    {
     "name": "stdout",
     "output_type": "stream",
     "text": [
      "['Acer', 'alcatel', 'Allview', 'Amazon', 'Amoi', 'Apple', 'Archos', 'Asus', 'AT&T', 'Benefon', 'BenQ', 'BenQ-Siemens', 'Bird', 'BlackBerry', 'Blackview', 'BLU', 'Bosch', 'BQ', 'Casio', 'Cat']\n"
     ]
    }
   ],
   "source": [
    "print(Brands[:20]) # priniting first 20 Brands of the Mobiles"
   ]
  },
  {
   "cell_type": "markdown",
   "metadata": {},
   "source": [
    "We have got all the brand names in brand list"
   ]
  },
  {
   "cell_type": "markdown",
   "metadata": {},
   "source": [
    "In the same fashion lets get the url for the first device"
   ]
  },
  {
   "cell_type": "code",
   "execution_count": 24,
   "metadata": {},
   "outputs": [
    {
     "data": {
      "text/plain": [
       "'acer-phones-59.php'"
      ]
     },
     "execution_count": 24,
     "metadata": {},
     "output_type": "execute_result"
    }
   ],
   "source": [
    "first_device.find('a')['href']"
   ]
  },
  {
   "cell_type": "markdown",
   "metadata": {},
   "source": [
    "complete_url = root_url(base_url) + url_retrived_from_scrapping"
   ]
  },
  {
   "cell_type": "markdown",
   "metadata": {},
   "source": [
    "Now lets  get the number of devices for the first_device"
   ]
  },
  {
   "cell_type": "code",
   "execution_count": 25,
   "metadata": {},
   "outputs": [
    {
     "data": {
      "text/plain": [
       "'100 devices'"
      ]
     },
     "execution_count": 25,
     "metadata": {},
     "output_type": "execute_result"
    }
   ],
   "source": [
    "first_device.find('span').text.strip()"
   ]
  },
  {
   "cell_type": "markdown",
   "metadata": {},
   "source": [
    "Looks like First brand Acer has launched 100 devices until now"
   ]
  },
  {
   "cell_type": "markdown",
   "metadata": {},
   "source": [
    "Lets get the Number of devices Launched By Every Brand in the industry from website"
   ]
  },
  {
   "cell_type": "code",
   "execution_count": 26,
   "metadata": {},
   "outputs": [],
   "source": [
    "Devices = []\n",
    "for tag in mobile_brand_tags:\n",
    "    Devices.append(tag.find('span').text.strip())"
   ]
  },
  {
   "cell_type": "code",
   "execution_count": 27,
   "metadata": {},
   "outputs": [
    {
     "name": "stdout",
     "output_type": "stream",
     "text": [
      "['100 devices', '407 devices', '157 devices', '22 devices', '47 devices', '108 devices', '43 devices', '196 devices', '4 devices', '9 devices', '35 devices', '27 devices', '61 devices', '92 devices', '45 devices', '360 devices', '10 devices', '20 devices', '5 devices', '21 devices']\n"
     ]
    }
   ],
   "source": [
    "print(Devices[:20])"
   ]
  },
  {
   "cell_type": "markdown",
   "metadata": {},
   "source": [
    "We have got the Information of Every Brand Number of Devices launched "
   ]
  },
  {
   "cell_type": "markdown",
   "metadata": {},
   "source": [
    "We found the url and when it is appended to base url the complete url is displayed"
   ]
  },
  {
   "cell_type": "markdown",
   "metadata": {},
   "source": [
    "Lets get the Url for every Brand and create list for urls"
   ]
  },
  {
   "cell_type": "code",
   "execution_count": 28,
   "metadata": {},
   "outputs": [],
   "source": [
    "base_url = \"https://www.gsmarena.com/\"\n",
    "Urls = []\n",
    "for tag in mobile_brand_tags:\n",
    "    Urls.append(base_url +tag.find('a')['href'])"
   ]
  },
  {
   "cell_type": "markdown",
   "metadata": {},
   "source": [
    "We found the URL's  every brand and appended in the list."
   ]
  },
  {
   "cell_type": "code",
   "execution_count": 30,
   "metadata": {},
   "outputs": [
    {
     "data": {
      "text/plain": [
       "['https://www.gsmarena.com/acer-phones-59.php',\n",
       " 'https://www.gsmarena.com/alcatel-phones-5.php',\n",
       " 'https://www.gsmarena.com/allview-phones-88.php',\n",
       " 'https://www.gsmarena.com/amazon-phones-76.php',\n",
       " 'https://www.gsmarena.com/amoi-phones-28.php',\n",
       " 'https://www.gsmarena.com/apple-phones-48.php',\n",
       " 'https://www.gsmarena.com/archos-phones-90.php',\n",
       " 'https://www.gsmarena.com/asus-phones-46.php',\n",
       " 'https://www.gsmarena.com/at&t-phones-57.php',\n",
       " 'https://www.gsmarena.com/benefon-phones-15.php',\n",
       " 'https://www.gsmarena.com/benq-phones-31.php',\n",
       " 'https://www.gsmarena.com/benq_siemens-phones-42.php',\n",
       " 'https://www.gsmarena.com/bird-phones-34.php',\n",
       " 'https://www.gsmarena.com/blackberry-phones-36.php',\n",
       " 'https://www.gsmarena.com/blackview-phones-116.php',\n",
       " 'https://www.gsmarena.com/blu-phones-67.php',\n",
       " 'https://www.gsmarena.com/bosch-phones-10.php',\n",
       " 'https://www.gsmarena.com/bq-phones-108.php',\n",
       " 'https://www.gsmarena.com/casio-phones-77.php',\n",
       " 'https://www.gsmarena.com/cat-phones-89.php']"
      ]
     },
     "execution_count": 30,
     "metadata": {},
     "output_type": "execute_result"
    }
   ],
   "source": [
    "Urls[:20]"
   ]
  },
  {
   "cell_type": "markdown",
   "metadata": {},
   "source": [
    "Lets Create a CSV File (Brand_Name,Devices_Launched,Brand_Url) from Pandas Data Frame"
   ]
  },
  {
   "cell_type": "markdown",
   "metadata": {},
   "source": [
    "Firstly we will create the dictionary out of lists previously created using Brands , Devices , Urls"
   ]
  },
  {
   "cell_type": "code",
   "execution_count": 31,
   "metadata": {},
   "outputs": [],
   "source": [
    "mobiles_dict = {\n",
    "    \n",
    "    'Brands' : Brands,\n",
    "    'Number_Of_Devices':Devices,\n",
    "    'Urls':Urls\n",
    "    \n",
    "}"
   ]
  },
  {
   "cell_type": "code",
   "execution_count": 32,
   "metadata": {},
   "outputs": [
    {
     "data": {
      "text/plain": [
       "{'Brands': ['Acer',\n",
       "  'alcatel',\n",
       "  'Allview',\n",
       "  'Amazon',\n",
       "  'Amoi',\n",
       "  'Apple',\n",
       "  'Archos',\n",
       "  'Asus',\n",
       "  'AT&T',\n",
       "  'Benefon',\n",
       "  'BenQ',\n",
       "  'BenQ-Siemens',\n",
       "  'Bird',\n",
       "  'BlackBerry',\n",
       "  'Blackview',\n",
       "  'BLU',\n",
       "  'Bosch',\n",
       "  'BQ',\n",
       "  'Casio',\n",
       "  'Cat',\n",
       "  'Celkon',\n",
       "  'Chea',\n",
       "  'Coolpad',\n",
       "  'Dell',\n",
       "  'Doogee',\n",
       "  'Emporia',\n",
       "  'Energizer',\n",
       "  'Ericsson',\n",
       "  'Eten',\n",
       "  'Fairphone',\n",
       "  'Fujitsu Siemens',\n",
       "  'Garmin-Asus',\n",
       "  'Gigabyte',\n",
       "  'Gionee',\n",
       "  'Google',\n",
       "  'Haier',\n",
       "  'Honor',\n",
       "  'HP',\n",
       "  'HTC',\n",
       "  'Huawei',\n",
       "  'i-mate',\n",
       "  'i-mobile',\n",
       "  'Icemobile',\n",
       "  'Infinix',\n",
       "  'Innostream',\n",
       "  'iNQ',\n",
       "  'Intex',\n",
       "  'Jolla',\n",
       "  'Karbonn',\n",
       "  'Kyocera',\n",
       "  'Lava',\n",
       "  'LeEco',\n",
       "  'Lenovo',\n",
       "  'LG',\n",
       "  'Maxon',\n",
       "  'Maxwest',\n",
       "  'Meizu',\n",
       "  'Micromax',\n",
       "  'Microsoft',\n",
       "  'Mitac',\n",
       "  'Mitsubishi',\n",
       "  'Modu',\n",
       "  'Motorola',\n",
       "  'MWg',\n",
       "  'NEC',\n",
       "  'Neonode',\n",
       "  'NIU',\n",
       "  'Nokia',\n",
       "  'Nothing',\n",
       "  'Nvidia',\n",
       "  'O2',\n",
       "  'OnePlus',\n",
       "  'Oppo',\n",
       "  'Orange',\n",
       "  'Palm',\n",
       "  'Panasonic',\n",
       "  'Pantech',\n",
       "  'Parla',\n",
       "  'Philips',\n",
       "  'Plum',\n",
       "  'Posh',\n",
       "  'Prestigio',\n",
       "  'QMobile',\n",
       "  'Qtek',\n",
       "  'Razer',\n",
       "  'Realme',\n",
       "  'Sagem',\n",
       "  'Samsung',\n",
       "  'Sendo',\n",
       "  'Sewon',\n",
       "  'Sharp',\n",
       "  'Siemens',\n",
       "  'Sonim',\n",
       "  'Sony',\n",
       "  'Sony Ericsson',\n",
       "  'Spice',\n",
       "  'T-Mobile',\n",
       "  'TCL',\n",
       "  'Tecno',\n",
       "  'Tel.Me.',\n",
       "  'Telit',\n",
       "  'Thuraya',\n",
       "  'Toshiba',\n",
       "  'Ulefone',\n",
       "  'Unnecto',\n",
       "  'Vertu',\n",
       "  'verykool',\n",
       "  'vivo',\n",
       "  'VK Mobile',\n",
       "  'Vodafone',\n",
       "  'Wiko',\n",
       "  'WND',\n",
       "  'XCute',\n",
       "  'Xiaomi',\n",
       "  'XOLO',\n",
       "  'Yezz',\n",
       "  'Yota',\n",
       "  'YU',\n",
       "  'ZTE'],\n",
       " 'Number_Of_Devices': ['100 devices',\n",
       "  '407 devices',\n",
       "  '157 devices',\n",
       "  '22 devices',\n",
       "  '47 devices',\n",
       "  '108 devices',\n",
       "  '43 devices',\n",
       "  '196 devices',\n",
       "  '4 devices',\n",
       "  '9 devices',\n",
       "  '35 devices',\n",
       "  '27 devices',\n",
       "  '61 devices',\n",
       "  '92 devices',\n",
       "  '45 devices',\n",
       "  '360 devices',\n",
       "  '10 devices',\n",
       "  '20 devices',\n",
       "  '5 devices',\n",
       "  '21 devices',\n",
       "  '229 devices',\n",
       "  '12 devices',\n",
       "  '41 devices',\n",
       "  '20 devices',\n",
       "  '38 devices',\n",
       "  '15 devices',\n",
       "  '62 devices',\n",
       "  '40 devices',\n",
       "  '22 devices',\n",
       "  '3 devices',\n",
       "  '2 devices',\n",
       "  '5 devices',\n",
       "  '63 devices',\n",
       "  '95 devices',\n",
       "  '22 devices',\n",
       "  '59 devices',\n",
       "  '150 devices',\n",
       "  '41 devices',\n",
       "  '277 devices',\n",
       "  '398 devices',\n",
       "  '34 devices',\n",
       "  '37 devices',\n",
       "  '61 devices',\n",
       "  '98 devices',\n",
       "  '18 devices',\n",
       "  '5 devices',\n",
       "  '15 devices',\n",
       "  '3 devices',\n",
       "  '60 devices',\n",
       "  '24 devices',\n",
       "  '130 devices',\n",
       "  '9 devices',\n",
       "  '237 devices',\n",
       "  '667 devices',\n",
       "  '31 devices',\n",
       "  '41 devices',\n",
       "  '67 devices',\n",
       "  '289 devices',\n",
       "  '32 devices',\n",
       "  '12 devices',\n",
       "  '25 devices',\n",
       "  '8 devices',\n",
       "  '576 devices',\n",
       "  '5 devices',\n",
       "  '73 devices',\n",
       "  '3 devices',\n",
       "  '30 devices',\n",
       "  '553 devices',\n",
       "  '1 devices',\n",
       "  '3 devices',\n",
       "  '45 devices',\n",
       "  '50 devices',\n",
       "  '246 devices',\n",
       "  '19 devices',\n",
       "  '17 devices',\n",
       "  '123 devices',\n",
       "  '72 devices',\n",
       "  '10 devices',\n",
       "  '229 devices',\n",
       "  '113 devices',\n",
       "  '30 devices',\n",
       "  '56 devices',\n",
       "  '90 devices',\n",
       "  '21 devices',\n",
       "  '2 devices',\n",
       "  '145 devices',\n",
       "  '120 devices',\n",
       "  '1343 devices',\n",
       "  '19 devices',\n",
       "  '25 devices',\n",
       "  '68 devices',\n",
       "  '94 devices',\n",
       "  '18 devices',\n",
       "  '155 devices',\n",
       "  '188 devices',\n",
       "  '120 devices',\n",
       "  '59 devices',\n",
       "  '41 devices',\n",
       "  '105 devices',\n",
       "  '7 devices',\n",
       "  '30 devices',\n",
       "  '1 devices',\n",
       "  '35 devices',\n",
       "  '62 devices',\n",
       "  '30 devices',\n",
       "  '17 devices',\n",
       "  '139 devices',\n",
       "  '325 devices',\n",
       "  '31 devices',\n",
       "  '87 devices',\n",
       "  '95 devices',\n",
       "  '5 devices',\n",
       "  '4 devices',\n",
       "  '307 devices',\n",
       "  '81 devices',\n",
       "  '106 devices',\n",
       "  '3 devices',\n",
       "  '13 devices',\n",
       "  '336 devices'],\n",
       " 'Urls': ['https://www.gsmarena.com/acer-phones-59.php',\n",
       "  'https://www.gsmarena.com/alcatel-phones-5.php',\n",
       "  'https://www.gsmarena.com/allview-phones-88.php',\n",
       "  'https://www.gsmarena.com/amazon-phones-76.php',\n",
       "  'https://www.gsmarena.com/amoi-phones-28.php',\n",
       "  'https://www.gsmarena.com/apple-phones-48.php',\n",
       "  'https://www.gsmarena.com/archos-phones-90.php',\n",
       "  'https://www.gsmarena.com/asus-phones-46.php',\n",
       "  'https://www.gsmarena.com/at&t-phones-57.php',\n",
       "  'https://www.gsmarena.com/benefon-phones-15.php',\n",
       "  'https://www.gsmarena.com/benq-phones-31.php',\n",
       "  'https://www.gsmarena.com/benq_siemens-phones-42.php',\n",
       "  'https://www.gsmarena.com/bird-phones-34.php',\n",
       "  'https://www.gsmarena.com/blackberry-phones-36.php',\n",
       "  'https://www.gsmarena.com/blackview-phones-116.php',\n",
       "  'https://www.gsmarena.com/blu-phones-67.php',\n",
       "  'https://www.gsmarena.com/bosch-phones-10.php',\n",
       "  'https://www.gsmarena.com/bq-phones-108.php',\n",
       "  'https://www.gsmarena.com/casio-phones-77.php',\n",
       "  'https://www.gsmarena.com/cat-phones-89.php',\n",
       "  'https://www.gsmarena.com/celkon-phones-75.php',\n",
       "  'https://www.gsmarena.com/chea-phones-24.php',\n",
       "  'https://www.gsmarena.com/coolpad-phones-105.php',\n",
       "  'https://www.gsmarena.com/dell-phones-61.php',\n",
       "  'https://www.gsmarena.com/doogee-phones-129.php',\n",
       "  'https://www.gsmarena.com/emporia-phones-93.php',\n",
       "  'https://www.gsmarena.com/energizer-phones-106.php',\n",
       "  'https://www.gsmarena.com/ericsson-phones-2.php',\n",
       "  'https://www.gsmarena.com/eten-phones-40.php',\n",
       "  'https://www.gsmarena.com/fairphone-phones-127.php',\n",
       "  'https://www.gsmarena.com/fujitsu_siemens-phones-50.php',\n",
       "  'https://www.gsmarena.com/garmin_asus-phones-65.php',\n",
       "  'https://www.gsmarena.com/gigabyte-phones-47.php',\n",
       "  'https://www.gsmarena.com/gionee-phones-92.php',\n",
       "  'https://www.gsmarena.com/google-phones-107.php',\n",
       "  'https://www.gsmarena.com/haier-phones-33.php',\n",
       "  'https://www.gsmarena.com/honor-phones-121.php',\n",
       "  'https://www.gsmarena.com/hp-phones-41.php',\n",
       "  'https://www.gsmarena.com/htc-phones-45.php',\n",
       "  'https://www.gsmarena.com/huawei-phones-58.php',\n",
       "  'https://www.gsmarena.com/i_mate-phones-35.php',\n",
       "  'https://www.gsmarena.com/i_mobile-phones-52.php',\n",
       "  'https://www.gsmarena.com/icemobile-phones-69.php',\n",
       "  'https://www.gsmarena.com/infinix-phones-119.php',\n",
       "  'https://www.gsmarena.com/innostream-phones-29.php',\n",
       "  'https://www.gsmarena.com/inq-phones-60.php',\n",
       "  'https://www.gsmarena.com/intex-phones-102.php',\n",
       "  'https://www.gsmarena.com/jolla-phones-84.php',\n",
       "  'https://www.gsmarena.com/karbonn-phones-83.php',\n",
       "  'https://www.gsmarena.com/kyocera-phones-17.php',\n",
       "  'https://www.gsmarena.com/lava-phones-94.php',\n",
       "  'https://www.gsmarena.com/leeco-phones-109.php',\n",
       "  'https://www.gsmarena.com/lenovo-phones-73.php',\n",
       "  'https://www.gsmarena.com/lg-phones-20.php',\n",
       "  'https://www.gsmarena.com/maxon-phones-14.php',\n",
       "  'https://www.gsmarena.com/maxwest-phones-87.php',\n",
       "  'https://www.gsmarena.com/meizu-phones-74.php',\n",
       "  'https://www.gsmarena.com/micromax-phones-66.php',\n",
       "  'https://www.gsmarena.com/microsoft-phones-64.php',\n",
       "  'https://www.gsmarena.com/mitac-phones-25.php',\n",
       "  'https://www.gsmarena.com/mitsubishi-phones-8.php',\n",
       "  'https://www.gsmarena.com/modu-phones-63.php',\n",
       "  'https://www.gsmarena.com/motorola-phones-4.php',\n",
       "  'https://www.gsmarena.com/mwg-phones-56.php',\n",
       "  'https://www.gsmarena.com/nec-phones-12.php',\n",
       "  'https://www.gsmarena.com/neonode-phones-22.php',\n",
       "  'https://www.gsmarena.com/niu-phones-79.php',\n",
       "  'https://www.gsmarena.com/nokia-phones-1.php',\n",
       "  'https://www.gsmarena.com/nothing-phones-128.php',\n",
       "  'https://www.gsmarena.com/nvidia-phones-97.php',\n",
       "  'https://www.gsmarena.com/o2-phones-30.php',\n",
       "  'https://www.gsmarena.com/oneplus-phones-95.php',\n",
       "  'https://www.gsmarena.com/oppo-phones-82.php',\n",
       "  'https://www.gsmarena.com/orange-phones-71.php',\n",
       "  'https://www.gsmarena.com/palm-phones-27.php',\n",
       "  'https://www.gsmarena.com/panasonic-phones-6.php',\n",
       "  'https://www.gsmarena.com/pantech-phones-32.php',\n",
       "  'https://www.gsmarena.com/parla-phones-81.php',\n",
       "  'https://www.gsmarena.com/philips-phones-11.php',\n",
       "  'https://www.gsmarena.com/plum-phones-72.php',\n",
       "  'https://www.gsmarena.com/posh-phones-101.php',\n",
       "  'https://www.gsmarena.com/prestigio-phones-86.php',\n",
       "  'https://www.gsmarena.com/qmobile-phones-103.php',\n",
       "  'https://www.gsmarena.com/qtek-phones-38.php',\n",
       "  'https://www.gsmarena.com/razer-phones-117.php',\n",
       "  'https://www.gsmarena.com/realme-phones-118.php',\n",
       "  'https://www.gsmarena.com/sagem-phones-13.php',\n",
       "  'https://www.gsmarena.com/samsung-phones-9.php',\n",
       "  'https://www.gsmarena.com/sendo-phones-18.php',\n",
       "  'https://www.gsmarena.com/sewon-phones-26.php',\n",
       "  'https://www.gsmarena.com/sharp-phones-23.php',\n",
       "  'https://www.gsmarena.com/siemens-phones-3.php',\n",
       "  'https://www.gsmarena.com/sonim-phones-54.php',\n",
       "  'https://www.gsmarena.com/sony-phones-7.php',\n",
       "  'https://www.gsmarena.com/sony_ericsson-phones-19.php',\n",
       "  'https://www.gsmarena.com/spice-phones-68.php',\n",
       "  'https://www.gsmarena.com/t_mobile-phones-55.php',\n",
       "  'https://www.gsmarena.com/tcl-phones-123.php',\n",
       "  'https://www.gsmarena.com/tecno-phones-120.php',\n",
       "  'https://www.gsmarena.com/tel_me_-phones-21.php',\n",
       "  'https://www.gsmarena.com/telit-phones-16.php',\n",
       "  'https://www.gsmarena.com/thuraya-phones-49.php',\n",
       "  'https://www.gsmarena.com/toshiba-phones-44.php',\n",
       "  'https://www.gsmarena.com/ulefone-phones-124.php',\n",
       "  'https://www.gsmarena.com/unnecto-phones-91.php',\n",
       "  'https://www.gsmarena.com/vertu-phones-39.php',\n",
       "  'https://www.gsmarena.com/verykool-phones-70.php',\n",
       "  'https://www.gsmarena.com/vivo-phones-98.php',\n",
       "  'https://www.gsmarena.com/vk_mobile-phones-37.php',\n",
       "  'https://www.gsmarena.com/vodafone-phones-53.php',\n",
       "  'https://www.gsmarena.com/wiko-phones-96.php',\n",
       "  'https://www.gsmarena.com/wnd-phones-51.php',\n",
       "  'https://www.gsmarena.com/xcute-phones-43.php',\n",
       "  'https://www.gsmarena.com/xiaomi-phones-80.php',\n",
       "  'https://www.gsmarena.com/xolo-phones-85.php',\n",
       "  'https://www.gsmarena.com/yezz-phones-78.php',\n",
       "  'https://www.gsmarena.com/yota-phones-99.php',\n",
       "  'https://www.gsmarena.com/yu-phones-100.php',\n",
       "  'https://www.gsmarena.com/zte-phones-62.php']}"
      ]
     },
     "execution_count": 32,
     "metadata": {},
     "output_type": "execute_result"
    }
   ],
   "source": [
    "mobiles_dict"
   ]
  },
  {
   "cell_type": "markdown",
   "metadata": {},
   "source": [
    "pandas is library which has DataFrame a function which takes dictionary and return a data frame"
   ]
  },
  {
   "cell_type": "code",
   "execution_count": 33,
   "metadata": {},
   "outputs": [],
   "source": [
    "mobiles_df = pd.DataFrame(mobiles_dict) "
   ]
  },
  {
   "cell_type": "code",
   "execution_count": 34,
   "metadata": {},
   "outputs": [
    {
     "data": {
      "text/html": [
       "<div>\n",
       "<style scoped>\n",
       "    .dataframe tbody tr th:only-of-type {\n",
       "        vertical-align: middle;\n",
       "    }\n",
       "\n",
       "    .dataframe tbody tr th {\n",
       "        vertical-align: top;\n",
       "    }\n",
       "\n",
       "    .dataframe thead th {\n",
       "        text-align: right;\n",
       "    }\n",
       "</style>\n",
       "<table border=\"1\" class=\"dataframe\">\n",
       "  <thead>\n",
       "    <tr style=\"text-align: right;\">\n",
       "      <th></th>\n",
       "      <th>Brands</th>\n",
       "      <th>Number_Of_Devices</th>\n",
       "      <th>Urls</th>\n",
       "    </tr>\n",
       "  </thead>\n",
       "  <tbody>\n",
       "    <tr>\n",
       "      <th>0</th>\n",
       "      <td>Acer</td>\n",
       "      <td>100 devices</td>\n",
       "      <td>https://www.gsmarena.com/acer-phones-59.php</td>\n",
       "    </tr>\n",
       "    <tr>\n",
       "      <th>1</th>\n",
       "      <td>alcatel</td>\n",
       "      <td>407 devices</td>\n",
       "      <td>https://www.gsmarena.com/alcatel-phones-5.php</td>\n",
       "    </tr>\n",
       "    <tr>\n",
       "      <th>2</th>\n",
       "      <td>Allview</td>\n",
       "      <td>157 devices</td>\n",
       "      <td>https://www.gsmarena.com/allview-phones-88.php</td>\n",
       "    </tr>\n",
       "    <tr>\n",
       "      <th>3</th>\n",
       "      <td>Amazon</td>\n",
       "      <td>22 devices</td>\n",
       "      <td>https://www.gsmarena.com/amazon-phones-76.php</td>\n",
       "    </tr>\n",
       "    <tr>\n",
       "      <th>4</th>\n",
       "      <td>Amoi</td>\n",
       "      <td>47 devices</td>\n",
       "      <td>https://www.gsmarena.com/amoi-phones-28.php</td>\n",
       "    </tr>\n",
       "    <tr>\n",
       "      <th>...</th>\n",
       "      <td>...</td>\n",
       "      <td>...</td>\n",
       "      <td>...</td>\n",
       "    </tr>\n",
       "    <tr>\n",
       "      <th>114</th>\n",
       "      <td>XOLO</td>\n",
       "      <td>81 devices</td>\n",
       "      <td>https://www.gsmarena.com/xolo-phones-85.php</td>\n",
       "    </tr>\n",
       "    <tr>\n",
       "      <th>115</th>\n",
       "      <td>Yezz</td>\n",
       "      <td>106 devices</td>\n",
       "      <td>https://www.gsmarena.com/yezz-phones-78.php</td>\n",
       "    </tr>\n",
       "    <tr>\n",
       "      <th>116</th>\n",
       "      <td>Yota</td>\n",
       "      <td>3 devices</td>\n",
       "      <td>https://www.gsmarena.com/yota-phones-99.php</td>\n",
       "    </tr>\n",
       "    <tr>\n",
       "      <th>117</th>\n",
       "      <td>YU</td>\n",
       "      <td>13 devices</td>\n",
       "      <td>https://www.gsmarena.com/yu-phones-100.php</td>\n",
       "    </tr>\n",
       "    <tr>\n",
       "      <th>118</th>\n",
       "      <td>ZTE</td>\n",
       "      <td>336 devices</td>\n",
       "      <td>https://www.gsmarena.com/zte-phones-62.php</td>\n",
       "    </tr>\n",
       "  </tbody>\n",
       "</table>\n",
       "<p>119 rows × 3 columns</p>\n",
       "</div>"
      ],
      "text/plain": [
       "      Brands Number_Of_Devices                                            Urls\n",
       "0       Acer       100 devices     https://www.gsmarena.com/acer-phones-59.php\n",
       "1    alcatel       407 devices   https://www.gsmarena.com/alcatel-phones-5.php\n",
       "2    Allview       157 devices  https://www.gsmarena.com/allview-phones-88.php\n",
       "3     Amazon        22 devices   https://www.gsmarena.com/amazon-phones-76.php\n",
       "4       Amoi        47 devices     https://www.gsmarena.com/amoi-phones-28.php\n",
       "..       ...               ...                                             ...\n",
       "114     XOLO        81 devices     https://www.gsmarena.com/xolo-phones-85.php\n",
       "115     Yezz       106 devices     https://www.gsmarena.com/yezz-phones-78.php\n",
       "116     Yota         3 devices     https://www.gsmarena.com/yota-phones-99.php\n",
       "117       YU        13 devices      https://www.gsmarena.com/yu-phones-100.php\n",
       "118      ZTE       336 devices      https://www.gsmarena.com/zte-phones-62.php\n",
       "\n",
       "[119 rows x 3 columns]"
      ]
     },
     "execution_count": 34,
     "metadata": {},
     "output_type": "execute_result"
    }
   ],
   "source": [
    "mobiles_df"
   ]
  },
  {
   "cell_type": "markdown",
   "metadata": {},
   "source": [
    "Its has given Beautiful table out of the lists having data includes Brands , NumberOfDevices and URL's"
   ]
  },
  {
   "cell_type": "markdown",
   "metadata": {},
   "source": [
    "'to_csv converts dataframe to csv. When index = None given as a parameter, \n",
    "it eliminates the index col in csv file"
   ]
  },
  {
   "cell_type": "code",
   "execution_count": 37,
   "metadata": {},
   "outputs": [],
   "source": [
    "mobiles_df.to_csv('brands.csv',index=None) "
   ]
  },
  {
   "cell_type": "markdown",
   "metadata": {},
   "source": [
    "![](https://i.imgur.com/vhoKTFJ.png)"
   ]
  },
  {
   "cell_type": "markdown",
   "metadata": {},
   "source": [
    "![](https://i.imgur.com/F6pljVN.png)"
   ]
  },
  {
   "cell_type": "markdown",
   "metadata": {},
   "source": [
    "Part 1 Of The Problem Is Solved"
   ]
  },
  {
   "cell_type": "markdown",
   "metadata": {},
   "source": [
    "This all code can be put in function for Reusability"
   ]
  },
  {
   "cell_type": "markdown",
   "metadata": {},
   "source": [
    "The whole code is divided into two blocks or two functions"
   ]
  },
  {
   "cell_type": "code",
   "execution_count": 3,
   "metadata": {},
   "outputs": [],
   "source": [
    "def get_brands_dict(mobile_brand_tags):\n",
    "    \n",
    "    #list created for col data\n",
    "    \n",
    "    Brands =  []\n",
    "    Devices = []\n",
    "    Urls = []\n",
    "    base_url = \"https://www.gsmarena.com/\" #target url\n",
    "    \n",
    "    for tag in mobile_brand_tags:\n",
    "        Brands.append(tag.find('br').previousSibling) # extracting brand name\n",
    "        Devices.append(tag.find('span').text.strip())  # extracting number of devices\n",
    "        Urls.append(base_url +tag.find('a')['href']) #  extracting complete URL's\n",
    "    \n",
    "    #creating dictionary out of list extracted\n",
    "    mobiles_dict = { 'Brands' : Brands, 'Number_Of_Devices':Devices, 'Urls':Urls } \n",
    "    \n",
    "    #returning dictionary created\n",
    "    return mobiles_dict"
   ]
  },
  {
   "cell_type": "code",
   "execution_count": 4,
   "metadata": {},
   "outputs": [],
   "source": [
    "def scrape_page(url):\n",
    "    \n",
    "    # GSMArena Mobiles Url\n",
    "    mobiles_url = url\n",
    "    \n",
    "    # With help of Request Libarary we are getting the page \n",
    "    response = requests.get(mobiles_url,headers = {'User-agent': 'Super Bot Power Level Over 9000'}) \n",
    "    \n",
    "    #Checking Whether It is Successfully Loaded or Not\n",
    "    if response.status_code != 200:\n",
    "        raise Exception('Failed to load data {}'.format(mobiles_url))\n",
    "    \n",
    "    #With Beautiful Soup Library parsing the response\n",
    "    doc = BeautifulSoup(response.text, 'html.parser')\n",
    "    \n",
    "    #Returning the Page in doc \n",
    "    return doc\n",
    "    "
   ]
  },
  {
   "cell_type": "code",
   "execution_count": 5,
   "metadata": {},
   "outputs": [],
   "source": [
    "def scrape_brands():\n",
    "    mobiles_url = 'https://www.gsmarena.com/makers.php3' #target URL\n",
    "\n",
    "    #page_contents = scrape_page(mobiles_url) #loading the webpage in variable\n",
    "    #doc = BeautifulSoup(page_contents,'html.parser') #parsing the webpage in beautiful soup\n",
    "    doc =  scrape_page(mobiles_url)\n",
    "    mobile_brand_tags = doc.find_all('td')  # finding the td tags for extracting useful data\n",
    "    \n",
    "    \n",
    "    mobiles_dict = get_brands_dict(mobile_brand_tags) #getting the extracted data in dictionary\n",
    "    \n",
    "    brands_df = pd.DataFrame(mobiles_dict) #result in dataFrame from dictionary\n",
    "    \n",
    "    return brands_df "
   ]
  },
  {
   "cell_type": "markdown",
   "metadata": {},
   "source": [
    "So When i Call the Function scrape_brands() it will give us data frame of brands"
   ]
  },
  {
   "cell_type": "code",
   "execution_count": 8,
   "metadata": {},
   "outputs": [
    {
     "data": {
      "text/html": [
       "<div>\n",
       "<style scoped>\n",
       "    .dataframe tbody tr th:only-of-type {\n",
       "        vertical-align: middle;\n",
       "    }\n",
       "\n",
       "    .dataframe tbody tr th {\n",
       "        vertical-align: top;\n",
       "    }\n",
       "\n",
       "    .dataframe thead th {\n",
       "        text-align: right;\n",
       "    }\n",
       "</style>\n",
       "<table border=\"1\" class=\"dataframe\">\n",
       "  <thead>\n",
       "    <tr style=\"text-align: right;\">\n",
       "      <th></th>\n",
       "      <th>Brands</th>\n",
       "      <th>Number_Of_Devices</th>\n",
       "      <th>Urls</th>\n",
       "    </tr>\n",
       "  </thead>\n",
       "  <tbody>\n",
       "    <tr>\n",
       "      <th>0</th>\n",
       "      <td>Acer</td>\n",
       "      <td>100 devices</td>\n",
       "      <td>https://www.gsmarena.com/acer-phones-59.php</td>\n",
       "    </tr>\n",
       "    <tr>\n",
       "      <th>1</th>\n",
       "      <td>alcatel</td>\n",
       "      <td>407 devices</td>\n",
       "      <td>https://www.gsmarena.com/alcatel-phones-5.php</td>\n",
       "    </tr>\n",
       "    <tr>\n",
       "      <th>2</th>\n",
       "      <td>Allview</td>\n",
       "      <td>157 devices</td>\n",
       "      <td>https://www.gsmarena.com/allview-phones-88.php</td>\n",
       "    </tr>\n",
       "    <tr>\n",
       "      <th>3</th>\n",
       "      <td>Amazon</td>\n",
       "      <td>22 devices</td>\n",
       "      <td>https://www.gsmarena.com/amazon-phones-76.php</td>\n",
       "    </tr>\n",
       "    <tr>\n",
       "      <th>4</th>\n",
       "      <td>Amoi</td>\n",
       "      <td>47 devices</td>\n",
       "      <td>https://www.gsmarena.com/amoi-phones-28.php</td>\n",
       "    </tr>\n",
       "    <tr>\n",
       "      <th>...</th>\n",
       "      <td>...</td>\n",
       "      <td>...</td>\n",
       "      <td>...</td>\n",
       "    </tr>\n",
       "    <tr>\n",
       "      <th>114</th>\n",
       "      <td>XOLO</td>\n",
       "      <td>81 devices</td>\n",
       "      <td>https://www.gsmarena.com/xolo-phones-85.php</td>\n",
       "    </tr>\n",
       "    <tr>\n",
       "      <th>115</th>\n",
       "      <td>Yezz</td>\n",
       "      <td>106 devices</td>\n",
       "      <td>https://www.gsmarena.com/yezz-phones-78.php</td>\n",
       "    </tr>\n",
       "    <tr>\n",
       "      <th>116</th>\n",
       "      <td>Yota</td>\n",
       "      <td>3 devices</td>\n",
       "      <td>https://www.gsmarena.com/yota-phones-99.php</td>\n",
       "    </tr>\n",
       "    <tr>\n",
       "      <th>117</th>\n",
       "      <td>YU</td>\n",
       "      <td>13 devices</td>\n",
       "      <td>https://www.gsmarena.com/yu-phones-100.php</td>\n",
       "    </tr>\n",
       "    <tr>\n",
       "      <th>118</th>\n",
       "      <td>ZTE</td>\n",
       "      <td>337 devices</td>\n",
       "      <td>https://www.gsmarena.com/zte-phones-62.php</td>\n",
       "    </tr>\n",
       "  </tbody>\n",
       "</table>\n",
       "<p>119 rows × 3 columns</p>\n",
       "</div>"
      ],
      "text/plain": [
       "      Brands Number_Of_Devices                                            Urls\n",
       "0       Acer       100 devices     https://www.gsmarena.com/acer-phones-59.php\n",
       "1    alcatel       407 devices   https://www.gsmarena.com/alcatel-phones-5.php\n",
       "2    Allview       157 devices  https://www.gsmarena.com/allview-phones-88.php\n",
       "3     Amazon        22 devices   https://www.gsmarena.com/amazon-phones-76.php\n",
       "4       Amoi        47 devices     https://www.gsmarena.com/amoi-phones-28.php\n",
       "..       ...               ...                                             ...\n",
       "114     XOLO        81 devices     https://www.gsmarena.com/xolo-phones-85.php\n",
       "115     Yezz       106 devices     https://www.gsmarena.com/yezz-phones-78.php\n",
       "116     Yota         3 devices     https://www.gsmarena.com/yota-phones-99.php\n",
       "117       YU        13 devices      https://www.gsmarena.com/yu-phones-100.php\n",
       "118      ZTE       337 devices      https://www.gsmarena.com/zte-phones-62.php\n",
       "\n",
       "[119 rows x 3 columns]"
      ]
     },
     "execution_count": 8,
     "metadata": {},
     "output_type": "execute_result"
    }
   ],
   "source": [
    "scrape_brands()"
   ]
  },
  {
   "cell_type": "markdown",
   "metadata": {},
   "source": [
    "## Second Part Of the Problem\n",
    "\n",
    "Lets us Solve The ```Second Part``` of the problem\n",
    "Here we need to extract the all mobiles details launched by each brand\n",
    "That includes ```Device Name , Device Launch Date , Device Features and Device URL```\n",
    "\n",
    "The input for second part of the program is the brand URL from URL's list\n",
    "\n",
    "Lets Get the brand Page"
   ]
  },
  {
   "cell_type": "code",
   "execution_count": 43,
   "metadata": {},
   "outputs": [],
   "source": [
    "brand_page = Urls[5] # for explanation getting the apple brand url"
   ]
  },
  {
   "cell_type": "code",
   "execution_count": 44,
   "metadata": {},
   "outputs": [
    {
     "name": "stdout",
     "output_type": "stream",
     "text": [
      "https://www.gsmarena.com/apple-phones-48.php\n"
     ]
    }
   ],
   "source": [
    "print(brand_page)"
   ]
  },
  {
   "cell_type": "code",
   "execution_count": 45,
   "metadata": {},
   "outputs": [],
   "source": [
    "response = requests.get(brand_page)"
   ]
  },
  {
   "cell_type": "code",
   "execution_count": 46,
   "metadata": {},
   "outputs": [
    {
     "data": {
      "text/plain": [
       "200"
      ]
     },
     "execution_count": 46,
     "metadata": {},
     "output_type": "execute_result"
    }
   ],
   "source": [
    "response.status_code # if it gives a status code which is 200 - > Success"
   ]
  },
  {
   "cell_type": "code",
   "execution_count": 47,
   "metadata": {},
   "outputs": [
    {
     "data": {
      "text/plain": [
       "35363"
      ]
     },
     "execution_count": 47,
     "metadata": {},
     "output_type": "execute_result"
    }
   ],
   "source": [
    "len(response.text)"
   ]
  },
  {
   "cell_type": "code",
   "execution_count": 50,
   "metadata": {},
   "outputs": [],
   "source": [
    "brand_doc = BeautifulSoup(response.text,'html.parser') # parsing file using beautiful soup"
   ]
  },
  {
   "cell_type": "code",
   "execution_count": 51,
   "metadata": {},
   "outputs": [
    {
     "data": {
      "text/plain": [
       "\n",
       "<!DOCTYPE html>\n",
       "\n",
       "<html lang=\"en-US\" xml:lang=\"en-US\" xmlns=\"http://www.w3.org/1999/xhtml\">\n",
       "<head>\n",
       "<title>All Apple phones</title>\n",
       "<script>\n",
       "DESKTOP_BASE_URL = \"https://www.gsmarena.com/\";\n",
       "MOBILE_BASE_URL = \"https://m.gsmarena.com/\";\n",
       "ASSETS_BASE_URL  = \"https://fdn.gsmarena.com/vv/assets12/\";\n",
       "CDN_BASE_URL = \"//fdn.gsmarena.com/\";\n",
       "CDN2_BASE_URL = \"//fdn2.gsmarena.com/\";\n",
       "</script>\n",
       "<meta charset=\"utf-8\"/>\n",
       "<meta content=\"width=1060, initial-scale=1.0\" name=\"viewport\"/>\n",
       "<link href=\"https://fdn.gsmarena.com/vv/assets12/css/gsmarena.css?v=64\" rel=\"stylesheet\"/>\n",
       "<link href=\"https://fdn.gsmarena.com/imgroot/static/favicon.ico\" rel=\"shortcut icon\"/>\n",
       "<script>\n",
       "window[\"pgGlobalSettings\"] = {\n",
       "    \"global\": {\n",
       "        \"strategy\": \"include\"\n",
       "    },\n",
       "    \"adUnits\": []\n",
       "};\n",
       "\n",
       "function addAdUnit(adUnitCode) {\n",
       "    window.pgGlobalSettings.adUnits.push({ \"adUnitCode\": adUnitCode });\n",
       "};\n",
       "\n",
       "\t\n",
       "\taddAdUnit(\"/8095840,14566801/.2_A.34912.3_gsmarena.com_tier1\");\n",
       "\t\n",
       "\taddAdUnit(\"/8095840,14566801/.2_A.35452.4_gsmarena.com_tier1\");\n",
       "\t\n",
       "\taddAdUnit(\"/8095840,14566801/.2_A.34911.7_gsmarena.com_tier1\");\n",
       "\taddAdUnit(\"/8095840,14566801/.2_A.40299.4_gsmarena.com_tier1\");\n",
       "\taddAdUnit(\"/8095840,14566801/.2_A.40300.4_gsmarena.com_tier1\");\n",
       "\t\n",
       "\taddAdUnit(\"/8095840,14566801/.2_A.34913.3_gsmarena.com_tier1\");\n",
       "\t\n",
       "\taddAdUnit(\"/8095840,14566801/.2_A.35282.4_gsmarena.com_tier1\");\n",
       "\t\n",
       "\taddAdUnit(\"/8095840,14566801/.2_A.34916.46_gsmarena.com_tier1\");\n",
       "</script>\n",
       "<script> window.pbjs = {que: []}; </script>\n",
       "<script src=\"https://cmp.uniconsent.com/v2/stub.min.js\"></script>\n",
       "<script async=\"\" src=\"https://cmp.uniconsent.com/v2/de538b5a3a/cmp.js\"></script>\n",
       "<script type=\"text/javascript\">\n",
       "window.googletag = window.googletag || {};\n",
       "window.googletag.cmd = window.googletag.cmd || [];\n",
       "window.googletag.cmd.push(function () {\n",
       "\twindow.googletag.pubads().setTargeting('pageid', '2');\n",
       "    \n",
       "\twindow.googletag.pubads().setTargeting('keyw', 'Apple');\n",
       " \n",
       "\n",
       "\n",
       "    window.googletag.pubads().setTargeting('visitqos', '1');\n",
       "\n",
       "\n",
       "    window.googletag.pubads().enableAsyncRendering();\n",
       "    window.googletag.pubads().disableInitialLoad();\n",
       "});\n",
       "(adsbygoogle = window.adsbygoogle || []).pauseAdRequests = 1;\n",
       "</script>\n",
       "<script>\n",
       "(function waitGEO() {\n",
       "    var readyGEO;\n",
       "    if (window['UnicI'] && window['UnicI'].geo && window['UnicI'].geo !== '-' ) {\n",
       "        readyGEO = true;\n",
       "        console.log(window['UnicI'].geo);\n",
       "        if (window['UnicI'].geo === 'EU') {\n",
       "            if(document.getElementById(\"unic-gdpr\")) {\n",
       "              document.getElementById(\"unic-gdpr\").style.display = 'inline';\n",
       "            }\n",
       "        }\n",
       "        if (window['UnicI'].geo === 'CA') {\n",
       "            if(document.getElementById(\"unic-ccpa\")) {\n",
       "              document.getElementById(\"unic-ccpa\").style.display = 'inline';\n",
       "            }\n",
       "        }\n",
       "    }\n",
       "    if (!readyGEO) {\n",
       "        setTimeout(waitGEO, 200);\n",
       "    }\n",
       "})();\n",
       "</script>\n",
       "<script>\n",
       "__tcfapi(\"addEventListener\", 2, function(tcData, success) {\n",
       "    if (success && tcData.unicLoad  === true) {\n",
       "        if(!window._initAds) {\n",
       "            window._initAds = true;\n",
       "            var script = document.createElement('script');\n",
       "            script.async = true;\n",
       "            script.src = '//dsh7ky7308k4b.cloudfront.net/publishers/gsmarenacom_new_d.min.js';\n",
       "            document.head.appendChild(script);\n",
       "        \n",
       "\t    var script = document.createElement('script');\n",
       "            script.async = true;\n",
       "            script.src = '//pagead2.googlesyndication.com/pagead/js/adsbygoogle.js';\n",
       "            document.head.appendChild(script);\t\t\n",
       "\n",
       "        var s = document.createElement('script');\n",
       "\t\t\ts.async = true;\n",
       "\t\t\ts.src = '//btloader.com/tag?o=5184339635601408&upapi=true';\n",
       "\t\t\tdocument.head.appendChild(s);    \n",
       "\n",
       "            \n",
       "\t}\n",
       "    }\n",
       "});\n",
       " \n",
       "</script>\n",
       "<link href=\"https://fdn.gsmarena.com/vv/assets12/css/makers.css?v=2\" rel=\"stylesheet\"/>\n",
       "<meta content=\"text/html; charset=utf-8\" http-equiv=\"Content-Type\"/>\n",
       "<meta content=\"List of Apple phones, smartphones and tablets\" name=\"Description\"/>\n",
       "<meta content=\"GSM,Apple,gsm,phone,cellphone,information,info,list\" name=\"keywords\"/>\n",
       "<link href=\"https://www.gsmarena.com/apple-phones-48.php\" rel=\"canonical\"/>\n",
       "<link href=\"https://m.gsmarena.com/apple-phones-48.php\" media=\"only screen and (max-width: 640px)\" rel=\"alternate\"/>\n",
       "</head>\n",
       "<body>\n",
       "<script src=\"https://fdn.gsmarena.com/vv/assets12/js/misc.js?v=13\" type=\"text/javascript\"></script>\n",
       "<script language=\"JavaScript\" type=\"text/javascript\">\n",
       "function phpads_deliverActiveX(content)\n",
       "{\n",
       "\tdocument.write(content);\t\n",
       "}\n",
       "</script>\n",
       "<header class=\"row\" id=\"header\">\n",
       "<div class=\"wrapper clearfix\">\n",
       "<div class=\"top-bar clearfix\">\n",
       "<!-- HAMBURGER MENU -->\n",
       "<button aria-label=\"Toggle Navigation\" class=\"lines-button minus focused\" role=\"button\" type=\"button\">\n",
       "<span class=\"lines\"></span>\n",
       "</button>\n",
       "<!-- /HAMBURGER MENU -->\n",
       "<!-- LOGO -->\n",
       "<div id=\"logo\">\n",
       "<a href=\"/\">\n",
       "<object data=\"https://fdn.gsmarena.com/vv/assets12/i/logo.svg\" type=\"image/svg+xml\"><img alt=\"GSMArena.com\" src=\"https://fdn.gsmarena.com/vv/assets12/i/logo-fallback.gif\"/></object>\n",
       "<span>GSMArena.com</span></a>\n",
       "</div>\n",
       "<div id=\"nav\" role=\"main\">\n",
       "<form action=\"res.php3\" id=\"topsearch\" method=\"get\">\n",
       "<input accesskey=\"s\" autocomplete=\"off\" id=\"topsearch-text\" name=\"sSearch\" placeholder=\"Search\" tabindex=\"201\" type=\"text\"/>\n",
       "<span id=\"quick-search-button\">\n",
       "<input type=\"submit\" value=\"Go\"/>\n",
       "<i class=\"head-icon icomoon-liga icon-search-left\"></i>\n",
       "</span>\n",
       "</form>\n",
       "</div>\n",
       "<div id=\"social-connect\">\n",
       "<a href=\"tipus.php3\">\n",
       "<i class=\"head-icon icon-tip-us icomoon-liga\"></i><br/><span class=\"icon-count\">Tip us</span>\n",
       "</a>\n",
       "<span class=\"bar\"></span>\n",
       "<a class=\"yt-icon\" href=\"https://www.youtube.com/channel/UCbLq9tsbo8peV22VxbDAfXA?sub_confirmation=1\" rel=\"noopener\" target=\"_blank\">\n",
       "<i class=\"head-icon icon-soc-youtube icomoon-liga\"></i><br/><span class=\"icon-count\">1.5m</span>\n",
       "</a>\n",
       "<a href=\"https://www.instagram.com/gsmarenateam/\" rel=\"noopener\" target=\"_blank\">\n",
       "<i class=\"head-icon icon-instagram icomoon-liga\"></i><span class=\"icon-count\">109k</span>\n",
       "</a>\n",
       "<a href=\"rss-news-reviews.php3\">\n",
       "<i class=\"head-icon icon-soc-rss2 icomoon-liga\"></i><br/><span class=\"icon-count\">RSS</span>\n",
       "</a>\n",
       "<a href=\"https://www.arenaev.com/\" rel=\"noopener\" target=\"_blank\">\n",
       "<i class=\"head-icon icon-specs-car icomoon-liga\"></i><br/><span class=\"icon-count\">EV</span>\n",
       "</a>\n",
       "<a href=\"https://merch.gsmarena.com/\" rel=\"noopener\" target=\"_blank\">\n",
       "<i class=\"head-icon icon-cart icomoon-liga\"></i><br/><span class=\"icon-count\">Merch</span>\n",
       "</a>\n",
       "<!-- \n",
       "<a href=\"https://www.facebook.com/GSMArenacom-189627474421/\" class=\"fb-icon\" target=\"_blank\" rel=\"noopener\">\n",
       "\t<i class=\"head-icon icon-soc-fb2 icomoon-liga\"></i><br><span class=\"icon-count\">891k</span>\n",
       "</a>\n",
       "<a href=\"https://twitter.com/gsmarena_com\" class=\"tw-icon\" target=\"_blank\" rel=\"noopener\">\n",
       "  <i class=\"head-icon icon-soc-twitter2 icomoon-liga\"></i><br><span class=\"icon-count\">166k</span>\n",
       "</a>\n",
       " -->\n",
       "<span class=\"bar\"></span>\n",
       "<a class=\"login-icon\" href=\"#\" id=\"login-active\" onclick=\"return false;\">\n",
       "<i class=\"head-icon icon-login\"></i><br/><span class=\"icon-count\" style=\"right:4px;\">Log in</span>\n",
       "</a>\n",
       "<span class=\"tooltip\" id=\"login-popup2\">\n",
       "<form action=\"login.php3\" method=\"post\">\n",
       "<input name=\"sSource\" type=\"Hidden\" value=\"MH5vb3N6Mm93cHF6bDIrJzFvd28%3D\"/>\n",
       "<p>Login</p>\n",
       "<label for=\"email\"></label>\n",
       "<input autocomplete=\"false\" id=\"email\" maxlength=\"50\" name=\"sEmail\" required=\"\" type=\"email\" value=\"\"/>\n",
       "<label for=\"upass\"></label>\n",
       "<input autocomplete=\"false\" id=\"upass\" maxlength=\"20\" name=\"sPassword\" pattern=\"\\S{6,}\" placeholder=\"Your password\" required=\"\" type=\"password\"/>\n",
       "<input class=\"button\" id=\"nick-submit\" type=\"submit\" value=\"Log in\"/>\n",
       "</form>\n",
       "<a class=\"forgot\" href=\"forgot.php3\">I forgot my password</a>\n",
       "</span>\n",
       "<a class=\"signup-icon no-margin-right\" href=\"register.php3\"><i class=\"head-icon icon-user-plus\"></i><span class=\"icon-count\">Sign up</span></a>\n",
       "</div>\n",
       "</div>\n",
       "<ul class=\"main-menu-list\" id=\"menu\">\n",
       "<li><a href=\"/\">Home</a></li>\n",
       "<li><a href=\"news.php3\">News</a></li>\n",
       "<li><a href=\"reviews.php3\">Reviews</a></li>\n",
       "<li><a href=\"videos.php3\">Videos</a></li>\n",
       "<li><a href=\"news.php3?sTag=Featured\">Featured</a></li>\n",
       "<li><a href=\"search.php3\">Phone Finder</a></li>\n",
       "<li><a href=\"deals.php3\" style=\"position: relative;\">Deals</a></li>\n",
       "<li><a href=\"https://merch.gsmarena.com/\" style=\"position: relative;\" target=\"_blank\">Merch<span class=\"icon-count\" style=\"top: 3px; right: 5px;\">New</span></a></li>\n",
       "<li><a href=\"network-bands.php3\">Coverage</a></li>\n",
       "<li><a href=\"contact.php3\">Contact</a></li>\n",
       "</ul>\n",
       "<!-- SOCIAL CONNECT -->\n",
       "</div>\n",
       "</header> <!--- HEADER END -->\n",
       "<div class=\"l-container\" id=\"wrapper\">\n",
       "<div class=\"row\" id=\"outer\">\n",
       "<div class=\"col\" id=\"subHeader\">\n",
       "<div class=\"l-box\" id=\"topAdv\">\n",
       "<span class=\"ad-c-label\">ADVERTISEMENTS</span>\n",
       "<!-- /8095840/.2_A.34912.3_gsmarena.com_tier1 -->\n",
       "<div id=\"div-gpt-ad-top728x90gsmarenadesktop-0\"></div>\n",
       "</div>\n",
       "</div>\n",
       "<div class=\"clearfix\" id=\"body\">\n",
       "<div class=\"main right main-maker l-box col\">\n",
       "<div class=\"review-header maker-header\">\n",
       "<style type=\"text/css\">\n",
       "\t.review-background {\n",
       "\n",
       "\t\tbackground-image: url('https://fdn.gsmarena.com/imgroot/static/headers/makers/apple-6.jpg');\n",
       "\t\tbackground-size: 728px 314px;\n",
       "\t}\n",
       "</style>\n",
       "<div class=\"review-hd overflow darken review-background\">\n",
       "<div class=\"article-info\">\n",
       "<div class=\"article-info-line border-bottom\">\n",
       "<div class=\"blur\"></div>\n",
       "</div>\n",
       "<div class=\"center-stage blur color-accent article-accent\">\n",
       "<div class=\"article-hgroup\">\n",
       "<h1 class=\"article-info-name\">Apple phones</h1>\n",
       "</div>\n",
       "</div>\n",
       "<div class=\"article-info-line\">\n",
       "<div class=\"blur bottom\"></div>\n",
       "<!-- <p class=\"maker-order\">\n",
       "Order by:\n",
       "<a href=\"#\">Time of release</a> |\n",
       "<a href=\"#\">Popularity</a>\n",
       "</p> -->\n",
       "<ul class=\"article-info-meta\">\n",
       "<li class=\"article-info-meta-link help help-sort-popularity\"><a href=\"apple-phones-f-48-0-r1-p1.php\"><i class=\"head-icon icon-popularity\"></i>Popularity</a></li>\n",
       "<li class=\"article-info-meta-link help help-sort-release sort-active\"><a href=\"#\"><i class=\"head-icon icon-launched\"></i>Time of release</a></li>\n",
       "<li class=\"article-info-meta-link light large help help-review compare-button\">\n",
       "<a href=\"#1\"><i class=\"head-icon icon-compare\"></i>Compare</a>\n",
       "</li>\n",
       "<li class=\"article-info-meta-link light large help left\">\n",
       "<a href=\"news.php3?sTag=Apple\"><i class=\"head-icon icon-in-the-news\"></i>Apple news</a>\n",
       "</li>\n",
       "</ul>\n",
       "</div>\n",
       "</div>\n",
       "</div>\n",
       "</div>\n",
       "<div class=\"section-body\" id=\"review-body\">\n",
       "<div class=\"makers\">\n",
       "<ul>\n",
       "<li><a href=\"apple_iphone_14_pro_max-11773.php\"><img src=\"https://fdn2.gsmarena.com/vv/bigpic/apple-iphone-14-pro-max-.jpg\" title=\"Apple iPhone 14 Pro Max smartphone. Announced Sep 2022. Features 6.7″  display, Apple A16 Bionic chipset, 4323 mAh battery, 1024 GB storage, 6 GB RAM, Ceramic Shield glass.\"/><strong><span>iPhone 14 Pro Max</span></strong></a></li><li><a href=\"apple_iphone_14_pro-11860.php\"><img src=\"https://fdn2.gsmarena.com/vv/bigpic/apple-iphone-14-pro.jpg\" title=\"Apple iPhone 14 Pro smartphone. Announced Sep 2022. Features 6.1″  display, Apple A16 Bionic chipset, 3200 mAh battery, 1024 GB storage, 6 GB RAM, Ceramic Shield glass.\"/><strong><span>iPhone 14 Pro</span></strong></a></li><li><a href=\"apple_iphone_14_plus-11862.php\"><img src=\"https://fdn2.gsmarena.com/vv/bigpic/apple-iphone-14-plus.jpg\" title=\"Apple iPhone 14 Plus smartphone. Announced Sep 2022. Features 6.7″  display, Apple A15 Bionic chipset, 4323 mAh battery, 512 GB storage, 6 GB RAM, Ceramic Shield glass.\"/><strong><span>iPhone 14 Plus</span></strong></a></li><li><a href=\"apple_iphone_14-11861.php\"><img src=\"https://fdn2.gsmarena.com/vv/bigpic/apple-iphone-14.jpg\" title=\"Apple iPhone 14 smartphone. Announced Sep 2022. Features 6.1″  display, Apple A15 Bionic chipset, 3279 mAh battery, 512 GB storage, 6 GB RAM, Ceramic Shield glass.\"/><strong><span>iPhone 14</span></strong></a></li><li><a href=\"apple_watch_ultra-11827.php\"><img src=\"https://fdn2.gsmarena.com/vv/bigpic/apple-watch-ultra.jpg\" title=\"Apple Watch Ultra watch. Announced Sep 2022. Features 1.92″  display, Apple S8 chipset, 542 mAh battery, 32 GB storage, MIL-STD 810H certified, Sapphire crystal glass.\"/><strong><span>Watch Ultra</span></strong></a></li><li><a href=\"apple_watch_series_8-11866.php\"><img src=\"https://fdn2.gsmarena.com/vv/bigpic/apple-watch-8.jpg\" title=\"Apple Watch Series 8 watch. Announced Sep 2022. Features 1.9″  display, Apple S8 chipset, 308 mAh battery, 32 GB storage, 1000 MB RAM, IP6X certified, Sapphire crystal glass.\"/><strong><span>Watch Series 8</span></strong></a></li><li><a href=\"apple_watch_series_8_aluminum-11864.php\"><img src=\"https://fdn2.gsmarena.com/vv/bigpic/apple-watch-8-aluminum.jpg\" title=\"Apple Watch Series 8 Aluminum watch. Announced Sep 2022. Features 1.9″  display, Apple S8 chipset, 308 mAh battery, 32 GB storage, 1000 MB RAM, IP6X certified, Ion-X strengthened glass.\"/><strong><span>Watch Series 8 Aluminum</span></strong></a></li><li><a href=\"apple_watch_se_(2022)-11865.php\"><img src=\"https://fdn2.gsmarena.com/vv/bigpic/apple-watch-8se-2022.jpg\" title=\"Apple Watch SE (2022) watch. Announced Sep 2022. Features 1.78″  display, Apple S8 chipset, 296 mAh battery, 32 GB storage, 1000 MB RAM, Ion-X strengthened glass.\"/><strong><span>Watch SE (2022)</span></strong></a></li><li><a href=\"apple_iphone_se_(2022)-11410.php\"><img src=\"https://fdn2.gsmarena.com/vv/bigpic/apple-iphone-se-2022.jpg\" title=\"Apple iPhone SE (2022) smartphone. Announced Mar 2022. Features 4.7″  display, Apple A15 Bionic chipset, 2018 mAh battery, 256 GB storage, 4 GB RAM, Ion-strengthened glass.\"/><strong><span>iPhone SE (2022)</span></strong></a></li><li><a href=\"apple_ipad_air_(2022)-11411.php\"><img src=\"https://fdn2.gsmarena.com/vv/bigpic/apple-ipad-air-2022-new.jpg\" title=\"Apple iPad Air (2022) tablet. Announced Mar 2022. Features 10.9″  display, Apple M1 chipset, 256 GB storage, 8 GB RAM, Scratch-resistant glass.\"/><strong><span>iPad Air (2022)</span></strong></a></li><li><a href=\"apple_iphone_13_pro_max-11089.php\"><img src=\"https://fdn2.gsmarena.com/vv/bigpic/apple-iphone-13-pro-max.jpg\" title=\"Apple iPhone 13 Pro Max smartphone. Announced Sep 2021. Features 6.7″  display, Apple A15 Bionic chipset, 4352 mAh battery, 1024 GB storage, 6 GB RAM, Ceramic Shield glass.\"/><strong><span>iPhone 13 Pro Max</span></strong></a></li><li><a href=\"apple_iphone_13_pro-11102.php\"><img src=\"https://fdn2.gsmarena.com/vv/bigpic/apple-iphone-13-pro.jpg\" title=\"Apple iPhone 13 Pro smartphone. Announced Sep 2021. Features 6.1″  display, Apple A15 Bionic chipset, 3095 mAh battery, 1024 GB storage, 6 GB RAM, Ceramic Shield glass.\"/><strong><span>iPhone 13 Pro</span></strong></a></li><li><a href=\"apple_iphone_13-11103.php\"><img src=\"https://fdn2.gsmarena.com/vv/bigpic/apple-iphone-13.jpg\" title=\"Apple iPhone 13 smartphone. Announced Sep 2021. Features 6.1″  display, Apple A15 Bionic chipset, 3240 mAh battery, 512 GB storage, 4 GB RAM, Ceramic Shield glass.\"/><strong><span>iPhone 13</span></strong></a></li><li><a href=\"apple_iphone_13_mini-11104.php\"><img src=\"https://fdn2.gsmarena.com/vv/bigpic/apple-iphone-13-mini.jpg\" title=\"Apple iPhone 13 mini smartphone. Announced Sep 2021. Features 5.4″  display, Apple A15 Bionic chipset, 2438 mAh battery, 512 GB storage, 4 GB RAM, Ceramic Shield glass.\"/><strong><span>iPhone 13 mini</span></strong></a></li><li><a href=\"apple_ipad_mini_(2021)-11105.php\"><img src=\"https://fdn2.gsmarena.com/vv/bigpic/apple-ipad-mini-2021.jpg\" title=\"Apple iPad mini (2021) tablet. Announced Sep 2021. Features 8.3″  display, Apple A15 Bionic chipset, 256 GB storage, 4 GB RAM, Scratch-resistant glass.\"/><strong><span>iPad mini (2021)</span></strong></a></li><li><a href=\"apple_ipad_10_2_(2021)-11106.php\"><img src=\"https://fdn2.gsmarena.com/vv/bigpic/apple-ipad-102-2021-.jpg\" title=\"Apple iPad 10.2 (2021) tablet. Announced Sep 2021. Features 10.2″  display, Apple A13 Bionic chipset, 8557 mAh battery, 256 GB storage, 3 GB RAM, Scratch-resistant glass.\"/><strong><span>iPad 10.2 (2021)</span></strong></a></li><li><a href=\"apple_watch_edition_series_7-11147.php\"><img src=\"https://fdn2.gsmarena.com/vv/bigpic/apple-watch-series-7-titanium.jpg\" title=\"Apple Watch Edition Series 7 watch. Announced Sep 2021. Features 1.9″  display, Apple S7 chipset, 309 mAh battery, 32 GB storage, 1000 MB RAM, IP6X certified, Sapphire crystal glass.\"/><strong><span>Watch Edition Series 7</span></strong></a></li><li><a href=\"apple_watch_series_7-11146.php\"><img src=\"https://fdn2.gsmarena.com/vv/bigpic/apple-watch-series-7-stainless-steel.jpg\" title=\"Apple Watch Series 7 watch. Announced Sep 2021. Features 1.9″  display, Apple S7 chipset, 309 mAh battery, 32 GB storage, 1000 MB RAM, IP6X certified, Sapphire crystal glass.\"/><strong><span>Watch Series 7</span></strong></a></li><li><a href=\"apple_watch_series_7_aluminum-11107.php\"><img src=\"https://fdn2.gsmarena.com/vv/bigpic/apple-watch-series-7-aluminum.jpg\" title=\"Apple Watch Series 7 Aluminum watch. Announced Sep 2021. Features 1.9″  display, Apple S7 chipset, 309 mAh battery, 32 GB storage, 1000 MB RAM, IP6X certified, Ion-X strengthened glass.\"/><strong><span>Watch Series 7 Aluminum</span></strong></a></li><li><a href=\"apple_ipad_pro_12_9_(2021)-10864.php\"><img src=\"https://fdn2.gsmarena.com/vv/bigpic/apple-ipad-pro-129-2021.jpg\" title=\"Apple iPad Pro 12.9 (2021) tablet. Announced Apr 2021. Features 12.9″  display, Apple M1 chipset, 2048 GB storage, 16 GB RAM, Scratch-resistant glass.\"/><strong><span>iPad Pro 12.9 (2021)</span></strong></a></li><li><a href=\"apple_ipad_pro_11_(2021)-10865.php\"><img src=\"https://fdn2.gsmarena.com/vv/bigpic/apple-ipad-pro-11-2021.jpg\" title=\"Apple iPad Pro 11 (2021) tablet. Announced Apr 2021. Features 11.0″  display, Apple M1 chipset, 7538 mAh battery, 2048 GB storage, 16 GB RAM, Scratch-resistant glass.\"/><strong><span>iPad Pro 11 (2021)</span></strong></a></li><li><a href=\"apple_iphone_12_pro_max-10237.php\"><img src=\"https://fdn2.gsmarena.com/vv/bigpic/apple-iphone-12-pro-max-.jpg\" title=\"Apple iPhone 12 Pro Max smartphone. Announced Oct 2020. Features 6.7″  display, Apple A14 Bionic chipset, 3687 mAh battery, 512 GB storage, 6 GB RAM, Ceramic Shield glass.\"/><strong><span>iPhone 12 Pro Max</span></strong></a></li><li><a href=\"apple_iphone_12_pro-10508.php\"><img src=\"https://fdn2.gsmarena.com/vv/bigpic/apple-iphone-12-pro--.jpg\" title=\"Apple iPhone 12 Pro smartphone. Announced Oct 2020. Features 6.1″  display, Apple A14 Bionic chipset, 2815 mAh battery, 512 GB storage, 6 GB RAM, Ceramic Shield glass.\"/><strong><span>iPhone 12 Pro</span></strong></a></li><li><a href=\"apple_iphone_12-10509.php\"><img src=\"https://fdn2.gsmarena.com/vv/bigpic/apple-iphone-12.jpg\" title=\"Apple iPhone 12 smartphone. Announced Oct 2020. Features 6.1″  display, Apple A14 Bionic chipset, 2815 mAh battery, 256 GB storage, 4 GB RAM, Ceramic Shield glass.\"/><strong><span>iPhone 12</span></strong></a></li><li><a href=\"apple_iphone_12_mini-10510.php\"><img src=\"https://fdn2.gsmarena.com/vv/bigpic/apple-iphone-12-mini.jpg\" title=\"Apple iPhone 12 mini smartphone. Announced Oct 2020. Features 5.4″  display, Apple A14 Bionic chipset, 2227 mAh battery, 256 GB storage, 4 GB RAM, Ceramic Shield glass.\"/><strong><span>iPhone 12 mini</span></strong></a></li><li><a href=\"apple_ipad_air_(2020)-10444.php\"><img src=\"https://fdn2.gsmarena.com/vv/bigpic/apple-ipad-air4-2020.jpg\" title=\"Apple iPad Air (2020) tablet. Announced Sep 2020. Features 10.9″  display, Apple A14 Bionic chipset, 7606 mAh battery, 256 GB storage, 4 GB RAM, Scratch-resistant glass.\"/><strong><span>iPad Air (2020)</span></strong></a></li><li><a href=\"apple_ipad_10_2_(2020)-10445.php\"><img src=\"https://fdn2.gsmarena.com/vv/bigpic/apple-ipad8-102-inches-2020.jpg\" title=\"Apple iPad 10.2 (2020) tablet. Announced Sep 2020. Features 10.2″  display, Apple A12 Bionic chipset, 128 GB storage, 3 GB RAM, Scratch-resistant glass.\"/><strong><span>iPad 10.2 (2020)</span></strong></a></li><li><a href=\"apple_watch_se-10446.php\"><img src=\"https://fdn2.gsmarena.com/vv/bigpic/apple-watch-se.jpg\" title=\"Apple Watch SE watch. Announced Sep 2020. Features 1.78″  display, Apple S5 chipset, 32 GB storage, 1000 MB RAM, Ion-X strengthened glass.\"/><strong><span>Watch SE</span></strong></a></li><li><a href=\"apple_watch_series_6_aluminum-10447.php\"><img src=\"https://fdn2.gsmarena.com/vv/bigpic/apple-watch-s6.jpg\" title=\"Apple Watch Series 6 Aluminum watch. Announced Sep 2020. Features 1.78″  display, Apple S6 chipset, 304 mAh battery, 32 GB storage, 1000 MB RAM, Ion-X strengthened glass.\"/><strong><span>Watch Series 6 Aluminum</span></strong></a></li><li><a href=\"apple_watch_series_6-10448.php\"><img src=\"https://fdn2.gsmarena.com/vv/bigpic/apple-watch-s6-steel.jpg\" title=\"Apple Watch Series 6 watch. Announced Sep 2020. Features 1.78″  display, Apple S6 chipset, 304 mAh battery, 32 GB storage, 1000 MB RAM, Sapphire crystal glass.\"/><strong><span>Watch Series 6</span></strong></a></li><li><a href=\"apple_watch_edition_series_6-10449.php\"><img src=\"https://fdn2.gsmarena.com/vv/bigpic/apple-watch-s6-titanium.jpg\" title=\"Apple Watch Edition Series 6 watch. Announced Sep 2020. Features 1.78″  display, Apple S6 chipset, 304 mAh battery, 32 GB storage, 1000 MB RAM, Sapphire crystal glass.\"/><strong><span>Watch Edition Series 6</span></strong></a></li><li><a href=\"apple_iphone_se_(2020)-10170.php\"><img src=\"https://fdn2.gsmarena.com/vv/bigpic/apple-iphone-se-2020.jpg\" title=\"Apple iPhone SE (2020) smartphone. Announced Apr 2020. Features 4.7″  display, Apple A13 Bionic chipset, 1821 mAh battery, 256 GB storage, 3 GB RAM, Ion-strengthened glass.\"/><strong><span>iPhone SE (2020)</span></strong></a></li><li><a href=\"apple_ipad_pro_12_9_(2020)-10136.php\"><img src=\"https://fdn2.gsmarena.com/vv/bigpic/apple-ipad-pro-12-2020.jpg\" title=\"Apple iPad Pro 12.9 (2020) tablet. Announced Mar 2020. Features 12.9″  display, Apple A12Z Bionic chipset, 9720 mAh battery, 1024 GB storage, 6 GB RAM, Scratch-resistant glass.\"/><strong><span>iPad Pro 12.9 (2020)</span></strong></a></li><li><a href=\"apple_ipad_pro_11_(2020)-10137.php\"><img src=\"https://fdn2.gsmarena.com/vv/bigpic/apple-ipad-pro-11-2020.jpg\" title=\"Apple iPad Pro 11 (2020) tablet. Announced Mar 2020. Features 11.0″  display, Apple A12Z Bionic chipset, 1024 GB storage, 6 GB RAM, Scratch-resistant glass.\"/><strong><span>iPad Pro 11 (2020)</span></strong></a></li><li><a href=\"apple_iphone_11_pro_max-9846.php\"><img src=\"https://fdn2.gsmarena.com/vv/bigpic/apple-iphone-11-pro.jpg\" title=\"Apple iPhone 11 Pro Max smartphone. Announced Sep 2019. Features 6.5″  display, Apple A13 Bionic chipset, 3969 mAh battery, 512 GB storage, 4 GB RAM, Scratch-resistant glass.\"/><strong><span>iPhone 11 Pro Max</span></strong></a></li><li><a href=\"apple_iphone_11_pro-9847.php\"><img src=\"https://fdn2.gsmarena.com/vv/bigpic/apple-iphone-11-pro-max-.jpg\" title=\"Apple iPhone 11 Pro smartphone. Announced Sep 2019. Features 5.8″  display, Apple A13 Bionic chipset, 3046 mAh battery, 512 GB storage, 4 GB RAM, Scratch-resistant glass.\"/><strong><span>iPhone 11 Pro</span></strong></a></li><li><a href=\"apple_iphone_11-9848.php\"><img src=\"https://fdn2.gsmarena.com/vv/bigpic/apple-iphone-11.jpg\" title=\"Apple iPhone 11 smartphone. Announced Sep 2019. Features 6.1″  display, Apple A13 Bionic chipset, 3110 mAh battery, 256 GB storage, 4 GB RAM, Scratch-resistant glass.\"/><strong><span>iPhone 11</span></strong></a></li><li><a href=\"apple_ipad_10_2_(2019)-9857.php\"><img src=\"https://fdn2.gsmarena.com/vv/bigpic/apple-ipad7-102-inches.jpg\" title=\"Apple iPad 10.2 (2019) tablet. Announced Sep 2019. Features 10.2″  display, Apple A10 Fusion chipset, 8827 mAh battery, 128 GB storage, 3 GB RAM, Scratch-resistant glass.\"/><strong><span>iPad 10.2 (2019)</span></strong></a></li><li><a href=\"apple_watch_edition_series_5-9860.php\"><img src=\"https://fdn2.gsmarena.com/vv/bigpic/apple-watch-edition-series-5.jpg\" title=\"Apple Watch Edition Series 5 watch. Announced Sep 2019. Features 1.78″  display, Apple S5 chipset, 296 mAh battery, 32 GB storage, 1000 MB RAM, Sapphire crystal glass.\"/><strong><span>Watch Edition Series 5</span></strong></a></li><li><a href=\"apple_watch_series_5-9859.php\"><img src=\"https://fdn2.gsmarena.com/vv/bigpic/apple-watch-series-5.jpg\" title=\"Apple Watch Series 5 watch. Announced Sep 2019. Features 1.78″  display, Apple S5 chipset, 296 mAh battery, 32 GB storage, 1000 MB RAM, Sapphire crystal glass.\"/><strong><span>Watch Series 5</span></strong></a></li>\n",
       "</ul>\n",
       "<br class=\"clear\"/>\n",
       "</div>\n",
       "<div class=\"adv bottom-728\">\n",
       "<span class=\"ad-c-label\">ADVERTISEMENTS</span>\n",
       "<!-- /8095840/.2_A.34913.3_gsmarena.com_tier1 -->\n",
       "<!-- 728x90ba -->\n",
       "<div id=\"div-gpt-ad-728x90bagsmarenadesktop-0\" style=\"height:90px; width:728px;\"></div>\n",
       "</div>\n",
       "</div>\n",
       "<br class=\"clearfix\"/>\n",
       "<div class=\"review-nav pullNeg col pushT10\">\n",
       "<div class=\"nav-pages\">\n",
       "<span>Pages:</span>\n",
       "<strong>1</strong> <a href=\"apple-phones-f-48-0-p2.php\">2</a> <a href=\"apple-phones-f-48-0-p3.php\">3</a> </div>\n",
       "<div class=\"col col-1-5 pages-next-prev float-right\">\n",
       "<a class=\"disabled pages-prev\" href=\"#1\" title=\"Previous page\"></a> <a class=\"pages-next\" href=\"apple-phones-f-48-0-p2.php\" title=\"Next page\"></a>\n",
       "</div>\n",
       "</div>\n",
       "<!-- <div id=\"body-top-nav-empty\">\n",
       "</div> -->\n",
       "</div>\n",
       "<aside class=\"sidebar col left\">\n",
       "<div class=\"brandmenu-v2 light l-box clearfix\">\n",
       "<p class=\"pad\">\n",
       "<a class=\"pad-single pad-finder\" href=\"search.php3\">\n",
       "<i class=\"head-icon icon-search-right\"></i>\n",
       "<span>Phone finder</span></a>\n",
       "</p>\n",
       "<ul>\n",
       "<li><a href=\"samsung-phones-9.php\">Samsung</a></li><li><a href=\"apple-phones-48.php\">Apple</a></li><li><a href=\"huawei-phones-58.php\">Huawei</a></li><li><a href=\"nokia-phones-1.php\">Nokia</a></li><li><a href=\"sony-phones-7.php\">Sony</a></li><li><a href=\"lg-phones-20.php\">LG</a></li><li><a href=\"htc-phones-45.php\">HTC</a></li><li><a href=\"motorola-phones-4.php\">Motorola</a></li><li><a href=\"lenovo-phones-73.php\">Lenovo</a></li><li><a href=\"xiaomi-phones-80.php\">Xiaomi</a></li><li><a href=\"google-phones-107.php\">Google</a></li><li><a href=\"honor-phones-121.php\">Honor</a></li><li><a href=\"oppo-phones-82.php\">Oppo</a></li><li><a href=\"realme-phones-118.php\">Realme</a></li><li><a href=\"oneplus-phones-95.php\">OnePlus</a></li><li><a href=\"vivo-phones-98.php\">vivo</a></li><li><a href=\"meizu-phones-74.php\">Meizu</a></li><li><a href=\"blackberry-phones-36.php\">BlackBerry</a></li><li><a href=\"asus-phones-46.php\">Asus</a></li><li><a href=\"alcatel-phones-5.php\">Alcatel</a></li><li><a href=\"zte-phones-62.php\">ZTE</a></li><li><a href=\"microsoft-phones-64.php\">Microsoft</a></li><li><a href=\"vodafone-phones-53.php\">Vodafone</a></li><li><a href=\"energizer-phones-106.php\">Energizer</a></li><li><a href=\"cat-phones-89.php\">Cat</a></li><li><a href=\"sharp-phones-23.php\">Sharp</a></li><li><a href=\"micromax-phones-66.php\">Micromax</a></li><li><a href=\"infinix-phones-119.php\">Infinix</a></li><li><a href=\"tcl-phones-123.php\">TCL</a></li><li><a href=\"ulefone_-phones-124.php\">Ulefone</a></li><li><a href=\"tecno-phones-120.php\">Tecno</a></li><li><a href=\"doogee-phones-129.php\">Doogee</a></li><li><a href=\"blackview-phones-116.php\">Blackview</a></li><li><a href=\"blu-phones-67.php\">BLU</a></li><li><a href=\"panasonic-phones-6.php\">Panasonic</a></li><li><a href=\"plum-phones-72.php\">Plum</a></li></ul>\n",
       "<p class=\"pad\">\n",
       "<a class=\"pad-multiple pad-allbrands\" href=\"makers.php3\">\n",
       "<i class=\"head-icon icon-mobile-phone231\"></i>\n",
       "<span>All brands</span>\n",
       "</a>\n",
       "<a class=\"pad-multiple pad-rumormill\" href=\"rumored.php3\">\n",
       "<i class=\"head-icon icon-rumored\"></i>\n",
       "<span>Rumor mill</span>\n",
       "</a>\n",
       "</p>\n",
       "</div>\n",
       "<div adonis-marker=\"\" class=\"adv banner-mpu\" data-pan-sizes=\"[[300,250]]\">\n",
       "<span class=\"ad-label\">ADVERTISEMENTS</span>\n",
       "<!-- /8095840/.2_A.35452.4_gsmarena.com_tier1 -->\n",
       "<div id=\"div-gpt-ad-gsmarenacom35452\" style=\"height:250px; width:300px;\"></div>\n",
       "</div>\n",
       "<div class=\"module reviews-xl-snazzy\">\n",
       "<h4 class=\"section-heading\">Apple reviews</h4>\n",
       "<a class=\"module-reviews-xl-link\" href=\"apple_iphone_14_pro_max-review-2482.php\">\n",
       "<img alt=\"Apple iPhone 14 Pro Max review\" class=\"module-reviews-xl-thumb\" src=\"https://fdn.gsmarena.com/imgroot/reviews/22/apple-iphone-14-pro-max/-347x151/gsmarena_002.jpg\"/>\n",
       "<div class=\"module-review-xl-title\">\n",
       "<strong>Apple iPhone 14 Pro Max review</strong>\n",
       "</div>\n",
       "</a>\n",
       "<a class=\"module-reviews-xl-link\" href=\"apple_iphone_14-review-2481.php\">\n",
       "<img alt=\"Apple iPhone 14 review\" class=\"module-reviews-xl-thumb\" src=\"https://fdn.gsmarena.com/imgroot/reviews/22/apple-iphone-14/-347x151/gsmarena_002.jpg\"/>\n",
       "<div class=\"module-review-xl-title\">\n",
       "<strong>Apple iPhone 14 review</strong>\n",
       "</div>\n",
       "</a>\n",
       "<a class=\"module-reviews-xl-link\" href=\"apple_iphone_14_pro-review-2480.php\">\n",
       "<img alt=\"Apple iPhone 14 Pro review\" class=\"module-reviews-xl-thumb\" src=\"https://fdn.gsmarena.com/imgroot/reviews/22/apple-iphone-14-pro/-347x151/gsmarena_004.jpg\"/>\n",
       "<div class=\"module-review-xl-title\">\n",
       "<strong>Apple iPhone 14 Pro review</strong>\n",
       "</div>\n",
       "</a>\n",
       "<a class=\"module-reviews-xl-link\" href=\"apple_iphone_se_2022-review-2405.php\">\n",
       "<img alt=\"Apple iPhone SE (2022) review\" class=\"module-reviews-xl-thumb\" src=\"https://fdn.gsmarena.com/imgroot/reviews/22/apple-iphone-se-2022/-347x151/gsmarena_001.jpg\"/>\n",
       "<div class=\"module-review-xl-title\">\n",
       "<strong>Apple iPhone SE (2022) review</strong>\n",
       "</div>\n",
       "</a>\n",
       "</div>\n",
       "<div class=\"adv\"><span class=\"ad-label\">ADVERTISEMENTS</span>\n",
       "<!-- /8095840/.2_A.35282.4_gsmarena.com_tier1 -->\n",
       "<!-- 300x250mid-left-mpu -->\n",
       "<div id=\"div-gpt-ad-300x250mid-left-mpugsmarenadesktop-0\" style=\"height:250px; width:300px;\"></div>\n",
       "</div>\n",
       "<div class=\"module price deals\">\n",
       "<h4 class=\"section-heading\">DAILY DEALS</h4>\n",
       "<div class=\"pricing-container\">\n",
       "<div class=\"pricing-info\">\n",
       "<button class=\"head-icon icon-info-outline\"></button>\n",
       "<div>These are the best offers from our affiliate partners. We may get a commission from qualifying\n",
       "                    sales.</div>\n",
       "</div>\n",
       "<a class=\"pricing\" data-click=\"pricecounter-js.php3?idOffer=107159&amp;idStore=11\" href=\"https://rover.ebay.com/rover/1/711-53200-19255-0/1?ff3=2&amp;toolid=10044&amp;campid=5338659500&amp;customid=gsmarena&amp;lgeo=1&amp;vectorid=229466&amp;item=304476903599\" rel=\"noopener\" target=\"_blank\">\n",
       "<img alt=\"\" class=\"image\" src=\"https://i.ebayimg.com/thumbs/images/g/50kAAOSwWB1hnKQS/s-l140.jpg\"/>\n",
       "<div class=\"details\">\n",
       "<h5>Xiaomi Redmi Note 9 Pro</h5>\n",
       "<div class=\"row2\">\n",
       "<span>64GB 6GB RAM</span>\n",
       "<span class=\"old\">$ 195.00</span>\n",
       "</div>\n",
       "<div class=\"row3\">\n",
       "<img alt=\"\" src=\"https://fdn.gsmarena.com/imgroot/static/stores/ebay-com2.png\"/>\n",
       "<span>$ 170.00</span>\n",
       "</div>\n",
       "</div>\n",
       "</a>\n",
       "<a class=\"pricing\" data-click=\"pricecounter-js.php3?idOffer=107159&amp;idStore=11\" href=\"https://www.amazon.de/dp/B09XXK45ZD?tag=gsmarena0ca-21&amp;linkCode=osi&amp;th=1&amp;psc=1\" rel=\"noopener\" target=\"_blank\">\n",
       "<img alt=\"\" class=\"image\" src=\"https://m.media-amazon.com/images/I/41YpEgiKEcL._SL500_.jpg\"/>\n",
       "<div class=\"details\">\n",
       "<h5>Xiaomi Redmi 10C</h5>\n",
       "<div class=\"row2\">\n",
       "<span>64GB 4GB RAM</span>\n",
       "<span class=\"old\">€ 145.00</span>\n",
       "</div>\n",
       "<div class=\"row3\">\n",
       "<img alt=\"\" src=\"https://fdn.gsmarena.com/imgroot/static/stores/amazon-de1.png\"/>\n",
       "<span>€ 129.00</span>\n",
       "</div>\n",
       "</div>\n",
       "</a>\n",
       "<div class=\"footer\">\n",
       "<div class=\"pad\">\n",
       "<a class=\"show-more\" href=\"deals.php3\">Show all deals</a>\n",
       "</div>\n",
       "</div>\n",
       "</div>\n",
       "</div>\n",
       "<div class=\"adv banner-mpu sticky-mpu\">\n",
       "<span class=\"ad-label\">ADVERTISEMENTS</span>\n",
       "<!-- /8095840/.2_A.34911.7_gsmarena.com_tier1 -->\n",
       "<div id=\"div-gpt-ad-300x600btfgsmarenadesktop-0\" style=\"height:600px; width:300px;\"></div>\n",
       "</div>\n",
       "</aside>\n",
       "</div><!-- id body -->\n",
       "</div><!-- id outer -->\n",
       "<div id=\"footer\">\n",
       "<div class=\"footer-logo\">\n",
       "<img alt=\"\" src=\"https://fdn2.gsmarena.com/w/css/logo-gsmarena-com.png\">\n",
       "</img></div>\n",
       "<div id=\"footmenu\">\n",
       "<p>\n",
       "<a href=\"/\">Home</a>\n",
       "<a href=\"news.php3\">News</a>\n",
       "<a href=\"reviews.php3\">Reviews</a>\n",
       "<a href=\"compare.php3\">Compare</a>\n",
       "<a href=\"network-bands.php3\">Coverage</a>\n",
       "<a href=\"glossary.php3\">Glossary</a>\n",
       "<a href=\"faq.php3\">FAQ</a>\n",
       "<a class=\"rss-icon\" href=\"rss-news-reviews.php3\">RSS feed</a>\n",
       "<a class=\"yt-icon\" href=\"https://www.youtube.com/channel/UCbLq9tsbo8peV22VxbDAfXA?sub_confirmation=1\" rel=\"noopener\" target=\"_blank\">Youtube</a>\n",
       "<a class=\"fb-icon\" href=\"https://www.facebook.com/GSMArenacom-189627474421/\" rel=\"noopener\" target=\"_blank\">Facebook</a>\n",
       "<a class=\"tw-icon\" href=\"https://twitter.com/gsmarena_com\" rel=\"noopener\" target=\"_blank\">Twitter</a>\n",
       "<a class=\"ig-icon\" href=\"https://www.instagram.com/gsmarenateam/\" rel=\"noopener\" target=\"_blank\">Instagram</a>\n",
       "</p>\n",
       "<p>\n",
       "© 2000-2022 <a href=\"team.php3\">GSMArena.com</a>\n",
       "<a href=\"#\" id=\"switch-version\">Mobile version</a>\n",
       "<a href=\"https://play.google.com/store/apps/details?id=com.gsmarena.android\" rel=\"noopener\" target=\"_blank\">Android app</a>\n",
       "<a href=\"tools.php3\">Tools</a>\n",
       "<a href=\"contact.php3\">Contact us</a>\n",
       "<a href=\"https://merch.gsmarena.com/\" target=\"_blank\">Merch store</a>\n",
       "<a href=\"privacy-policy.php3\">Privacy</a>\n",
       "<a href=\"terms.php3\">Terms of use</a>\n",
       "<a id=\"unic-gdpr\" onclick='__tcfapi(\"openunic\");return false;' style=\"display:none;cursor:pointer;\">Change Ad Consent</a>\n",
       "<a id=\"unic-ccpa\" onclick=\"window.__uspapi('openunic')\" style=\"display:none;cursor:pointer;\">Do not sell my data</a>\n",
       "</p>\n",
       "</div>\n",
       "</div>\n",
       "</div>\n",
       "<script src=\"https://fdn.gsmarena.com/vv/assets12/js/autocomplete.js\" type=\"text/javascript\"></script>\n",
       "<script language=\"javascript\" type=\"text/javascript\">\n",
       "AUTOCOMPLETE_LIST_URL = \"/quicksearch-8089.jpg\";\n",
       "$gsm.addEventListener(document, \"DOMContentLoaded\", function() \n",
       "{\n",
       "    new Autocomplete( \"topsearch-text\", \"topsearch\", true );\n",
       "}\n",
       ")\n",
       "</script>\n",
       "<script>\n",
       "\t(function(i,s,o,g,r,a,m){i['GoogleAnalyticsObject']=r;i[r]=i[r]||function(){\n",
       "\t(i[r].q=i[r].q||[]).push(arguments)},i[r].l=1*new Date();a=s.createElement(o),\n",
       "\tm=s.getElementsByTagName(o)[0];a.async=1;a.src=g;m.parentNode.insertBefore(a,m)\n",
       "\t})(window,document,'script','//www.google-analytics.com/analytics.js','ga');\n",
       "\n",
       "\tga('create', 'UA-131096-1', 'auto' );\n",
       "\tga('set', 'anonymizeIp', true);\n",
       "\tga('send', 'pageview'\n",
       ", { 'dimension2': '2', 'dimension3': 'DCH' }\n",
       "\t);\n",
       "\n",
       "</script>\n",
       "<!-- /8095840/.2_A.34916.46_gsmarena.com_tier1 -->\n",
       "<!-- Desktop Skin -->\n",
       "<div id=\"div-gpt-ad-desktopskingsmarenadesktop-0\"></div>\n",
       "<script src=\"https://fdn.gsmarena.com/vv/assets12/js/makers.js?v=3\" type=\"text/javascript\"></script>\n",
       "</body></html>"
      ]
     },
     "execution_count": 51,
     "metadata": {},
     "output_type": "execute_result"
    }
   ],
   "source": [
    "brand_doc"
   ]
  },
  {
   "cell_type": "markdown",
   "metadata": {},
   "source": [
    "Saving the file in html format"
   ]
  },
  {
   "cell_type": "code",
   "execution_count": 52,
   "metadata": {},
   "outputs": [],
   "source": [
    "with open('Apple.html' , 'w') as f:\n",
    "    f.write(response.text)"
   ]
  },
  {
   "cell_type": "markdown",
   "metadata": {},
   "source": [
    "![](https://i.imgur.com/1jQECzy.png)"
   ]
  },
  {
   "cell_type": "markdown",
   "metadata": {},
   "source": [
    "Image From The Website Downloaded Apple.html"
   ]
  },
  {
   "cell_type": "markdown",
   "metadata": {},
   "source": [
    "![](https://i.imgur.com/e93IS7y.png)"
   ]
  },
  {
   "cell_type": "markdown",
   "metadata": {},
   "source": [
    "![](https://i.imgur.com/ZZ7TO7c.png)"
   ]
  },
  {
   "cell_type": "markdown",
   "metadata": {},
   "source": [
    "After inspecting all the data is present in div tag"
   ]
  },
  {
   "cell_type": "code",
   "execution_count": 53,
   "metadata": {},
   "outputs": [],
   "source": [
    "brand_mobile_divison = brand_doc.find('div',class_='makers')"
   ]
  },
  {
   "cell_type": "code",
   "execution_count": 54,
   "metadata": {},
   "outputs": [
    {
     "data": {
      "text/plain": [
       "5"
      ]
     },
     "execution_count": 54,
     "metadata": {},
     "output_type": "execute_result"
    }
   ],
   "source": [
    "len(brand_mobile_divison)"
   ]
  },
  {
   "cell_type": "code",
   "execution_count": 55,
   "metadata": {},
   "outputs": [
    {
     "data": {
      "text/plain": [
       "<div class=\"makers\">\n",
       "<ul>\n",
       "<li><a href=\"apple_iphone_14_pro_max-11773.php\"><img src=\"https://fdn2.gsmarena.com/vv/bigpic/apple-iphone-14-pro-max-.jpg\" title=\"Apple iPhone 14 Pro Max smartphone. Announced Sep 2022. Features 6.7″  display, Apple A16 Bionic chipset, 4323 mAh battery, 1024 GB storage, 6 GB RAM, Ceramic Shield glass.\"/><strong><span>iPhone 14 Pro Max</span></strong></a></li><li><a href=\"apple_iphone_14_pro-11860.php\"><img src=\"https://fdn2.gsmarena.com/vv/bigpic/apple-iphone-14-pro.jpg\" title=\"Apple iPhone 14 Pro smartphone. Announced Sep 2022. Features 6.1″  display, Apple A16 Bionic chipset, 3200 mAh battery, 1024 GB storage, 6 GB RAM, Ceramic Shield glass.\"/><strong><span>iPhone 14 Pro</span></strong></a></li><li><a href=\"apple_iphone_14_plus-11862.php\"><img src=\"https://fdn2.gsmarena.com/vv/bigpic/apple-iphone-14-plus.jpg\" title=\"Apple iPhone 14 Plus smartphone. Announced Sep 2022. Features 6.7″  display, Apple A15 Bionic chipset, 4323 mAh battery, 512 GB storage, 6 GB RAM, Ceramic Shield glass.\"/><strong><span>iPhone 14 Plus</span></strong></a></li><li><a href=\"apple_iphone_14-11861.php\"><img src=\"https://fdn2.gsmarena.com/vv/bigpic/apple-iphone-14.jpg\" title=\"Apple iPhone 14 smartphone. Announced Sep 2022. Features 6.1″  display, Apple A15 Bionic chipset, 3279 mAh battery, 512 GB storage, 6 GB RAM, Ceramic Shield glass.\"/><strong><span>iPhone 14</span></strong></a></li><li><a href=\"apple_watch_ultra-11827.php\"><img src=\"https://fdn2.gsmarena.com/vv/bigpic/apple-watch-ultra.jpg\" title=\"Apple Watch Ultra watch. Announced Sep 2022. Features 1.92″  display, Apple S8 chipset, 542 mAh battery, 32 GB storage, MIL-STD 810H certified, Sapphire crystal glass.\"/><strong><span>Watch Ultra</span></strong></a></li><li><a href=\"apple_watch_series_8-11866.php\"><img src=\"https://fdn2.gsmarena.com/vv/bigpic/apple-watch-8.jpg\" title=\"Apple Watch Series 8 watch. Announced Sep 2022. Features 1.9″  display, Apple S8 chipset, 308 mAh battery, 32 GB storage, 1000 MB RAM, IP6X certified, Sapphire crystal glass.\"/><strong><span>Watch Series 8</span></strong></a></li><li><a href=\"apple_watch_series_8_aluminum-11864.php\"><img src=\"https://fdn2.gsmarena.com/vv/bigpic/apple-watch-8-aluminum.jpg\" title=\"Apple Watch Series 8 Aluminum watch. Announced Sep 2022. Features 1.9″  display, Apple S8 chipset, 308 mAh battery, 32 GB storage, 1000 MB RAM, IP6X certified, Ion-X strengthened glass.\"/><strong><span>Watch Series 8 Aluminum</span></strong></a></li><li><a href=\"apple_watch_se_(2022)-11865.php\"><img src=\"https://fdn2.gsmarena.com/vv/bigpic/apple-watch-8se-2022.jpg\" title=\"Apple Watch SE (2022) watch. Announced Sep 2022. Features 1.78″  display, Apple S8 chipset, 296 mAh battery, 32 GB storage, 1000 MB RAM, Ion-X strengthened glass.\"/><strong><span>Watch SE (2022)</span></strong></a></li><li><a href=\"apple_iphone_se_(2022)-11410.php\"><img src=\"https://fdn2.gsmarena.com/vv/bigpic/apple-iphone-se-2022.jpg\" title=\"Apple iPhone SE (2022) smartphone. Announced Mar 2022. Features 4.7″  display, Apple A15 Bionic chipset, 2018 mAh battery, 256 GB storage, 4 GB RAM, Ion-strengthened glass.\"/><strong><span>iPhone SE (2022)</span></strong></a></li><li><a href=\"apple_ipad_air_(2022)-11411.php\"><img src=\"https://fdn2.gsmarena.com/vv/bigpic/apple-ipad-air-2022-new.jpg\" title=\"Apple iPad Air (2022) tablet. Announced Mar 2022. Features 10.9″  display, Apple M1 chipset, 256 GB storage, 8 GB RAM, Scratch-resistant glass.\"/><strong><span>iPad Air (2022)</span></strong></a></li><li><a href=\"apple_iphone_13_pro_max-11089.php\"><img src=\"https://fdn2.gsmarena.com/vv/bigpic/apple-iphone-13-pro-max.jpg\" title=\"Apple iPhone 13 Pro Max smartphone. Announced Sep 2021. Features 6.7″  display, Apple A15 Bionic chipset, 4352 mAh battery, 1024 GB storage, 6 GB RAM, Ceramic Shield glass.\"/><strong><span>iPhone 13 Pro Max</span></strong></a></li><li><a href=\"apple_iphone_13_pro-11102.php\"><img src=\"https://fdn2.gsmarena.com/vv/bigpic/apple-iphone-13-pro.jpg\" title=\"Apple iPhone 13 Pro smartphone. Announced Sep 2021. Features 6.1″  display, Apple A15 Bionic chipset, 3095 mAh battery, 1024 GB storage, 6 GB RAM, Ceramic Shield glass.\"/><strong><span>iPhone 13 Pro</span></strong></a></li><li><a href=\"apple_iphone_13-11103.php\"><img src=\"https://fdn2.gsmarena.com/vv/bigpic/apple-iphone-13.jpg\" title=\"Apple iPhone 13 smartphone. Announced Sep 2021. Features 6.1″  display, Apple A15 Bionic chipset, 3240 mAh battery, 512 GB storage, 4 GB RAM, Ceramic Shield glass.\"/><strong><span>iPhone 13</span></strong></a></li><li><a href=\"apple_iphone_13_mini-11104.php\"><img src=\"https://fdn2.gsmarena.com/vv/bigpic/apple-iphone-13-mini.jpg\" title=\"Apple iPhone 13 mini smartphone. Announced Sep 2021. Features 5.4″  display, Apple A15 Bionic chipset, 2438 mAh battery, 512 GB storage, 4 GB RAM, Ceramic Shield glass.\"/><strong><span>iPhone 13 mini</span></strong></a></li><li><a href=\"apple_ipad_mini_(2021)-11105.php\"><img src=\"https://fdn2.gsmarena.com/vv/bigpic/apple-ipad-mini-2021.jpg\" title=\"Apple iPad mini (2021) tablet. Announced Sep 2021. Features 8.3″  display, Apple A15 Bionic chipset, 256 GB storage, 4 GB RAM, Scratch-resistant glass.\"/><strong><span>iPad mini (2021)</span></strong></a></li><li><a href=\"apple_ipad_10_2_(2021)-11106.php\"><img src=\"https://fdn2.gsmarena.com/vv/bigpic/apple-ipad-102-2021-.jpg\" title=\"Apple iPad 10.2 (2021) tablet. Announced Sep 2021. Features 10.2″  display, Apple A13 Bionic chipset, 8557 mAh battery, 256 GB storage, 3 GB RAM, Scratch-resistant glass.\"/><strong><span>iPad 10.2 (2021)</span></strong></a></li><li><a href=\"apple_watch_edition_series_7-11147.php\"><img src=\"https://fdn2.gsmarena.com/vv/bigpic/apple-watch-series-7-titanium.jpg\" title=\"Apple Watch Edition Series 7 watch. Announced Sep 2021. Features 1.9″  display, Apple S7 chipset, 309 mAh battery, 32 GB storage, 1000 MB RAM, IP6X certified, Sapphire crystal glass.\"/><strong><span>Watch Edition Series 7</span></strong></a></li><li><a href=\"apple_watch_series_7-11146.php\"><img src=\"https://fdn2.gsmarena.com/vv/bigpic/apple-watch-series-7-stainless-steel.jpg\" title=\"Apple Watch Series 7 watch. Announced Sep 2021. Features 1.9″  display, Apple S7 chipset, 309 mAh battery, 32 GB storage, 1000 MB RAM, IP6X certified, Sapphire crystal glass.\"/><strong><span>Watch Series 7</span></strong></a></li><li><a href=\"apple_watch_series_7_aluminum-11107.php\"><img src=\"https://fdn2.gsmarena.com/vv/bigpic/apple-watch-series-7-aluminum.jpg\" title=\"Apple Watch Series 7 Aluminum watch. Announced Sep 2021. Features 1.9″  display, Apple S7 chipset, 309 mAh battery, 32 GB storage, 1000 MB RAM, IP6X certified, Ion-X strengthened glass.\"/><strong><span>Watch Series 7 Aluminum</span></strong></a></li><li><a href=\"apple_ipad_pro_12_9_(2021)-10864.php\"><img src=\"https://fdn2.gsmarena.com/vv/bigpic/apple-ipad-pro-129-2021.jpg\" title=\"Apple iPad Pro 12.9 (2021) tablet. Announced Apr 2021. Features 12.9″  display, Apple M1 chipset, 2048 GB storage, 16 GB RAM, Scratch-resistant glass.\"/><strong><span>iPad Pro 12.9 (2021)</span></strong></a></li><li><a href=\"apple_ipad_pro_11_(2021)-10865.php\"><img src=\"https://fdn2.gsmarena.com/vv/bigpic/apple-ipad-pro-11-2021.jpg\" title=\"Apple iPad Pro 11 (2021) tablet. Announced Apr 2021. Features 11.0″  display, Apple M1 chipset, 7538 mAh battery, 2048 GB storage, 16 GB RAM, Scratch-resistant glass.\"/><strong><span>iPad Pro 11 (2021)</span></strong></a></li><li><a href=\"apple_iphone_12_pro_max-10237.php\"><img src=\"https://fdn2.gsmarena.com/vv/bigpic/apple-iphone-12-pro-max-.jpg\" title=\"Apple iPhone 12 Pro Max smartphone. Announced Oct 2020. Features 6.7″  display, Apple A14 Bionic chipset, 3687 mAh battery, 512 GB storage, 6 GB RAM, Ceramic Shield glass.\"/><strong><span>iPhone 12 Pro Max</span></strong></a></li><li><a href=\"apple_iphone_12_pro-10508.php\"><img src=\"https://fdn2.gsmarena.com/vv/bigpic/apple-iphone-12-pro--.jpg\" title=\"Apple iPhone 12 Pro smartphone. Announced Oct 2020. Features 6.1″  display, Apple A14 Bionic chipset, 2815 mAh battery, 512 GB storage, 6 GB RAM, Ceramic Shield glass.\"/><strong><span>iPhone 12 Pro</span></strong></a></li><li><a href=\"apple_iphone_12-10509.php\"><img src=\"https://fdn2.gsmarena.com/vv/bigpic/apple-iphone-12.jpg\" title=\"Apple iPhone 12 smartphone. Announced Oct 2020. Features 6.1″  display, Apple A14 Bionic chipset, 2815 mAh battery, 256 GB storage, 4 GB RAM, Ceramic Shield glass.\"/><strong><span>iPhone 12</span></strong></a></li><li><a href=\"apple_iphone_12_mini-10510.php\"><img src=\"https://fdn2.gsmarena.com/vv/bigpic/apple-iphone-12-mini.jpg\" title=\"Apple iPhone 12 mini smartphone. Announced Oct 2020. Features 5.4″  display, Apple A14 Bionic chipset, 2227 mAh battery, 256 GB storage, 4 GB RAM, Ceramic Shield glass.\"/><strong><span>iPhone 12 mini</span></strong></a></li><li><a href=\"apple_ipad_air_(2020)-10444.php\"><img src=\"https://fdn2.gsmarena.com/vv/bigpic/apple-ipad-air4-2020.jpg\" title=\"Apple iPad Air (2020) tablet. Announced Sep 2020. Features 10.9″  display, Apple A14 Bionic chipset, 7606 mAh battery, 256 GB storage, 4 GB RAM, Scratch-resistant glass.\"/><strong><span>iPad Air (2020)</span></strong></a></li><li><a href=\"apple_ipad_10_2_(2020)-10445.php\"><img src=\"https://fdn2.gsmarena.com/vv/bigpic/apple-ipad8-102-inches-2020.jpg\" title=\"Apple iPad 10.2 (2020) tablet. Announced Sep 2020. Features 10.2″  display, Apple A12 Bionic chipset, 128 GB storage, 3 GB RAM, Scratch-resistant glass.\"/><strong><span>iPad 10.2 (2020)</span></strong></a></li><li><a href=\"apple_watch_se-10446.php\"><img src=\"https://fdn2.gsmarena.com/vv/bigpic/apple-watch-se.jpg\" title=\"Apple Watch SE watch. Announced Sep 2020. Features 1.78″  display, Apple S5 chipset, 32 GB storage, 1000 MB RAM, Ion-X strengthened glass.\"/><strong><span>Watch SE</span></strong></a></li><li><a href=\"apple_watch_series_6_aluminum-10447.php\"><img src=\"https://fdn2.gsmarena.com/vv/bigpic/apple-watch-s6.jpg\" title=\"Apple Watch Series 6 Aluminum watch. Announced Sep 2020. Features 1.78″  display, Apple S6 chipset, 304 mAh battery, 32 GB storage, 1000 MB RAM, Ion-X strengthened glass.\"/><strong><span>Watch Series 6 Aluminum</span></strong></a></li><li><a href=\"apple_watch_series_6-10448.php\"><img src=\"https://fdn2.gsmarena.com/vv/bigpic/apple-watch-s6-steel.jpg\" title=\"Apple Watch Series 6 watch. Announced Sep 2020. Features 1.78″  display, Apple S6 chipset, 304 mAh battery, 32 GB storage, 1000 MB RAM, Sapphire crystal glass.\"/><strong><span>Watch Series 6</span></strong></a></li><li><a href=\"apple_watch_edition_series_6-10449.php\"><img src=\"https://fdn2.gsmarena.com/vv/bigpic/apple-watch-s6-titanium.jpg\" title=\"Apple Watch Edition Series 6 watch. Announced Sep 2020. Features 1.78″  display, Apple S6 chipset, 304 mAh battery, 32 GB storage, 1000 MB RAM, Sapphire crystal glass.\"/><strong><span>Watch Edition Series 6</span></strong></a></li><li><a href=\"apple_iphone_se_(2020)-10170.php\"><img src=\"https://fdn2.gsmarena.com/vv/bigpic/apple-iphone-se-2020.jpg\" title=\"Apple iPhone SE (2020) smartphone. Announced Apr 2020. Features 4.7″  display, Apple A13 Bionic chipset, 1821 mAh battery, 256 GB storage, 3 GB RAM, Ion-strengthened glass.\"/><strong><span>iPhone SE (2020)</span></strong></a></li><li><a href=\"apple_ipad_pro_12_9_(2020)-10136.php\"><img src=\"https://fdn2.gsmarena.com/vv/bigpic/apple-ipad-pro-12-2020.jpg\" title=\"Apple iPad Pro 12.9 (2020) tablet. Announced Mar 2020. Features 12.9″  display, Apple A12Z Bionic chipset, 9720 mAh battery, 1024 GB storage, 6 GB RAM, Scratch-resistant glass.\"/><strong><span>iPad Pro 12.9 (2020)</span></strong></a></li><li><a href=\"apple_ipad_pro_11_(2020)-10137.php\"><img src=\"https://fdn2.gsmarena.com/vv/bigpic/apple-ipad-pro-11-2020.jpg\" title=\"Apple iPad Pro 11 (2020) tablet. Announced Mar 2020. Features 11.0″  display, Apple A12Z Bionic chipset, 1024 GB storage, 6 GB RAM, Scratch-resistant glass.\"/><strong><span>iPad Pro 11 (2020)</span></strong></a></li><li><a href=\"apple_iphone_11_pro_max-9846.php\"><img src=\"https://fdn2.gsmarena.com/vv/bigpic/apple-iphone-11-pro.jpg\" title=\"Apple iPhone 11 Pro Max smartphone. Announced Sep 2019. Features 6.5″  display, Apple A13 Bionic chipset, 3969 mAh battery, 512 GB storage, 4 GB RAM, Scratch-resistant glass.\"/><strong><span>iPhone 11 Pro Max</span></strong></a></li><li><a href=\"apple_iphone_11_pro-9847.php\"><img src=\"https://fdn2.gsmarena.com/vv/bigpic/apple-iphone-11-pro-max-.jpg\" title=\"Apple iPhone 11 Pro smartphone. Announced Sep 2019. Features 5.8″  display, Apple A13 Bionic chipset, 3046 mAh battery, 512 GB storage, 4 GB RAM, Scratch-resistant glass.\"/><strong><span>iPhone 11 Pro</span></strong></a></li><li><a href=\"apple_iphone_11-9848.php\"><img src=\"https://fdn2.gsmarena.com/vv/bigpic/apple-iphone-11.jpg\" title=\"Apple iPhone 11 smartphone. Announced Sep 2019. Features 6.1″  display, Apple A13 Bionic chipset, 3110 mAh battery, 256 GB storage, 4 GB RAM, Scratch-resistant glass.\"/><strong><span>iPhone 11</span></strong></a></li><li><a href=\"apple_ipad_10_2_(2019)-9857.php\"><img src=\"https://fdn2.gsmarena.com/vv/bigpic/apple-ipad7-102-inches.jpg\" title=\"Apple iPad 10.2 (2019) tablet. Announced Sep 2019. Features 10.2″  display, Apple A10 Fusion chipset, 8827 mAh battery, 128 GB storage, 3 GB RAM, Scratch-resistant glass.\"/><strong><span>iPad 10.2 (2019)</span></strong></a></li><li><a href=\"apple_watch_edition_series_5-9860.php\"><img src=\"https://fdn2.gsmarena.com/vv/bigpic/apple-watch-edition-series-5.jpg\" title=\"Apple Watch Edition Series 5 watch. Announced Sep 2019. Features 1.78″  display, Apple S5 chipset, 296 mAh battery, 32 GB storage, 1000 MB RAM, Sapphire crystal glass.\"/><strong><span>Watch Edition Series 5</span></strong></a></li><li><a href=\"apple_watch_series_5-9859.php\"><img src=\"https://fdn2.gsmarena.com/vv/bigpic/apple-watch-series-5.jpg\" title=\"Apple Watch Series 5 watch. Announced Sep 2019. Features 1.78″  display, Apple S5 chipset, 296 mAh battery, 32 GB storage, 1000 MB RAM, Sapphire crystal glass.\"/><strong><span>Watch Series 5</span></strong></a></li>\n",
       "</ul>\n",
       "<br class=\"clear\"/>\n",
       "</div>"
      ]
     },
     "execution_count": 55,
     "metadata": {},
     "output_type": "execute_result"
    }
   ],
   "source": [
    "brand_mobile_divison"
   ]
  },
  {
   "cell_type": "code",
   "execution_count": 56,
   "metadata": {},
   "outputs": [],
   "source": [
    "brand_mobile_tags = brand_mobile_divison.find_all('li')"
   ]
  },
  {
   "cell_type": "code",
   "execution_count": 57,
   "metadata": {},
   "outputs": [
    {
     "data": {
      "text/plain": [
       "40"
      ]
     },
     "execution_count": 57,
     "metadata": {},
     "output_type": "execute_result"
    }
   ],
   "source": [
    "len(brand_mobile_tags)"
   ]
  },
  {
   "cell_type": "markdown",
   "metadata": {},
   "source": [
    "We have Found that apple brand made 40 mobiles launched in recent times"
   ]
  },
  {
   "cell_type": "code",
   "execution_count": 58,
   "metadata": {},
   "outputs": [
    {
     "data": {
      "text/plain": [
       "<li><a href=\"apple_iphone_14_pro_max-11773.php\"><img src=\"https://fdn2.gsmarena.com/vv/bigpic/apple-iphone-14-pro-max-.jpg\" title=\"Apple iPhone 14 Pro Max smartphone. Announced Sep 2022. Features 6.7″  display, Apple A16 Bionic chipset, 4323 mAh battery, 1024 GB storage, 6 GB RAM, Ceramic Shield glass.\"/><strong><span>iPhone 14 Pro Max</span></strong></a></li>"
      ]
     },
     "execution_count": 58,
     "metadata": {},
     "output_type": "execute_result"
    }
   ],
   "source": [
    "first_mobile=brand_mobile_tags[0] #first device under a brand\n",
    "first_mobile"
   ]
  },
  {
   "cell_type": "markdown",
   "metadata": {},
   "source": [
    "Its look Like we have Pretty Good Rich Data from li tag "
   ]
  },
  {
   "cell_type": "markdown",
   "metadata": {},
   "source": [
    "Within li tag there we have img tag . this tag  will help to extract the data for device name , launch_date ,features ,mobile_urls"
   ]
  },
  {
   "cell_type": "code",
   "execution_count": 59,
   "metadata": {},
   "outputs": [
    {
     "data": {
      "text/plain": [
       "'Apple iPhone 14 Pro Max smartphone. Announced Sep 2022. Features 6.7″  display, Apple A16 Bionic chipset, 4323 mAh battery, 1024 GB storage, 6 GB RAM, Ceramic Shield glass.'"
      ]
     },
     "execution_count": 59,
     "metadata": {},
     "output_type": "execute_result"
    }
   ],
   "source": [
    "data = first_mobile.find('img')[\"title\"]\n",
    "data"
   ]
  },
  {
   "cell_type": "markdown",
   "metadata": {},
   "source": [
    "Split Function used to split the data for getting required formats"
   ]
  },
  {
   "cell_type": "code",
   "execution_count": 60,
   "metadata": {},
   "outputs": [
    {
     "data": {
      "text/plain": [
       "['Apple iPhone 14 Pro Max smartphone',\n",
       " ' Announced Sep 2022',\n",
       " ' Features 6',\n",
       " '7″  display, Apple A16 Bionic chipset, 4323 mAh battery, 1024 GB storage, 6 GB RAM, Ceramic Shield glass',\n",
       " '']"
      ]
     },
     "execution_count": 60,
     "metadata": {},
     "output_type": "execute_result"
    }
   ],
   "source": [
    "data_list=data.split(\".\")\n",
    "data_list"
   ]
  },
  {
   "cell_type": "code",
   "execution_count": 61,
   "metadata": {},
   "outputs": [
    {
     "data": {
      "text/plain": [
       "'Apple iPhone 14 Pro Max smartphone'"
      ]
     },
     "execution_count": 61,
     "metadata": {},
     "output_type": "execute_result"
    }
   ],
   "source": [
    "first_mobile_name = data_list[0]\n",
    "first_mobile_name"
   ]
  },
  {
   "cell_type": "markdown",
   "metadata": {},
   "source": [
    "We have Extracted the Mobile Name  'Apple iPhone 14 Pro Max smartphone'"
   ]
  },
  {
   "cell_type": "code",
   "execution_count": 62,
   "metadata": {},
   "outputs": [
    {
     "data": {
      "text/plain": [
       "' Announced Sep 2022'"
      ]
     },
     "execution_count": 62,
     "metadata": {},
     "output_type": "execute_result"
    }
   ],
   "source": [
    "first_mobile_launch_date = data_list[1]\n",
    "first_mobile_launch_date"
   ]
  },
  {
   "cell_type": "markdown",
   "metadata": {},
   "source": [
    "We Have Extracted the Date it is Announced"
   ]
  },
  {
   "cell_type": "markdown",
   "metadata": {},
   "source": [
    "The a tag which has href as attribute has data for device"
   ]
  },
  {
   "cell_type": "code",
   "execution_count": 63,
   "metadata": {},
   "outputs": [],
   "source": [
    "first_mobile_url = first_mobile.find('a')['href']"
   ]
  },
  {
   "cell_type": "code",
   "execution_count": 64,
   "metadata": {},
   "outputs": [
    {
     "data": {
      "text/plain": [
       "'apple_iphone_14_pro_max-11773.php'"
      ]
     },
     "execution_count": 64,
     "metadata": {},
     "output_type": "execute_result"
    }
   ],
   "source": [
    "first_mobile_url"
   ]
  },
  {
   "cell_type": "markdown",
   "metadata": {},
   "source": [
    "We have got the url for First mobile device. This when added with root or base url we will get the complete url "
   ]
  },
  {
   "cell_type": "markdown",
   "metadata": {},
   "source": [
    "The remain data after the URl is of feature. So we used it to extract data of feature file"
   ]
  },
  {
   "cell_type": "code",
   "execution_count": 66,
   "metadata": {},
   "outputs": [
    {
     "data": {
      "text/plain": [
       "' Features 6.7″  display, Apple A16 Bionic chipset, 4323 mAh battery, 1024 GB storage, 6 GB RAM, Ceramic Shield glass'"
      ]
     },
     "execution_count": 66,
     "metadata": {},
     "output_type": "execute_result"
    }
   ],
   "source": [
    "tech = \"\"\n",
    "    \n",
    "for i in range(2,len(data_list)):\n",
    "    if(i == 3):\n",
    "        tech = tech + '.'\n",
    "    tech = tech + data_list[i]\n",
    "        \n",
    "tech "
   ]
  },
  {
   "cell_type": "markdown",
   "metadata": {},
   "source": [
    "We have got the data of first_mobile features"
   ]
  },
  {
   "cell_type": "markdown",
   "metadata": {},
   "source": [
    "We will Now Put all required data in one for loop"
   ]
  },
  {
   "cell_type": "code",
   "execution_count": 67,
   "metadata": {},
   "outputs": [],
   "source": [
    "# Creating list for collecting data\n",
    "name = []\n",
    "launch_date = []\n",
    "features = []\n",
    "mobile_urls = []\n",
    "\n",
    "for mobile in brand_mobile_tags:\n",
    "    data=mobile.find('img')[\"title\"]  # resource containg all the data\n",
    "    link = \"https://www.gsmarena.com/\"+mobile.find('a')[\"href\"] # data containg web page URL\n",
    "    mobile_urls.append(link) # adding every Brand URL in mobile_urls\n",
    "    l = data.split(\".\") # spliting all the data and creating a list out of it\n",
    "    last = len(l) - 1\n",
    "    name.append(l[0]) # adding device name in name list\n",
    "    launch_date.append(l[1]) # adding launch date in launch_date list\n",
    "    \n",
    "    tech = \"\" \n",
    "    \n",
    "    for i in range(2,len(l)):\n",
    "        if(i == 3):\n",
    "            tech = tech + '.'\n",
    "        tech = tech + l[i]\n",
    "        \n",
    "    features.append(tech) # adding feature in features list\n"
   ]
  },
  {
   "cell_type": "code",
   "execution_count": 68,
   "metadata": {},
   "outputs": [
    {
     "data": {
      "text/plain": [
       "['Apple iPhone 14 Pro Max smartphone',\n",
       " 'Apple iPhone 14 Pro smartphone',\n",
       " 'Apple iPhone 14 Plus smartphone',\n",
       " 'Apple iPhone 14 smartphone',\n",
       " 'Apple Watch Ultra watch',\n",
       " 'Apple Watch Series 8 watch',\n",
       " 'Apple Watch Series 8 Aluminum watch',\n",
       " 'Apple Watch SE (2022) watch',\n",
       " 'Apple iPhone SE (2022) smartphone',\n",
       " 'Apple iPad Air (2022) tablet']"
      ]
     },
     "execution_count": 68,
     "metadata": {},
     "output_type": "execute_result"
    }
   ],
   "source": [
    "name[:10] #lets get for first 10 mobiles"
   ]
  },
  {
   "cell_type": "code",
   "execution_count": 69,
   "metadata": {},
   "outputs": [
    {
     "data": {
      "text/plain": [
       "[' Announced Sep 2022',\n",
       " ' Announced Sep 2022',\n",
       " ' Announced Sep 2022',\n",
       " ' Announced Sep 2022',\n",
       " ' Announced Sep 2022',\n",
       " ' Announced Sep 2022',\n",
       " ' Announced Sep 2022',\n",
       " ' Announced Sep 2022',\n",
       " ' Announced Mar 2022',\n",
       " ' Announced Mar 2022']"
      ]
     },
     "execution_count": 69,
     "metadata": {},
     "output_type": "execute_result"
    }
   ],
   "source": [
    "launch_date[:10] # launch date of first 10 mobiles"
   ]
  },
  {
   "cell_type": "code",
   "execution_count": 70,
   "metadata": {},
   "outputs": [
    {
     "data": {
      "text/plain": [
       "[' Features 6.7″  display, Apple A16 Bionic chipset, 4323 mAh battery, 1024 GB storage, 6 GB RAM, Ceramic Shield glass',\n",
       " ' Features 6.1″  display, Apple A16 Bionic chipset, 3200 mAh battery, 1024 GB storage, 6 GB RAM, Ceramic Shield glass',\n",
       " ' Features 6.7″  display, Apple A15 Bionic chipset, 4323 mAh battery, 512 GB storage, 6 GB RAM, Ceramic Shield glass',\n",
       " ' Features 6.1″  display, Apple A15 Bionic chipset, 3279 mAh battery, 512 GB storage, 6 GB RAM, Ceramic Shield glass',\n",
       " ' Features 1.92″  display, Apple S8 chipset, 542 mAh battery, 32 GB storage, MIL-STD 810H certified, Sapphire crystal glass',\n",
       " ' Features 1.9″  display, Apple S8 chipset, 308 mAh battery, 32 GB storage, 1000 MB RAM, IP6X certified, Sapphire crystal glass',\n",
       " ' Features 1.9″  display, Apple S8 chipset, 308 mAh battery, 32 GB storage, 1000 MB RAM, IP6X certified, Ion-X strengthened glass',\n",
       " ' Features 1.78″  display, Apple S8 chipset, 296 mAh battery, 32 GB storage, 1000 MB RAM, Ion-X strengthened glass',\n",
       " ' Features 4.7″  display, Apple A15 Bionic chipset, 2018 mAh battery, 256 GB storage, 4 GB RAM, Ion-strengthened glass',\n",
       " ' Features 10.9″  display, Apple M1 chipset, 256 GB storage, 8 GB RAM, Scratch-resistant glass']"
      ]
     },
     "execution_count": 70,
     "metadata": {},
     "output_type": "execute_result"
    }
   ],
   "source": [
    "features[:10] # features of first 10 mobiles"
   ]
  },
  {
   "cell_type": "code",
   "execution_count": 71,
   "metadata": {},
   "outputs": [
    {
     "data": {
      "text/plain": [
       "['https://www.gsmarena.com/apple_iphone_14_pro_max-11773.php',\n",
       " 'https://www.gsmarena.com/apple_iphone_14_pro-11860.php',\n",
       " 'https://www.gsmarena.com/apple_iphone_14_plus-11862.php',\n",
       " 'https://www.gsmarena.com/apple_iphone_14-11861.php',\n",
       " 'https://www.gsmarena.com/apple_watch_ultra-11827.php',\n",
       " 'https://www.gsmarena.com/apple_watch_series_8-11866.php',\n",
       " 'https://www.gsmarena.com/apple_watch_series_8_aluminum-11864.php',\n",
       " 'https://www.gsmarena.com/apple_watch_se_(2022)-11865.php',\n",
       " 'https://www.gsmarena.com/apple_iphone_se_(2022)-11410.php',\n",
       " 'https://www.gsmarena.com/apple_ipad_air_(2022)-11411.php']"
      ]
     },
     "execution_count": 71,
     "metadata": {},
     "output_type": "execute_result"
    }
   ],
   "source": [
    "mobile_urls[:10] # Device_URL'S of first 10 mobiles"
   ]
  },
  {
   "cell_type": "markdown",
   "metadata": {},
   "source": [
    "Lets Create a dictionary of brand with above created dictionary"
   ]
  },
  {
   "cell_type": "code",
   "execution_count": 72,
   "metadata": {},
   "outputs": [],
   "source": [
    "brand_dict = {\n",
    "    'Device_Names':name,\n",
    "    'Announced_Date':launch_date,\n",
    "    'Features':features,\n",
    "    'Device_Url':mobile_urls\n",
    "}"
   ]
  },
  {
   "cell_type": "code",
   "execution_count": 73,
   "metadata": {},
   "outputs": [],
   "source": [
    "brand_df = pd.DataFrame(brand_dict) # Converting into data frame from dictionary"
   ]
  },
  {
   "cell_type": "code",
   "execution_count": 74,
   "metadata": {},
   "outputs": [
    {
     "data": {
      "text/html": [
       "<div>\n",
       "<style scoped>\n",
       "    .dataframe tbody tr th:only-of-type {\n",
       "        vertical-align: middle;\n",
       "    }\n",
       "\n",
       "    .dataframe tbody tr th {\n",
       "        vertical-align: top;\n",
       "    }\n",
       "\n",
       "    .dataframe thead th {\n",
       "        text-align: right;\n",
       "    }\n",
       "</style>\n",
       "<table border=\"1\" class=\"dataframe\">\n",
       "  <thead>\n",
       "    <tr style=\"text-align: right;\">\n",
       "      <th></th>\n",
       "      <th>Device_Names</th>\n",
       "      <th>Announced_Date</th>\n",
       "      <th>Features</th>\n",
       "      <th>Device_Url</th>\n",
       "    </tr>\n",
       "  </thead>\n",
       "  <tbody>\n",
       "    <tr>\n",
       "      <th>0</th>\n",
       "      <td>Apple iPhone 14 Pro Max smartphone</td>\n",
       "      <td>Announced Sep 2022</td>\n",
       "      <td>Features 6.7″  display, Apple A16 Bionic chip...</td>\n",
       "      <td>https://www.gsmarena.com/apple_iphone_14_pro_m...</td>\n",
       "    </tr>\n",
       "    <tr>\n",
       "      <th>1</th>\n",
       "      <td>Apple iPhone 14 Pro smartphone</td>\n",
       "      <td>Announced Sep 2022</td>\n",
       "      <td>Features 6.1″  display, Apple A16 Bionic chip...</td>\n",
       "      <td>https://www.gsmarena.com/apple_iphone_14_pro-1...</td>\n",
       "    </tr>\n",
       "    <tr>\n",
       "      <th>2</th>\n",
       "      <td>Apple iPhone 14 Plus smartphone</td>\n",
       "      <td>Announced Sep 2022</td>\n",
       "      <td>Features 6.7″  display, Apple A15 Bionic chip...</td>\n",
       "      <td>https://www.gsmarena.com/apple_iphone_14_plus-...</td>\n",
       "    </tr>\n",
       "    <tr>\n",
       "      <th>3</th>\n",
       "      <td>Apple iPhone 14 smartphone</td>\n",
       "      <td>Announced Sep 2022</td>\n",
       "      <td>Features 6.1″  display, Apple A15 Bionic chip...</td>\n",
       "      <td>https://www.gsmarena.com/apple_iphone_14-11861...</td>\n",
       "    </tr>\n",
       "    <tr>\n",
       "      <th>4</th>\n",
       "      <td>Apple Watch Ultra watch</td>\n",
       "      <td>Announced Sep 2022</td>\n",
       "      <td>Features 1.92″  display, Apple S8 chipset, 54...</td>\n",
       "      <td>https://www.gsmarena.com/apple_watch_ultra-118...</td>\n",
       "    </tr>\n",
       "    <tr>\n",
       "      <th>5</th>\n",
       "      <td>Apple Watch Series 8 watch</td>\n",
       "      <td>Announced Sep 2022</td>\n",
       "      <td>Features 1.9″  display, Apple S8 chipset, 308...</td>\n",
       "      <td>https://www.gsmarena.com/apple_watch_series_8-...</td>\n",
       "    </tr>\n",
       "    <tr>\n",
       "      <th>6</th>\n",
       "      <td>Apple Watch Series 8 Aluminum watch</td>\n",
       "      <td>Announced Sep 2022</td>\n",
       "      <td>Features 1.9″  display, Apple S8 chipset, 308...</td>\n",
       "      <td>https://www.gsmarena.com/apple_watch_series_8_...</td>\n",
       "    </tr>\n",
       "    <tr>\n",
       "      <th>7</th>\n",
       "      <td>Apple Watch SE (2022) watch</td>\n",
       "      <td>Announced Sep 2022</td>\n",
       "      <td>Features 1.78″  display, Apple S8 chipset, 29...</td>\n",
       "      <td>https://www.gsmarena.com/apple_watch_se_(2022)...</td>\n",
       "    </tr>\n",
       "    <tr>\n",
       "      <th>8</th>\n",
       "      <td>Apple iPhone SE (2022) smartphone</td>\n",
       "      <td>Announced Mar 2022</td>\n",
       "      <td>Features 4.7″  display, Apple A15 Bionic chip...</td>\n",
       "      <td>https://www.gsmarena.com/apple_iphone_se_(2022...</td>\n",
       "    </tr>\n",
       "    <tr>\n",
       "      <th>9</th>\n",
       "      <td>Apple iPad Air (2022) tablet</td>\n",
       "      <td>Announced Mar 2022</td>\n",
       "      <td>Features 10.9″  display, Apple M1 chipset, 25...</td>\n",
       "      <td>https://www.gsmarena.com/apple_ipad_air_(2022)...</td>\n",
       "    </tr>\n",
       "    <tr>\n",
       "      <th>10</th>\n",
       "      <td>Apple iPhone 13 Pro Max smartphone</td>\n",
       "      <td>Announced Sep 2021</td>\n",
       "      <td>Features 6.7″  display, Apple A15 Bionic chip...</td>\n",
       "      <td>https://www.gsmarena.com/apple_iphone_13_pro_m...</td>\n",
       "    </tr>\n",
       "    <tr>\n",
       "      <th>11</th>\n",
       "      <td>Apple iPhone 13 Pro smartphone</td>\n",
       "      <td>Announced Sep 2021</td>\n",
       "      <td>Features 6.1″  display, Apple A15 Bionic chip...</td>\n",
       "      <td>https://www.gsmarena.com/apple_iphone_13_pro-1...</td>\n",
       "    </tr>\n",
       "    <tr>\n",
       "      <th>12</th>\n",
       "      <td>Apple iPhone 13 smartphone</td>\n",
       "      <td>Announced Sep 2021</td>\n",
       "      <td>Features 6.1″  display, Apple A15 Bionic chip...</td>\n",
       "      <td>https://www.gsmarena.com/apple_iphone_13-11103...</td>\n",
       "    </tr>\n",
       "    <tr>\n",
       "      <th>13</th>\n",
       "      <td>Apple iPhone 13 mini smartphone</td>\n",
       "      <td>Announced Sep 2021</td>\n",
       "      <td>Features 5.4″  display, Apple A15 Bionic chip...</td>\n",
       "      <td>https://www.gsmarena.com/apple_iphone_13_mini-...</td>\n",
       "    </tr>\n",
       "    <tr>\n",
       "      <th>14</th>\n",
       "      <td>Apple iPad mini (2021) tablet</td>\n",
       "      <td>Announced Sep 2021</td>\n",
       "      <td>Features 8.3″  display, Apple A15 Bionic chip...</td>\n",
       "      <td>https://www.gsmarena.com/apple_ipad_mini_(2021...</td>\n",
       "    </tr>\n",
       "    <tr>\n",
       "      <th>15</th>\n",
       "      <td>Apple iPad 10</td>\n",
       "      <td>2 (2021) tablet</td>\n",
       "      <td>Announced Sep 2021. Features 102″  display, A...</td>\n",
       "      <td>https://www.gsmarena.com/apple_ipad_10_2_(2021...</td>\n",
       "    </tr>\n",
       "    <tr>\n",
       "      <th>16</th>\n",
       "      <td>Apple Watch Edition Series 7 watch</td>\n",
       "      <td>Announced Sep 2021</td>\n",
       "      <td>Features 1.9″  display, Apple S7 chipset, 309...</td>\n",
       "      <td>https://www.gsmarena.com/apple_watch_edition_s...</td>\n",
       "    </tr>\n",
       "    <tr>\n",
       "      <th>17</th>\n",
       "      <td>Apple Watch Series 7 watch</td>\n",
       "      <td>Announced Sep 2021</td>\n",
       "      <td>Features 1.9″  display, Apple S7 chipset, 309...</td>\n",
       "      <td>https://www.gsmarena.com/apple_watch_series_7-...</td>\n",
       "    </tr>\n",
       "    <tr>\n",
       "      <th>18</th>\n",
       "      <td>Apple Watch Series 7 Aluminum watch</td>\n",
       "      <td>Announced Sep 2021</td>\n",
       "      <td>Features 1.9″  display, Apple S7 chipset, 309...</td>\n",
       "      <td>https://www.gsmarena.com/apple_watch_series_7_...</td>\n",
       "    </tr>\n",
       "    <tr>\n",
       "      <th>19</th>\n",
       "      <td>Apple iPad Pro 12</td>\n",
       "      <td>9 (2021) tablet</td>\n",
       "      <td>Announced Apr 2021. Features 129″  display, A...</td>\n",
       "      <td>https://www.gsmarena.com/apple_ipad_pro_12_9_(...</td>\n",
       "    </tr>\n",
       "    <tr>\n",
       "      <th>20</th>\n",
       "      <td>Apple iPad Pro 11 (2021) tablet</td>\n",
       "      <td>Announced Apr 2021</td>\n",
       "      <td>Features 11.0″  display, Apple M1 chipset, 75...</td>\n",
       "      <td>https://www.gsmarena.com/apple_ipad_pro_11_(20...</td>\n",
       "    </tr>\n",
       "    <tr>\n",
       "      <th>21</th>\n",
       "      <td>Apple iPhone 12 Pro Max smartphone</td>\n",
       "      <td>Announced Oct 2020</td>\n",
       "      <td>Features 6.7″  display, Apple A14 Bionic chip...</td>\n",
       "      <td>https://www.gsmarena.com/apple_iphone_12_pro_m...</td>\n",
       "    </tr>\n",
       "    <tr>\n",
       "      <th>22</th>\n",
       "      <td>Apple iPhone 12 Pro smartphone</td>\n",
       "      <td>Announced Oct 2020</td>\n",
       "      <td>Features 6.1″  display, Apple A14 Bionic chip...</td>\n",
       "      <td>https://www.gsmarena.com/apple_iphone_12_pro-1...</td>\n",
       "    </tr>\n",
       "    <tr>\n",
       "      <th>23</th>\n",
       "      <td>Apple iPhone 12 smartphone</td>\n",
       "      <td>Announced Oct 2020</td>\n",
       "      <td>Features 6.1″  display, Apple A14 Bionic chip...</td>\n",
       "      <td>https://www.gsmarena.com/apple_iphone_12-10509...</td>\n",
       "    </tr>\n",
       "    <tr>\n",
       "      <th>24</th>\n",
       "      <td>Apple iPhone 12 mini smartphone</td>\n",
       "      <td>Announced Oct 2020</td>\n",
       "      <td>Features 5.4″  display, Apple A14 Bionic chip...</td>\n",
       "      <td>https://www.gsmarena.com/apple_iphone_12_mini-...</td>\n",
       "    </tr>\n",
       "    <tr>\n",
       "      <th>25</th>\n",
       "      <td>Apple iPad Air (2020) tablet</td>\n",
       "      <td>Announced Sep 2020</td>\n",
       "      <td>Features 10.9″  display, Apple A14 Bionic chi...</td>\n",
       "      <td>https://www.gsmarena.com/apple_ipad_air_(2020)...</td>\n",
       "    </tr>\n",
       "    <tr>\n",
       "      <th>26</th>\n",
       "      <td>Apple iPad 10</td>\n",
       "      <td>2 (2020) tablet</td>\n",
       "      <td>Announced Sep 2020. Features 102″  display, A...</td>\n",
       "      <td>https://www.gsmarena.com/apple_ipad_10_2_(2020...</td>\n",
       "    </tr>\n",
       "    <tr>\n",
       "      <th>27</th>\n",
       "      <td>Apple Watch SE watch</td>\n",
       "      <td>Announced Sep 2020</td>\n",
       "      <td>Features 1.78″  display, Apple S5 chipset, 32...</td>\n",
       "      <td>https://www.gsmarena.com/apple_watch_se-10446.php</td>\n",
       "    </tr>\n",
       "    <tr>\n",
       "      <th>28</th>\n",
       "      <td>Apple Watch Series 6 Aluminum watch</td>\n",
       "      <td>Announced Sep 2020</td>\n",
       "      <td>Features 1.78″  display, Apple S6 chipset, 30...</td>\n",
       "      <td>https://www.gsmarena.com/apple_watch_series_6_...</td>\n",
       "    </tr>\n",
       "    <tr>\n",
       "      <th>29</th>\n",
       "      <td>Apple Watch Series 6 watch</td>\n",
       "      <td>Announced Sep 2020</td>\n",
       "      <td>Features 1.78″  display, Apple S6 chipset, 30...</td>\n",
       "      <td>https://www.gsmarena.com/apple_watch_series_6-...</td>\n",
       "    </tr>\n",
       "    <tr>\n",
       "      <th>30</th>\n",
       "      <td>Apple Watch Edition Series 6 watch</td>\n",
       "      <td>Announced Sep 2020</td>\n",
       "      <td>Features 1.78″  display, Apple S6 chipset, 30...</td>\n",
       "      <td>https://www.gsmarena.com/apple_watch_edition_s...</td>\n",
       "    </tr>\n",
       "    <tr>\n",
       "      <th>31</th>\n",
       "      <td>Apple iPhone SE (2020) smartphone</td>\n",
       "      <td>Announced Apr 2020</td>\n",
       "      <td>Features 4.7″  display, Apple A13 Bionic chip...</td>\n",
       "      <td>https://www.gsmarena.com/apple_iphone_se_(2020...</td>\n",
       "    </tr>\n",
       "    <tr>\n",
       "      <th>32</th>\n",
       "      <td>Apple iPad Pro 12</td>\n",
       "      <td>9 (2020) tablet</td>\n",
       "      <td>Announced Mar 2020. Features 129″  display, A...</td>\n",
       "      <td>https://www.gsmarena.com/apple_ipad_pro_12_9_(...</td>\n",
       "    </tr>\n",
       "    <tr>\n",
       "      <th>33</th>\n",
       "      <td>Apple iPad Pro 11 (2020) tablet</td>\n",
       "      <td>Announced Mar 2020</td>\n",
       "      <td>Features 11.0″  display, Apple A12Z Bionic ch...</td>\n",
       "      <td>https://www.gsmarena.com/apple_ipad_pro_11_(20...</td>\n",
       "    </tr>\n",
       "    <tr>\n",
       "      <th>34</th>\n",
       "      <td>Apple iPhone 11 Pro Max smartphone</td>\n",
       "      <td>Announced Sep 2019</td>\n",
       "      <td>Features 6.5″  display, Apple A13 Bionic chip...</td>\n",
       "      <td>https://www.gsmarena.com/apple_iphone_11_pro_m...</td>\n",
       "    </tr>\n",
       "    <tr>\n",
       "      <th>35</th>\n",
       "      <td>Apple iPhone 11 Pro smartphone</td>\n",
       "      <td>Announced Sep 2019</td>\n",
       "      <td>Features 5.8″  display, Apple A13 Bionic chip...</td>\n",
       "      <td>https://www.gsmarena.com/apple_iphone_11_pro-9...</td>\n",
       "    </tr>\n",
       "    <tr>\n",
       "      <th>36</th>\n",
       "      <td>Apple iPhone 11 smartphone</td>\n",
       "      <td>Announced Sep 2019</td>\n",
       "      <td>Features 6.1″  display, Apple A13 Bionic chip...</td>\n",
       "      <td>https://www.gsmarena.com/apple_iphone_11-9848.php</td>\n",
       "    </tr>\n",
       "    <tr>\n",
       "      <th>37</th>\n",
       "      <td>Apple iPad 10</td>\n",
       "      <td>2 (2019) tablet</td>\n",
       "      <td>Announced Sep 2019. Features 102″  display, A...</td>\n",
       "      <td>https://www.gsmarena.com/apple_ipad_10_2_(2019...</td>\n",
       "    </tr>\n",
       "    <tr>\n",
       "      <th>38</th>\n",
       "      <td>Apple Watch Edition Series 5 watch</td>\n",
       "      <td>Announced Sep 2019</td>\n",
       "      <td>Features 1.78″  display, Apple S5 chipset, 29...</td>\n",
       "      <td>https://www.gsmarena.com/apple_watch_edition_s...</td>\n",
       "    </tr>\n",
       "    <tr>\n",
       "      <th>39</th>\n",
       "      <td>Apple Watch Series 5 watch</td>\n",
       "      <td>Announced Sep 2019</td>\n",
       "      <td>Features 1.78″  display, Apple S5 chipset, 29...</td>\n",
       "      <td>https://www.gsmarena.com/apple_watch_series_5-...</td>\n",
       "    </tr>\n",
       "  </tbody>\n",
       "</table>\n",
       "</div>"
      ],
      "text/plain": [
       "                           Device_Names       Announced_Date  \\\n",
       "0    Apple iPhone 14 Pro Max smartphone   Announced Sep 2022   \n",
       "1        Apple iPhone 14 Pro smartphone   Announced Sep 2022   \n",
       "2       Apple iPhone 14 Plus smartphone   Announced Sep 2022   \n",
       "3            Apple iPhone 14 smartphone   Announced Sep 2022   \n",
       "4               Apple Watch Ultra watch   Announced Sep 2022   \n",
       "5            Apple Watch Series 8 watch   Announced Sep 2022   \n",
       "6   Apple Watch Series 8 Aluminum watch   Announced Sep 2022   \n",
       "7           Apple Watch SE (2022) watch   Announced Sep 2022   \n",
       "8     Apple iPhone SE (2022) smartphone   Announced Mar 2022   \n",
       "9          Apple iPad Air (2022) tablet   Announced Mar 2022   \n",
       "10   Apple iPhone 13 Pro Max smartphone   Announced Sep 2021   \n",
       "11       Apple iPhone 13 Pro smartphone   Announced Sep 2021   \n",
       "12           Apple iPhone 13 smartphone   Announced Sep 2021   \n",
       "13      Apple iPhone 13 mini smartphone   Announced Sep 2021   \n",
       "14        Apple iPad mini (2021) tablet   Announced Sep 2021   \n",
       "15                        Apple iPad 10      2 (2021) tablet   \n",
       "16   Apple Watch Edition Series 7 watch   Announced Sep 2021   \n",
       "17           Apple Watch Series 7 watch   Announced Sep 2021   \n",
       "18  Apple Watch Series 7 Aluminum watch   Announced Sep 2021   \n",
       "19                    Apple iPad Pro 12      9 (2021) tablet   \n",
       "20      Apple iPad Pro 11 (2021) tablet   Announced Apr 2021   \n",
       "21   Apple iPhone 12 Pro Max smartphone   Announced Oct 2020   \n",
       "22       Apple iPhone 12 Pro smartphone   Announced Oct 2020   \n",
       "23           Apple iPhone 12 smartphone   Announced Oct 2020   \n",
       "24      Apple iPhone 12 mini smartphone   Announced Oct 2020   \n",
       "25         Apple iPad Air (2020) tablet   Announced Sep 2020   \n",
       "26                        Apple iPad 10      2 (2020) tablet   \n",
       "27                 Apple Watch SE watch   Announced Sep 2020   \n",
       "28  Apple Watch Series 6 Aluminum watch   Announced Sep 2020   \n",
       "29           Apple Watch Series 6 watch   Announced Sep 2020   \n",
       "30   Apple Watch Edition Series 6 watch   Announced Sep 2020   \n",
       "31    Apple iPhone SE (2020) smartphone   Announced Apr 2020   \n",
       "32                    Apple iPad Pro 12      9 (2020) tablet   \n",
       "33      Apple iPad Pro 11 (2020) tablet   Announced Mar 2020   \n",
       "34   Apple iPhone 11 Pro Max smartphone   Announced Sep 2019   \n",
       "35       Apple iPhone 11 Pro smartphone   Announced Sep 2019   \n",
       "36           Apple iPhone 11 smartphone   Announced Sep 2019   \n",
       "37                        Apple iPad 10      2 (2019) tablet   \n",
       "38   Apple Watch Edition Series 5 watch   Announced Sep 2019   \n",
       "39           Apple Watch Series 5 watch   Announced Sep 2019   \n",
       "\n",
       "                                             Features  \\\n",
       "0    Features 6.7″  display, Apple A16 Bionic chip...   \n",
       "1    Features 6.1″  display, Apple A16 Bionic chip...   \n",
       "2    Features 6.7″  display, Apple A15 Bionic chip...   \n",
       "3    Features 6.1″  display, Apple A15 Bionic chip...   \n",
       "4    Features 1.92″  display, Apple S8 chipset, 54...   \n",
       "5    Features 1.9″  display, Apple S8 chipset, 308...   \n",
       "6    Features 1.9″  display, Apple S8 chipset, 308...   \n",
       "7    Features 1.78″  display, Apple S8 chipset, 29...   \n",
       "8    Features 4.7″  display, Apple A15 Bionic chip...   \n",
       "9    Features 10.9″  display, Apple M1 chipset, 25...   \n",
       "10   Features 6.7″  display, Apple A15 Bionic chip...   \n",
       "11   Features 6.1″  display, Apple A15 Bionic chip...   \n",
       "12   Features 6.1″  display, Apple A15 Bionic chip...   \n",
       "13   Features 5.4″  display, Apple A15 Bionic chip...   \n",
       "14   Features 8.3″  display, Apple A15 Bionic chip...   \n",
       "15   Announced Sep 2021. Features 102″  display, A...   \n",
       "16   Features 1.9″  display, Apple S7 chipset, 309...   \n",
       "17   Features 1.9″  display, Apple S7 chipset, 309...   \n",
       "18   Features 1.9″  display, Apple S7 chipset, 309...   \n",
       "19   Announced Apr 2021. Features 129″  display, A...   \n",
       "20   Features 11.0″  display, Apple M1 chipset, 75...   \n",
       "21   Features 6.7″  display, Apple A14 Bionic chip...   \n",
       "22   Features 6.1″  display, Apple A14 Bionic chip...   \n",
       "23   Features 6.1″  display, Apple A14 Bionic chip...   \n",
       "24   Features 5.4″  display, Apple A14 Bionic chip...   \n",
       "25   Features 10.9″  display, Apple A14 Bionic chi...   \n",
       "26   Announced Sep 2020. Features 102″  display, A...   \n",
       "27   Features 1.78″  display, Apple S5 chipset, 32...   \n",
       "28   Features 1.78″  display, Apple S6 chipset, 30...   \n",
       "29   Features 1.78″  display, Apple S6 chipset, 30...   \n",
       "30   Features 1.78″  display, Apple S6 chipset, 30...   \n",
       "31   Features 4.7″  display, Apple A13 Bionic chip...   \n",
       "32   Announced Mar 2020. Features 129″  display, A...   \n",
       "33   Features 11.0″  display, Apple A12Z Bionic ch...   \n",
       "34   Features 6.5″  display, Apple A13 Bionic chip...   \n",
       "35   Features 5.8″  display, Apple A13 Bionic chip...   \n",
       "36   Features 6.1″  display, Apple A13 Bionic chip...   \n",
       "37   Announced Sep 2019. Features 102″  display, A...   \n",
       "38   Features 1.78″  display, Apple S5 chipset, 29...   \n",
       "39   Features 1.78″  display, Apple S5 chipset, 29...   \n",
       "\n",
       "                                           Device_Url  \n",
       "0   https://www.gsmarena.com/apple_iphone_14_pro_m...  \n",
       "1   https://www.gsmarena.com/apple_iphone_14_pro-1...  \n",
       "2   https://www.gsmarena.com/apple_iphone_14_plus-...  \n",
       "3   https://www.gsmarena.com/apple_iphone_14-11861...  \n",
       "4   https://www.gsmarena.com/apple_watch_ultra-118...  \n",
       "5   https://www.gsmarena.com/apple_watch_series_8-...  \n",
       "6   https://www.gsmarena.com/apple_watch_series_8_...  \n",
       "7   https://www.gsmarena.com/apple_watch_se_(2022)...  \n",
       "8   https://www.gsmarena.com/apple_iphone_se_(2022...  \n",
       "9   https://www.gsmarena.com/apple_ipad_air_(2022)...  \n",
       "10  https://www.gsmarena.com/apple_iphone_13_pro_m...  \n",
       "11  https://www.gsmarena.com/apple_iphone_13_pro-1...  \n",
       "12  https://www.gsmarena.com/apple_iphone_13-11103...  \n",
       "13  https://www.gsmarena.com/apple_iphone_13_mini-...  \n",
       "14  https://www.gsmarena.com/apple_ipad_mini_(2021...  \n",
       "15  https://www.gsmarena.com/apple_ipad_10_2_(2021...  \n",
       "16  https://www.gsmarena.com/apple_watch_edition_s...  \n",
       "17  https://www.gsmarena.com/apple_watch_series_7-...  \n",
       "18  https://www.gsmarena.com/apple_watch_series_7_...  \n",
       "19  https://www.gsmarena.com/apple_ipad_pro_12_9_(...  \n",
       "20  https://www.gsmarena.com/apple_ipad_pro_11_(20...  \n",
       "21  https://www.gsmarena.com/apple_iphone_12_pro_m...  \n",
       "22  https://www.gsmarena.com/apple_iphone_12_pro-1...  \n",
       "23  https://www.gsmarena.com/apple_iphone_12-10509...  \n",
       "24  https://www.gsmarena.com/apple_iphone_12_mini-...  \n",
       "25  https://www.gsmarena.com/apple_ipad_air_(2020)...  \n",
       "26  https://www.gsmarena.com/apple_ipad_10_2_(2020...  \n",
       "27  https://www.gsmarena.com/apple_watch_se-10446.php  \n",
       "28  https://www.gsmarena.com/apple_watch_series_6_...  \n",
       "29  https://www.gsmarena.com/apple_watch_series_6-...  \n",
       "30  https://www.gsmarena.com/apple_watch_edition_s...  \n",
       "31  https://www.gsmarena.com/apple_iphone_se_(2020...  \n",
       "32  https://www.gsmarena.com/apple_ipad_pro_12_9_(...  \n",
       "33  https://www.gsmarena.com/apple_ipad_pro_11_(20...  \n",
       "34  https://www.gsmarena.com/apple_iphone_11_pro_m...  \n",
       "35  https://www.gsmarena.com/apple_iphone_11_pro-9...  \n",
       "36  https://www.gsmarena.com/apple_iphone_11-9848.php  \n",
       "37  https://www.gsmarena.com/apple_ipad_10_2_(2019...  \n",
       "38  https://www.gsmarena.com/apple_watch_edition_s...  \n",
       "39  https://www.gsmarena.com/apple_watch_series_5-...  "
      ]
     },
     "execution_count": 74,
     "metadata": {},
     "output_type": "execute_result"
    }
   ],
   "source": [
    "brand_df"
   ]
  },
  {
   "cell_type": "markdown",
   "metadata": {},
   "source": [
    "Now lets Make the functions for reusability with Code used From Above making it Generic"
   ]
  },
  {
   "cell_type": "markdown",
   "metadata": {},
   "source": [
    "- The Function get_mobiles_dict is used to extract the useful data.\n",
    "- The input for the function is brand_mobile_tags. \n",
    "- It will be return Brand_dict which has lists of \n",
    "   names, date, features, urls"
   ]
  },
  {
   "cell_type": "code",
   "execution_count": 6,
   "metadata": {},
   "outputs": [],
   "source": [
    "def get_mobiles_dict(brand_mobile_tags):\n",
    "    # Creating list for collecting data\n",
    "\n",
    "    name = []\n",
    "    launch_date = []\n",
    "    features = []\n",
    "    mobile_urls = []     \n",
    "    \n",
    "\n",
    "    for mobile in brand_mobile_tags:\n",
    "       \n",
    "        data=mobile.find('img')[\"title\"] # getting resource containing all the data\n",
    "        link = \"https://www.gsmarena.com/\"+mobile.find('a')[\"href\"] #for complete url\n",
    "        \n",
    "        mobile_urls.append(link) # adding complete url\n",
    "        l = data.split(\".\")  # splitting the data for col \n",
    "       \n",
    "        name.append(l[0])\n",
    "       \n",
    "        launch_date.append(l[1])\n",
    "        \n",
    "        \n",
    "        tech = \"\" \n",
    "    \n",
    "        for i in range(2,len(l)):\n",
    "            if(i == 3):\n",
    "                tech = tech + '.'\n",
    "            tech = tech + l[i]\n",
    "\n",
    "        features.append(tech) # adding feature in features list\n",
    "\n",
    "     # creating a dictionary out of list created   \n",
    "    mobiles_dict = { 'Device_Names':name, 'Announced_Date':launch_date,'Features':features, 'Device_Url':mobile_urls}\n",
    "    \n",
    "    return mobiles_dict\n",
    "        \n"
   ]
  },
  {
   "cell_type": "markdown",
   "metadata": {},
   "source": [
    "scrape _brand_mobiles() function takes a brand url and returns the required data frame"
   ]
  },
  {
   "cell_type": "code",
   "execution_count": 7,
   "metadata": {},
   "outputs": [],
   "source": [
    "def scrape_brand_mobiles(brand_page):\n",
    "    # creating a response to store the webpage of brand\n",
    "    response = requests.get(brand_page,headers = {'User-agent': 'Super Bot Power Level Over 9000'})\n",
    "    \n",
    "    if response.status_code != 200: # validation whether page is downloaded or not . code 200-> for success\n",
    "        raise Exception('Failed to load data {}'.format(brand_page)) # Exception is raised\n",
    "    \n",
    "    brand_doc = BeautifulSoup(response.text,'html.parser') # parsing the webpage for data extraction\n",
    "    brand_mobile_divison = brand_doc.find('div',class_='makers') # getting tags that consits of rich data\n",
    "    brand_mobile_tags = brand_mobile_divison.find_all('li') \n",
    "    \n",
    "    mobiles_dict = get_mobiles_dict(brand_mobile_tags) # returns a dictionary which has data of mobile\n",
    "    mobiles_df = pd.DataFrame(mobiles_dict) # create a dataframe from a dictionary\n",
    "    return mobiles_df\n",
    "    \n",
    " "
   ]
  },
  {
   "cell_type": "markdown",
   "metadata": {},
   "source": [
    "So when i call scrape_brand_mobiles it will return me dataframe all latest launched mobiles by that brand"
   ]
  },
  {
   "cell_type": "code",
   "execution_count": 11,
   "metadata": {},
   "outputs": [
    {
     "data": {
      "text/plain": [
       "'https://www.gsmarena.com/apple-phones-48.php'"
      ]
     },
     "execution_count": 11,
     "metadata": {},
     "output_type": "execute_result"
    }
   ],
   "source": [
    "Apple =\"https://www.gsmarena.com/apple-phones-48.php\" #apple phone url\n",
    "Apple"
   ]
  },
  {
   "cell_type": "code",
   "execution_count": 12,
   "metadata": {
    "scrolled": false
   },
   "outputs": [
    {
     "data": {
      "text/html": [
       "<div>\n",
       "<style scoped>\n",
       "    .dataframe tbody tr th:only-of-type {\n",
       "        vertical-align: middle;\n",
       "    }\n",
       "\n",
       "    .dataframe tbody tr th {\n",
       "        vertical-align: top;\n",
       "    }\n",
       "\n",
       "    .dataframe thead th {\n",
       "        text-align: right;\n",
       "    }\n",
       "</style>\n",
       "<table border=\"1\" class=\"dataframe\">\n",
       "  <thead>\n",
       "    <tr style=\"text-align: right;\">\n",
       "      <th></th>\n",
       "      <th>Device_Names</th>\n",
       "      <th>Announced_Date</th>\n",
       "      <th>Features</th>\n",
       "      <th>Device_Url</th>\n",
       "    </tr>\n",
       "  </thead>\n",
       "  <tbody>\n",
       "    <tr>\n",
       "      <th>0</th>\n",
       "      <td>Apple iPhone 14 Pro Max smartphone</td>\n",
       "      <td>Announced Sep 2022</td>\n",
       "      <td>Features 6.7″  display, Apple A16 Bionic chip...</td>\n",
       "      <td>https://www.gsmarena.com/apple_iphone_14_pro_m...</td>\n",
       "    </tr>\n",
       "    <tr>\n",
       "      <th>1</th>\n",
       "      <td>Apple iPhone 14 Pro smartphone</td>\n",
       "      <td>Announced Sep 2022</td>\n",
       "      <td>Features 6.1″  display, Apple A16 Bionic chip...</td>\n",
       "      <td>https://www.gsmarena.com/apple_iphone_14_pro-1...</td>\n",
       "    </tr>\n",
       "    <tr>\n",
       "      <th>2</th>\n",
       "      <td>Apple iPhone 14 Plus smartphone</td>\n",
       "      <td>Announced Sep 2022</td>\n",
       "      <td>Features 6.7″  display, Apple A15 Bionic chip...</td>\n",
       "      <td>https://www.gsmarena.com/apple_iphone_14_plus-...</td>\n",
       "    </tr>\n",
       "    <tr>\n",
       "      <th>3</th>\n",
       "      <td>Apple iPhone 14 smartphone</td>\n",
       "      <td>Announced Sep 2022</td>\n",
       "      <td>Features 6.1″  display, Apple A15 Bionic chip...</td>\n",
       "      <td>https://www.gsmarena.com/apple_iphone_14-11861...</td>\n",
       "    </tr>\n",
       "    <tr>\n",
       "      <th>4</th>\n",
       "      <td>Apple Watch Ultra watch</td>\n",
       "      <td>Announced Sep 2022</td>\n",
       "      <td>Features 1.92″  display, Apple S8 chipset, 54...</td>\n",
       "      <td>https://www.gsmarena.com/apple_watch_ultra-118...</td>\n",
       "    </tr>\n",
       "    <tr>\n",
       "      <th>5</th>\n",
       "      <td>Apple Watch Series 8 watch</td>\n",
       "      <td>Announced Sep 2022</td>\n",
       "      <td>Features 1.9″  display, Apple S8 chipset, 308...</td>\n",
       "      <td>https://www.gsmarena.com/apple_watch_series_8-...</td>\n",
       "    </tr>\n",
       "    <tr>\n",
       "      <th>6</th>\n",
       "      <td>Apple Watch Series 8 Aluminum watch</td>\n",
       "      <td>Announced Sep 2022</td>\n",
       "      <td>Features 1.9″  display, Apple S8 chipset, 308...</td>\n",
       "      <td>https://www.gsmarena.com/apple_watch_series_8_...</td>\n",
       "    </tr>\n",
       "    <tr>\n",
       "      <th>7</th>\n",
       "      <td>Apple Watch SE (2022) watch</td>\n",
       "      <td>Announced Sep 2022</td>\n",
       "      <td>Features 1.78″  display, Apple S8 chipset, 29...</td>\n",
       "      <td>https://www.gsmarena.com/apple_watch_se_(2022)...</td>\n",
       "    </tr>\n",
       "    <tr>\n",
       "      <th>8</th>\n",
       "      <td>Apple iPhone SE (2022) smartphone</td>\n",
       "      <td>Announced Mar 2022</td>\n",
       "      <td>Features 4.7″  display, Apple A15 Bionic chip...</td>\n",
       "      <td>https://www.gsmarena.com/apple_iphone_se_(2022...</td>\n",
       "    </tr>\n",
       "    <tr>\n",
       "      <th>9</th>\n",
       "      <td>Apple iPad Air (2022) tablet</td>\n",
       "      <td>Announced Mar 2022</td>\n",
       "      <td>Features 10.9″  display, Apple M1 chipset, 25...</td>\n",
       "      <td>https://www.gsmarena.com/apple_ipad_air_(2022)...</td>\n",
       "    </tr>\n",
       "    <tr>\n",
       "      <th>10</th>\n",
       "      <td>Apple iPhone 13 Pro Max smartphone</td>\n",
       "      <td>Announced Sep 2021</td>\n",
       "      <td>Features 6.7″  display, Apple A15 Bionic chip...</td>\n",
       "      <td>https://www.gsmarena.com/apple_iphone_13_pro_m...</td>\n",
       "    </tr>\n",
       "    <tr>\n",
       "      <th>11</th>\n",
       "      <td>Apple iPhone 13 Pro smartphone</td>\n",
       "      <td>Announced Sep 2021</td>\n",
       "      <td>Features 6.1″  display, Apple A15 Bionic chip...</td>\n",
       "      <td>https://www.gsmarena.com/apple_iphone_13_pro-1...</td>\n",
       "    </tr>\n",
       "    <tr>\n",
       "      <th>12</th>\n",
       "      <td>Apple iPhone 13 smartphone</td>\n",
       "      <td>Announced Sep 2021</td>\n",
       "      <td>Features 6.1″  display, Apple A15 Bionic chip...</td>\n",
       "      <td>https://www.gsmarena.com/apple_iphone_13-11103...</td>\n",
       "    </tr>\n",
       "    <tr>\n",
       "      <th>13</th>\n",
       "      <td>Apple iPhone 13 mini smartphone</td>\n",
       "      <td>Announced Sep 2021</td>\n",
       "      <td>Features 5.4″  display, Apple A15 Bionic chip...</td>\n",
       "      <td>https://www.gsmarena.com/apple_iphone_13_mini-...</td>\n",
       "    </tr>\n",
       "    <tr>\n",
       "      <th>14</th>\n",
       "      <td>Apple iPad mini (2021) tablet</td>\n",
       "      <td>Announced Sep 2021</td>\n",
       "      <td>Features 8.3″  display, Apple A15 Bionic chip...</td>\n",
       "      <td>https://www.gsmarena.com/apple_ipad_mini_(2021...</td>\n",
       "    </tr>\n",
       "    <tr>\n",
       "      <th>15</th>\n",
       "      <td>Apple iPad 10</td>\n",
       "      <td>2 (2021) tablet</td>\n",
       "      <td>Announced Sep 2021. Features 102″  display, A...</td>\n",
       "      <td>https://www.gsmarena.com/apple_ipad_10_2_(2021...</td>\n",
       "    </tr>\n",
       "    <tr>\n",
       "      <th>16</th>\n",
       "      <td>Apple Watch Edition Series 7 watch</td>\n",
       "      <td>Announced Sep 2021</td>\n",
       "      <td>Features 1.9″  display, Apple S7 chipset, 309...</td>\n",
       "      <td>https://www.gsmarena.com/apple_watch_edition_s...</td>\n",
       "    </tr>\n",
       "    <tr>\n",
       "      <th>17</th>\n",
       "      <td>Apple Watch Series 7 watch</td>\n",
       "      <td>Announced Sep 2021</td>\n",
       "      <td>Features 1.9″  display, Apple S7 chipset, 309...</td>\n",
       "      <td>https://www.gsmarena.com/apple_watch_series_7-...</td>\n",
       "    </tr>\n",
       "    <tr>\n",
       "      <th>18</th>\n",
       "      <td>Apple Watch Series 7 Aluminum watch</td>\n",
       "      <td>Announced Sep 2021</td>\n",
       "      <td>Features 1.9″  display, Apple S7 chipset, 309...</td>\n",
       "      <td>https://www.gsmarena.com/apple_watch_series_7_...</td>\n",
       "    </tr>\n",
       "    <tr>\n",
       "      <th>19</th>\n",
       "      <td>Apple iPad Pro 12</td>\n",
       "      <td>9 (2021) tablet</td>\n",
       "      <td>Announced Apr 2021. Features 129″  display, A...</td>\n",
       "      <td>https://www.gsmarena.com/apple_ipad_pro_12_9_(...</td>\n",
       "    </tr>\n",
       "    <tr>\n",
       "      <th>20</th>\n",
       "      <td>Apple iPad Pro 11 (2021) tablet</td>\n",
       "      <td>Announced Apr 2021</td>\n",
       "      <td>Features 11.0″  display, Apple M1 chipset, 75...</td>\n",
       "      <td>https://www.gsmarena.com/apple_ipad_pro_11_(20...</td>\n",
       "    </tr>\n",
       "    <tr>\n",
       "      <th>21</th>\n",
       "      <td>Apple iPhone 12 Pro Max smartphone</td>\n",
       "      <td>Announced Oct 2020</td>\n",
       "      <td>Features 6.7″  display, Apple A14 Bionic chip...</td>\n",
       "      <td>https://www.gsmarena.com/apple_iphone_12_pro_m...</td>\n",
       "    </tr>\n",
       "    <tr>\n",
       "      <th>22</th>\n",
       "      <td>Apple iPhone 12 Pro smartphone</td>\n",
       "      <td>Announced Oct 2020</td>\n",
       "      <td>Features 6.1″  display, Apple A14 Bionic chip...</td>\n",
       "      <td>https://www.gsmarena.com/apple_iphone_12_pro-1...</td>\n",
       "    </tr>\n",
       "    <tr>\n",
       "      <th>23</th>\n",
       "      <td>Apple iPhone 12 smartphone</td>\n",
       "      <td>Announced Oct 2020</td>\n",
       "      <td>Features 6.1″  display, Apple A14 Bionic chip...</td>\n",
       "      <td>https://www.gsmarena.com/apple_iphone_12-10509...</td>\n",
       "    </tr>\n",
       "    <tr>\n",
       "      <th>24</th>\n",
       "      <td>Apple iPhone 12 mini smartphone</td>\n",
       "      <td>Announced Oct 2020</td>\n",
       "      <td>Features 5.4″  display, Apple A14 Bionic chip...</td>\n",
       "      <td>https://www.gsmarena.com/apple_iphone_12_mini-...</td>\n",
       "    </tr>\n",
       "    <tr>\n",
       "      <th>25</th>\n",
       "      <td>Apple iPad Air (2020) tablet</td>\n",
       "      <td>Announced Sep 2020</td>\n",
       "      <td>Features 10.9″  display, Apple A14 Bionic chi...</td>\n",
       "      <td>https://www.gsmarena.com/apple_ipad_air_(2020)...</td>\n",
       "    </tr>\n",
       "    <tr>\n",
       "      <th>26</th>\n",
       "      <td>Apple iPad 10</td>\n",
       "      <td>2 (2020) tablet</td>\n",
       "      <td>Announced Sep 2020. Features 102″  display, A...</td>\n",
       "      <td>https://www.gsmarena.com/apple_ipad_10_2_(2020...</td>\n",
       "    </tr>\n",
       "    <tr>\n",
       "      <th>27</th>\n",
       "      <td>Apple Watch SE watch</td>\n",
       "      <td>Announced Sep 2020</td>\n",
       "      <td>Features 1.78″  display, Apple S5 chipset, 32...</td>\n",
       "      <td>https://www.gsmarena.com/apple_watch_se-10446.php</td>\n",
       "    </tr>\n",
       "    <tr>\n",
       "      <th>28</th>\n",
       "      <td>Apple Watch Series 6 Aluminum watch</td>\n",
       "      <td>Announced Sep 2020</td>\n",
       "      <td>Features 1.78″  display, Apple S6 chipset, 30...</td>\n",
       "      <td>https://www.gsmarena.com/apple_watch_series_6_...</td>\n",
       "    </tr>\n",
       "    <tr>\n",
       "      <th>29</th>\n",
       "      <td>Apple Watch Series 6 watch</td>\n",
       "      <td>Announced Sep 2020</td>\n",
       "      <td>Features 1.78″  display, Apple S6 chipset, 30...</td>\n",
       "      <td>https://www.gsmarena.com/apple_watch_series_6-...</td>\n",
       "    </tr>\n",
       "    <tr>\n",
       "      <th>30</th>\n",
       "      <td>Apple Watch Edition Series 6 watch</td>\n",
       "      <td>Announced Sep 2020</td>\n",
       "      <td>Features 1.78″  display, Apple S6 chipset, 30...</td>\n",
       "      <td>https://www.gsmarena.com/apple_watch_edition_s...</td>\n",
       "    </tr>\n",
       "    <tr>\n",
       "      <th>31</th>\n",
       "      <td>Apple iPhone SE (2020) smartphone</td>\n",
       "      <td>Announced Apr 2020</td>\n",
       "      <td>Features 4.7″  display, Apple A13 Bionic chip...</td>\n",
       "      <td>https://www.gsmarena.com/apple_iphone_se_(2020...</td>\n",
       "    </tr>\n",
       "    <tr>\n",
       "      <th>32</th>\n",
       "      <td>Apple iPad Pro 12</td>\n",
       "      <td>9 (2020) tablet</td>\n",
       "      <td>Announced Mar 2020. Features 129″  display, A...</td>\n",
       "      <td>https://www.gsmarena.com/apple_ipad_pro_12_9_(...</td>\n",
       "    </tr>\n",
       "    <tr>\n",
       "      <th>33</th>\n",
       "      <td>Apple iPad Pro 11 (2020) tablet</td>\n",
       "      <td>Announced Mar 2020</td>\n",
       "      <td>Features 11.0″  display, Apple A12Z Bionic ch...</td>\n",
       "      <td>https://www.gsmarena.com/apple_ipad_pro_11_(20...</td>\n",
       "    </tr>\n",
       "    <tr>\n",
       "      <th>34</th>\n",
       "      <td>Apple iPhone 11 Pro Max smartphone</td>\n",
       "      <td>Announced Sep 2019</td>\n",
       "      <td>Features 6.5″  display, Apple A13 Bionic chip...</td>\n",
       "      <td>https://www.gsmarena.com/apple_iphone_11_pro_m...</td>\n",
       "    </tr>\n",
       "    <tr>\n",
       "      <th>35</th>\n",
       "      <td>Apple iPhone 11 Pro smartphone</td>\n",
       "      <td>Announced Sep 2019</td>\n",
       "      <td>Features 5.8″  display, Apple A13 Bionic chip...</td>\n",
       "      <td>https://www.gsmarena.com/apple_iphone_11_pro-9...</td>\n",
       "    </tr>\n",
       "    <tr>\n",
       "      <th>36</th>\n",
       "      <td>Apple iPhone 11 smartphone</td>\n",
       "      <td>Announced Sep 2019</td>\n",
       "      <td>Features 6.1″  display, Apple A13 Bionic chip...</td>\n",
       "      <td>https://www.gsmarena.com/apple_iphone_11-9848.php</td>\n",
       "    </tr>\n",
       "    <tr>\n",
       "      <th>37</th>\n",
       "      <td>Apple iPad 10</td>\n",
       "      <td>2 (2019) tablet</td>\n",
       "      <td>Announced Sep 2019. Features 102″  display, A...</td>\n",
       "      <td>https://www.gsmarena.com/apple_ipad_10_2_(2019...</td>\n",
       "    </tr>\n",
       "    <tr>\n",
       "      <th>38</th>\n",
       "      <td>Apple Watch Edition Series 5 watch</td>\n",
       "      <td>Announced Sep 2019</td>\n",
       "      <td>Features 1.78″  display, Apple S5 chipset, 29...</td>\n",
       "      <td>https://www.gsmarena.com/apple_watch_edition_s...</td>\n",
       "    </tr>\n",
       "    <tr>\n",
       "      <th>39</th>\n",
       "      <td>Apple Watch Series 5 watch</td>\n",
       "      <td>Announced Sep 2019</td>\n",
       "      <td>Features 1.78″  display, Apple S5 chipset, 29...</td>\n",
       "      <td>https://www.gsmarena.com/apple_watch_series_5-...</td>\n",
       "    </tr>\n",
       "  </tbody>\n",
       "</table>\n",
       "</div>"
      ],
      "text/plain": [
       "                           Device_Names       Announced_Date  \\\n",
       "0    Apple iPhone 14 Pro Max smartphone   Announced Sep 2022   \n",
       "1        Apple iPhone 14 Pro smartphone   Announced Sep 2022   \n",
       "2       Apple iPhone 14 Plus smartphone   Announced Sep 2022   \n",
       "3            Apple iPhone 14 smartphone   Announced Sep 2022   \n",
       "4               Apple Watch Ultra watch   Announced Sep 2022   \n",
       "5            Apple Watch Series 8 watch   Announced Sep 2022   \n",
       "6   Apple Watch Series 8 Aluminum watch   Announced Sep 2022   \n",
       "7           Apple Watch SE (2022) watch   Announced Sep 2022   \n",
       "8     Apple iPhone SE (2022) smartphone   Announced Mar 2022   \n",
       "9          Apple iPad Air (2022) tablet   Announced Mar 2022   \n",
       "10   Apple iPhone 13 Pro Max smartphone   Announced Sep 2021   \n",
       "11       Apple iPhone 13 Pro smartphone   Announced Sep 2021   \n",
       "12           Apple iPhone 13 smartphone   Announced Sep 2021   \n",
       "13      Apple iPhone 13 mini smartphone   Announced Sep 2021   \n",
       "14        Apple iPad mini (2021) tablet   Announced Sep 2021   \n",
       "15                        Apple iPad 10      2 (2021) tablet   \n",
       "16   Apple Watch Edition Series 7 watch   Announced Sep 2021   \n",
       "17           Apple Watch Series 7 watch   Announced Sep 2021   \n",
       "18  Apple Watch Series 7 Aluminum watch   Announced Sep 2021   \n",
       "19                    Apple iPad Pro 12      9 (2021) tablet   \n",
       "20      Apple iPad Pro 11 (2021) tablet   Announced Apr 2021   \n",
       "21   Apple iPhone 12 Pro Max smartphone   Announced Oct 2020   \n",
       "22       Apple iPhone 12 Pro smartphone   Announced Oct 2020   \n",
       "23           Apple iPhone 12 smartphone   Announced Oct 2020   \n",
       "24      Apple iPhone 12 mini smartphone   Announced Oct 2020   \n",
       "25         Apple iPad Air (2020) tablet   Announced Sep 2020   \n",
       "26                        Apple iPad 10      2 (2020) tablet   \n",
       "27                 Apple Watch SE watch   Announced Sep 2020   \n",
       "28  Apple Watch Series 6 Aluminum watch   Announced Sep 2020   \n",
       "29           Apple Watch Series 6 watch   Announced Sep 2020   \n",
       "30   Apple Watch Edition Series 6 watch   Announced Sep 2020   \n",
       "31    Apple iPhone SE (2020) smartphone   Announced Apr 2020   \n",
       "32                    Apple iPad Pro 12      9 (2020) tablet   \n",
       "33      Apple iPad Pro 11 (2020) tablet   Announced Mar 2020   \n",
       "34   Apple iPhone 11 Pro Max smartphone   Announced Sep 2019   \n",
       "35       Apple iPhone 11 Pro smartphone   Announced Sep 2019   \n",
       "36           Apple iPhone 11 smartphone   Announced Sep 2019   \n",
       "37                        Apple iPad 10      2 (2019) tablet   \n",
       "38   Apple Watch Edition Series 5 watch   Announced Sep 2019   \n",
       "39           Apple Watch Series 5 watch   Announced Sep 2019   \n",
       "\n",
       "                                             Features  \\\n",
       "0    Features 6.7″  display, Apple A16 Bionic chip...   \n",
       "1    Features 6.1″  display, Apple A16 Bionic chip...   \n",
       "2    Features 6.7″  display, Apple A15 Bionic chip...   \n",
       "3    Features 6.1″  display, Apple A15 Bionic chip...   \n",
       "4    Features 1.92″  display, Apple S8 chipset, 54...   \n",
       "5    Features 1.9″  display, Apple S8 chipset, 308...   \n",
       "6    Features 1.9″  display, Apple S8 chipset, 308...   \n",
       "7    Features 1.78″  display, Apple S8 chipset, 29...   \n",
       "8    Features 4.7″  display, Apple A15 Bionic chip...   \n",
       "9    Features 10.9″  display, Apple M1 chipset, 25...   \n",
       "10   Features 6.7″  display, Apple A15 Bionic chip...   \n",
       "11   Features 6.1″  display, Apple A15 Bionic chip...   \n",
       "12   Features 6.1″  display, Apple A15 Bionic chip...   \n",
       "13   Features 5.4″  display, Apple A15 Bionic chip...   \n",
       "14   Features 8.3″  display, Apple A15 Bionic chip...   \n",
       "15   Announced Sep 2021. Features 102″  display, A...   \n",
       "16   Features 1.9″  display, Apple S7 chipset, 309...   \n",
       "17   Features 1.9″  display, Apple S7 chipset, 309...   \n",
       "18   Features 1.9″  display, Apple S7 chipset, 309...   \n",
       "19   Announced Apr 2021. Features 129″  display, A...   \n",
       "20   Features 11.0″  display, Apple M1 chipset, 75...   \n",
       "21   Features 6.7″  display, Apple A14 Bionic chip...   \n",
       "22   Features 6.1″  display, Apple A14 Bionic chip...   \n",
       "23   Features 6.1″  display, Apple A14 Bionic chip...   \n",
       "24   Features 5.4″  display, Apple A14 Bionic chip...   \n",
       "25   Features 10.9″  display, Apple A14 Bionic chi...   \n",
       "26   Announced Sep 2020. Features 102″  display, A...   \n",
       "27   Features 1.78″  display, Apple S5 chipset, 32...   \n",
       "28   Features 1.78″  display, Apple S6 chipset, 30...   \n",
       "29   Features 1.78″  display, Apple S6 chipset, 30...   \n",
       "30   Features 1.78″  display, Apple S6 chipset, 30...   \n",
       "31   Features 4.7″  display, Apple A13 Bionic chip...   \n",
       "32   Announced Mar 2020. Features 129″  display, A...   \n",
       "33   Features 11.0″  display, Apple A12Z Bionic ch...   \n",
       "34   Features 6.5″  display, Apple A13 Bionic chip...   \n",
       "35   Features 5.8″  display, Apple A13 Bionic chip...   \n",
       "36   Features 6.1″  display, Apple A13 Bionic chip...   \n",
       "37   Announced Sep 2019. Features 102″  display, A...   \n",
       "38   Features 1.78″  display, Apple S5 chipset, 29...   \n",
       "39   Features 1.78″  display, Apple S5 chipset, 29...   \n",
       "\n",
       "                                           Device_Url  \n",
       "0   https://www.gsmarena.com/apple_iphone_14_pro_m...  \n",
       "1   https://www.gsmarena.com/apple_iphone_14_pro-1...  \n",
       "2   https://www.gsmarena.com/apple_iphone_14_plus-...  \n",
       "3   https://www.gsmarena.com/apple_iphone_14-11861...  \n",
       "4   https://www.gsmarena.com/apple_watch_ultra-118...  \n",
       "5   https://www.gsmarena.com/apple_watch_series_8-...  \n",
       "6   https://www.gsmarena.com/apple_watch_series_8_...  \n",
       "7   https://www.gsmarena.com/apple_watch_se_(2022)...  \n",
       "8   https://www.gsmarena.com/apple_iphone_se_(2022...  \n",
       "9   https://www.gsmarena.com/apple_ipad_air_(2022)...  \n",
       "10  https://www.gsmarena.com/apple_iphone_13_pro_m...  \n",
       "11  https://www.gsmarena.com/apple_iphone_13_pro-1...  \n",
       "12  https://www.gsmarena.com/apple_iphone_13-11103...  \n",
       "13  https://www.gsmarena.com/apple_iphone_13_mini-...  \n",
       "14  https://www.gsmarena.com/apple_ipad_mini_(2021...  \n",
       "15  https://www.gsmarena.com/apple_ipad_10_2_(2021...  \n",
       "16  https://www.gsmarena.com/apple_watch_edition_s...  \n",
       "17  https://www.gsmarena.com/apple_watch_series_7-...  \n",
       "18  https://www.gsmarena.com/apple_watch_series_7_...  \n",
       "19  https://www.gsmarena.com/apple_ipad_pro_12_9_(...  \n",
       "20  https://www.gsmarena.com/apple_ipad_pro_11_(20...  \n",
       "21  https://www.gsmarena.com/apple_iphone_12_pro_m...  \n",
       "22  https://www.gsmarena.com/apple_iphone_12_pro-1...  \n",
       "23  https://www.gsmarena.com/apple_iphone_12-10509...  \n",
       "24  https://www.gsmarena.com/apple_iphone_12_mini-...  \n",
       "25  https://www.gsmarena.com/apple_ipad_air_(2020)...  \n",
       "26  https://www.gsmarena.com/apple_ipad_10_2_(2020...  \n",
       "27  https://www.gsmarena.com/apple_watch_se-10446.php  \n",
       "28  https://www.gsmarena.com/apple_watch_series_6_...  \n",
       "29  https://www.gsmarena.com/apple_watch_series_6-...  \n",
       "30  https://www.gsmarena.com/apple_watch_edition_s...  \n",
       "31  https://www.gsmarena.com/apple_iphone_se_(2020...  \n",
       "32  https://www.gsmarena.com/apple_ipad_pro_12_9_(...  \n",
       "33  https://www.gsmarena.com/apple_ipad_pro_11_(20...  \n",
       "34  https://www.gsmarena.com/apple_iphone_11_pro_m...  \n",
       "35  https://www.gsmarena.com/apple_iphone_11_pro-9...  \n",
       "36  https://www.gsmarena.com/apple_iphone_11-9848.php  \n",
       "37  https://www.gsmarena.com/apple_ipad_10_2_(2019...  \n",
       "38  https://www.gsmarena.com/apple_watch_edition_s...  \n",
       "39  https://www.gsmarena.com/apple_watch_series_5-...  "
      ]
     },
     "execution_count": 12,
     "metadata": {},
     "output_type": "execute_result"
    }
   ],
   "source": [
    "scrape_brand_mobiles(Apple)"
   ]
  },
  {
   "cell_type": "code",
   "execution_count": 8,
   "metadata": {},
   "outputs": [],
   "source": [
    "\n",
    "def scrape_brand_to_csv(brand_url,path): # creates a csv from given url and given path\n",
    "    \n",
    "    if(os.path.exists(path)): # check whether file exits or not\n",
    "        print(\"The file {} already exists. skipping .... \".format(path))\n",
    "        return\n",
    "    mobiles_df = scrape_brand_mobiles(brand_url) # calls to get data frame out of a given url\n",
    "    mobiles_df.to_csv(path,index=None) # creates a csv with given path\n",
    "    "
   ]
  },
  {
   "cell_type": "markdown",
   "metadata": {},
   "source": [
    "If i Call scrape_brand_to_csv it will save the dataframe to csv takes brand_url and destination path to save all csv files in the given destination"
   ]
  },
  {
   "cell_type": "code",
   "execution_count": 55,
   "metadata": {},
   "outputs": [
    {
     "name": "stdout",
     "output_type": "stream",
     "text": [
      "The file apple-check10.csv already exists. skipping .... \n"
     ]
    }
   ],
   "source": [
    "scrape_brand_to_csv(Apple,\"apple-check10.csv\")"
   ]
  },
  {
   "cell_type": "markdown",
   "metadata": {},
   "source": [
    "apple-check.csv in files tab"
   ]
  },
  {
   "cell_type": "markdown",
   "metadata": {},
   "source": [
    "![](https://i.imgur.com/OtOk1aT.png)"
   ]
  },
  {
   "cell_type": "markdown",
   "metadata": {},
   "source": [
    "view of apple-check  CSV file"
   ]
  },
  {
   "cell_type": "markdown",
   "metadata": {},
   "source": [
    "![](https://i.imgur.com/GOhb0M3.png)"
   ]
  },
  {
   "cell_type": "markdown",
   "metadata": {},
   "source": [
    "## Mega Driver Function \n",
    "Now we are going to create the driver functions which will use all the function and creates csv files for each and every brands consists of mobile data"
   ]
  },
  {
   "cell_type": "code",
   "execution_count": 9,
   "metadata": {},
   "outputs": [],
   "source": [
    "def scrape_GSMArena(): # Mega Function Which Ultilizes all Function Above and saves all CSV files\n",
    "    brands_df = scrape_brands() #for getting all brands df\n",
    "    #create a folder\n",
    "    os.makedirs('data',exist_ok=True) # creates a folder data\n",
    "    print('-----------Scraping Started---------------')\n",
    "    for index,row in brands_df.iterrows(): #iterates over brands_df and gives brands Urls for Scraping all mobiles\n",
    "        print('Scraping {} Brand from GSMArena'.format(row['Brands']))\n",
    "        scrape_brand_to_csv(row['Urls'],'data/{}.csv'.format(row['Brands']))\n",
    "    print('-----------Scraping done Successful---------------')"
   ]
  },
  {
   "cell_type": "code",
   "execution_count": 10,
   "metadata": {},
   "outputs": [
    {
     "name": "stdout",
     "output_type": "stream",
     "text": [
      "-----------Scraping Started---------------\n",
      "Scraping Acer Brand from GSMArena\n",
      "Scraping alcatel Brand from GSMArena\n",
      "Scraping Allview Brand from GSMArena\n",
      "Scraping Amazon Brand from GSMArena\n",
      "Scraping Amoi Brand from GSMArena\n",
      "Scraping Apple Brand from GSMArena\n",
      "Scraping Archos Brand from GSMArena\n",
      "Scraping Asus Brand from GSMArena\n",
      "Scraping AT&T Brand from GSMArena\n",
      "Scraping Benefon Brand from GSMArena\n",
      "Scraping BenQ Brand from GSMArena\n",
      "Scraping BenQ-Siemens Brand from GSMArena\n",
      "Scraping Bird Brand from GSMArena\n",
      "Scraping BlackBerry Brand from GSMArena\n",
      "Scraping Blackview Brand from GSMArena\n",
      "Scraping BLU Brand from GSMArena\n",
      "Scraping Bosch Brand from GSMArena\n",
      "Scraping BQ Brand from GSMArena\n",
      "Scraping Casio Brand from GSMArena\n",
      "Scraping Cat Brand from GSMArena\n",
      "Scraping Celkon Brand from GSMArena\n",
      "Scraping Chea Brand from GSMArena\n",
      "Scraping Coolpad Brand from GSMArena\n",
      "Scraping Dell Brand from GSMArena\n",
      "Scraping Doogee Brand from GSMArena\n",
      "Scraping Emporia Brand from GSMArena\n",
      "Scraping Energizer Brand from GSMArena\n",
      "Scraping Ericsson Brand from GSMArena\n",
      "Scraping Eten Brand from GSMArena\n",
      "Scraping Fairphone Brand from GSMArena\n",
      "Scraping Fujitsu Siemens Brand from GSMArena\n",
      "Scraping Garmin-Asus Brand from GSMArena\n",
      "Scraping Gigabyte Brand from GSMArena\n",
      "Scraping Gionee Brand from GSMArena\n",
      "Scraping Google Brand from GSMArena\n",
      "Scraping Haier Brand from GSMArena\n",
      "Scraping Honor Brand from GSMArena\n",
      "Scraping HP Brand from GSMArena\n",
      "Scraping HTC Brand from GSMArena\n",
      "Scraping Huawei Brand from GSMArena\n",
      "Scraping i-mate Brand from GSMArena\n",
      "Scraping i-mobile Brand from GSMArena\n",
      "Scraping Icemobile Brand from GSMArena\n",
      "Scraping Infinix Brand from GSMArena\n",
      "Scraping Innostream Brand from GSMArena\n",
      "Scraping iNQ Brand from GSMArena\n",
      "Scraping Intex Brand from GSMArena\n",
      "Scraping Jolla Brand from GSMArena\n",
      "Scraping Karbonn Brand from GSMArena\n",
      "Scraping Kyocera Brand from GSMArena\n",
      "Scraping Lava Brand from GSMArena\n",
      "Scraping LeEco Brand from GSMArena\n",
      "Scraping Lenovo Brand from GSMArena\n",
      "Scraping LG Brand from GSMArena\n",
      "Scraping Maxon Brand from GSMArena\n",
      "Scraping Maxwest Brand from GSMArena\n",
      "Scraping Meizu Brand from GSMArena\n",
      "Scraping Micromax Brand from GSMArena\n",
      "Scraping Microsoft Brand from GSMArena\n",
      "Scraping Mitac Brand from GSMArena\n",
      "Scraping Mitsubishi Brand from GSMArena\n",
      "Scraping Modu Brand from GSMArena\n",
      "Scraping Motorola Brand from GSMArena\n",
      "Scraping MWg Brand from GSMArena\n",
      "Scraping NEC Brand from GSMArena\n",
      "Scraping Neonode Brand from GSMArena\n",
      "Scraping NIU Brand from GSMArena\n",
      "Scraping Nokia Brand from GSMArena\n",
      "Scraping Nothing Brand from GSMArena\n",
      "Scraping Nvidia Brand from GSMArena\n",
      "Scraping O2 Brand from GSMArena\n",
      "Scraping OnePlus Brand from GSMArena\n",
      "Scraping Oppo Brand from GSMArena\n",
      "Scraping Orange Brand from GSMArena\n",
      "Scraping Palm Brand from GSMArena\n",
      "Scraping Panasonic Brand from GSMArena\n",
      "Scraping Pantech Brand from GSMArena\n",
      "Scraping Parla Brand from GSMArena\n",
      "Scraping Philips Brand from GSMArena\n",
      "Scraping Plum Brand from GSMArena\n",
      "Scraping Posh Brand from GSMArena\n",
      "Scraping Prestigio Brand from GSMArena\n",
      "Scraping QMobile Brand from GSMArena\n",
      "Scraping Qtek Brand from GSMArena\n",
      "Scraping Razer Brand from GSMArena\n",
      "Scraping Realme Brand from GSMArena\n",
      "Scraping Sagem Brand from GSMArena\n",
      "Scraping Samsung Brand from GSMArena\n",
      "Scraping Sendo Brand from GSMArena\n",
      "Scraping Sewon Brand from GSMArena\n",
      "Scraping Sharp Brand from GSMArena\n",
      "Scraping Siemens Brand from GSMArena\n",
      "Scraping Sonim Brand from GSMArena\n",
      "Scraping Sony Brand from GSMArena\n",
      "Scraping Sony Ericsson Brand from GSMArena\n",
      "Scraping Spice Brand from GSMArena\n",
      "Scraping T-Mobile Brand from GSMArena\n",
      "Scraping TCL Brand from GSMArena\n",
      "Scraping Tecno Brand from GSMArena\n",
      "Scraping Tel.Me. Brand from GSMArena\n",
      "Scraping Telit Brand from GSMArena\n",
      "Scraping Thuraya Brand from GSMArena\n",
      "Scraping Toshiba Brand from GSMArena\n",
      "Scraping Ulefone Brand from GSMArena\n",
      "Scraping Unnecto Brand from GSMArena\n",
      "Scraping Vertu Brand from GSMArena\n",
      "Scraping verykool Brand from GSMArena\n",
      "Scraping vivo Brand from GSMArena\n",
      "Scraping VK Mobile Brand from GSMArena\n",
      "Scraping Vodafone Brand from GSMArena\n",
      "Scraping Wiko Brand from GSMArena\n",
      "Scraping WND Brand from GSMArena\n",
      "Scraping XCute Brand from GSMArena\n",
      "Scraping Xiaomi Brand from GSMArena\n",
      "Scraping XOLO Brand from GSMArena\n",
      "Scraping Yezz Brand from GSMArena\n",
      "Scraping Yota Brand from GSMArena\n",
      "Scraping YU Brand from GSMArena\n",
      "Scraping ZTE Brand from GSMArena\n",
      "-----------Scraping done Successful---------------\n"
     ]
    }
   ],
   "source": [
    "scrape_GSMArena()"
   ]
  },
  {
   "cell_type": "markdown",
   "metadata": {},
   "source": [
    "A folder of name Data is Created. It consists of 119 Brand mobile CSV's. Its totally the All mobile Brand latestly launched devices . It is very Rich in data"
   ]
  },
  {
   "cell_type": "markdown",
   "metadata": {},
   "source": [
    "![](https://i.imgur.com/U7757Dd.png)"
   ]
  },
  {
   "cell_type": "markdown",
   "metadata": {},
   "source": [
    "![](https://i.imgur.com/lqyBBjz.png)"
   ]
  },
  {
   "cell_type": "markdown",
   "metadata": {},
   "source": [
    "## Saving Files In Data Folder at Files Section"
   ]
  },
  {
   "cell_type": "code",
   "execution_count": 62,
   "metadata": {},
   "outputs": [
    {
     "data": {
      "application/javascript": [
       "window.require && require([\"base/js/namespace\"],function(Jupyter){Jupyter.notebook.save_checkpoint()})"
      ],
      "text/plain": [
       "<IPython.core.display.Javascript object>"
      ]
     },
     "metadata": {},
     "output_type": "display_data"
    },
    {
     "name": "stdout",
     "output_type": "stream",
     "text": [
      "[jovian] Updating notebook \"yallabalaji1/gsmarena-mobile-devices-scraping\" on https://jovian.ai\u001b[0m\n",
      "[jovian] Uploading additional files...\u001b[0m\n",
      "[jovian] Committed successfully! https://jovian.ai/yallabalaji1/gsmarena-mobile-devices-scraping\u001b[0m\n"
     ]
    },
    {
     "data": {
      "text/plain": [
       "'https://jovian.ai/yallabalaji1/gsmarena-mobile-devices-scraping'"
      ]
     },
     "execution_count": 62,
     "metadata": {},
     "output_type": "execute_result"
    }
   ],
   "source": [
    "import jovian\n",
    "jovian.commit(files = [\"data/\"])"
   ]
  },
  {
   "cell_type": "markdown",
   "metadata": {},
   "source": [
    "# Summary:\n",
    "\n",
    "To summarise all that we have covered in this project \"#  WebScraping Latest Mobile-Devices from GSMArena\n",
    "\" are:\n",
    "\n",
    "1. Download the webpage using requests.\n",
    "2. Parse the HTML Source code using Beautiful Soup.\n",
    "3. Extract data like ```Brand Name ```,```Number Of Devices Launched ```,```Brand URL```into a CSV file in the format\n",
    "\n",
    "4. Compile the above information in lists and dictionaries using python.\n",
    "\n",
    "5. Extract and combine the data from Each Brand using BrandUrl from previous list.\n",
    "\n",
    "6. Write the extracted information into a CSV file in the format:\n",
    "\n",
    "```device_name```,```launched_date```,```features,device_url```\n",
    "\n",
    "7. By end we have found that in mobile industry there exists 119 brands and we got all details of latest launched devices from each every brand. Total we got 120 CSV files.\n",
    "\n",
    "\n",
    "\n"
   ]
  },
  {
   "cell_type": "markdown",
   "metadata": {},
   "source": [
    "# References:\n",
    "\n",
    "1. Web Scraping Guide [Jovian](https://jovian.ai/learn/zero-to-data-analyst-bootcamp)\n",
    "\n",
    "2. For Errors and Trouble shoot [stackoverflow](https://stackoverflow.com)\n",
    "\n",
    "3. Beautiful Soup [BS4](https://beautiful-soup-4.readthedocs.io/en/latest/)\n"
   ]
  },
  {
   "cell_type": "markdown",
   "metadata": {},
   "source": [
    "# Future Work:\n",
    "\n",
    "1. More Categorizing of Data Can be done on Feature list by using Filters and Others.\n",
    "\n",
    "2. We can also get more data by going inside every mobile page from each brand to get each and every sepcification.\n",
    "\n",
    "3. By Taking consideration from reviews inside each mobie page we can get recommend Best mobile brand and Best mobile based on specifications."
   ]
  },
  {
   "cell_type": "code",
   "execution_count": null,
   "metadata": {},
   "outputs": [
    {
     "data": {
      "application/javascript": [
       "window.require && require([\"base/js/namespace\"],function(Jupyter){Jupyter.notebook.save_checkpoint()})"
      ],
      "text/plain": [
       "<IPython.core.display.Javascript object>"
      ]
     },
     "metadata": {},
     "output_type": "display_data"
    }
   ],
   "source": [
    "import jovian\n",
    "jovian.commit()"
   ]
  },
  {
   "cell_type": "code",
   "execution_count": null,
   "metadata": {},
   "outputs": [],
   "source": []
  }
 ],
 "metadata": {
  "language_info": {
   "codemirror_mode": {
    "name": "ipython",
    "version": 3
   },
   "file_extension": ".py",
   "mimetype": "text/x-python",
   "name": "python",
   "nbconvert_exporter": "python",
   "pygments_lexer": "ipython3",
   "version": "3.9.6"
  }
 },
 "nbformat": 4,
 "nbformat_minor": 2
}